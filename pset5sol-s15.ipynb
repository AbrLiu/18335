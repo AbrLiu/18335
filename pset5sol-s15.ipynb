{
 "cells": [
  {
   "cell_type": "markdown",
   "metadata": {},
   "source": [
    "# Problem 2(c)"
   ]
  },
  {
   "cell_type": "markdown",
   "metadata": {},
   "source": [
    "## Recurrence relation\n",
    "\n",
    "This is an example from my [notes on adjoint methods for recurrence relations](http://math.mit.edu/~stevenj/18.336/recurrence2.pdf).\n",
    "\n",
    "In particular, we have a simple linear recurrence:\n",
    "$$\n",
    "x^n = Ax^{n-1} + \\begin{pmatrix} 0 \\\\ p_n \\end{pmatrix}\n",
    "$$\n",
    "in terms of parameters $p$, with initial condition:\n",
    "$$\n",
    "x^0 = b = \\begin{pmatrix} 1 \\\\ 0 \\end{pmatrix}\n",
    "$$\n",
    "and\n",
    "$$\n",
    "A = \\begin{pmatrix} \\cos\\theta & \\sin\\theta \\\\ -\\sin\\theta & \\cos\\theta \\end{pmatrix}\n",
    "$$\n",
    "We execute this recurrence for $N$ steps, and at the end we compute $g(p) = (x^N_2)^2$.  In the notes, the goal was to compute the  derivatives $d g / d p_n$ for $n = 1,\\ldots,N$.\n",
    "\n",
    "Now, we want to instead compute $d G / d p_n$ where\n",
    "$$\n",
    "G(p,n) = \\sum_{n=0}^N g(x^n)\n",
    "$$\n",
    "using the modified adjoint recurrence explained in the pset-5 solutions."
   ]
  },
  {
   "cell_type": "code",
   "execution_count": 22,
   "metadata": {
    "collapsed": false
   },
   "outputs": [
    {
     "data": {
      "text/plain": [
       "2-element Array{Int64,1}:\n",
       " 1\n",
       " 0"
      ]
     },
     "execution_count": 22,
     "metadata": {},
     "output_type": "execute_result"
    }
   ],
   "source": [
    "θ = 0.1\n",
    "A = [ cos(θ) sin(θ); -sin(θ) cos(θ)]\n",
    "N = 100\n",
    "p = [1,2,3,4,5]\n",
    "b = [1,0]"
   ]
  },
  {
   "cell_type": "code",
   "execution_count": 4,
   "metadata": {
    "collapsed": false
   },
   "outputs": [
    {
     "data": {
      "text/plain": [
       "recurrence (generic function with 1 method)"
      ]
     },
     "execution_count": 4,
     "metadata": {},
     "output_type": "execute_result"
    }
   ],
   "source": [
    "# compute G by the recurrence\n",
    "function recurrence(A, b, p)\n",
    "    x = b\n",
    "    G = x[2]^2\n",
    "    for i = 1:length(p)\n",
    "        x = A * x + [0,p[i]]\n",
    "        G += x[2]^2\n",
    "    end\n",
    "    return G\n",
    "end"
   ]
  },
  {
   "cell_type": "code",
   "execution_count": 19,
   "metadata": {
    "collapsed": false
   },
   "outputs": [
    {
     "data": {
      "text/plain": [
       "334.995658997325"
      ]
     },
     "execution_count": 19,
     "metadata": {},
     "output_type": "execute_result"
    }
   ],
   "source": [
    "recurrence(A, b, p)"
   ]
  },
  {
   "cell_type": "markdown",
   "metadata": {},
   "source": [
    "Here is the implementation of $G$ and $dG/dp$ by the adjoint method, as explained in the notes.   This involves computing the recurrence \"forward\" to obtain $x^n$, *saving* the results for each $n$ (using a $2\\times N+1$ matrix `X` here), then computing the adjoint recurrence \"backward\" to obtain $\\lambda$ and accumulate $dG/dp$."
   ]
  },
  {
   "cell_type": "code",
   "execution_count": 8,
   "metadata": {
    "collapsed": false
   },
   "outputs": [
    {
     "data": {
      "text/plain": [
       "recurrence_adjoint (generic function with 1 method)"
      ]
     },
     "execution_count": 8,
     "metadata": {},
     "output_type": "execute_result"
    }
   ],
   "source": [
    "# compute G(x) = ∑ x[2]^2, and dG/dp, by adjoint method\n",
    "function recurrence_adjoint(A, b, p)\n",
    "    X = Array(Float64, 2, length(p)+1)\n",
    "    X[:,1] = b\n",
    "    G = X[2,1]^2\n",
    "    for i = 1:length(p)\n",
    "        X[:,i+1] = A * X[:,i] + [0,p[i]]\n",
    "        G += X[2,i+1]^2\n",
    "    end\n",
    "    λ = [0, 2*X[2,end]]\n",
    "    dGdp = Array(Float64, length(p))\n",
    "    for i = length(p):-1:1\n",
    "        dGdp[i] = λ[2]\n",
    "        λ = A'λ + [0, 2*X[2,i]]\n",
    "    end\n",
    "    return G, dGdp\n",
    "end"
   ]
  },
  {
   "cell_type": "code",
   "execution_count": 20,
   "metadata": {
    "collapsed": false
   },
   "outputs": [
    {
     "data": {
      "text/plain": [
       "(334.995658997325,[62.952210001400694,62.798159815366446,58.25225472582998,47.42457090302371,28.545049656571447])"
      ]
     },
     "execution_count": 20,
     "metadata": {},
     "output_type": "execute_result"
    }
   ],
   "source": [
    "recurrence_adjoint(A, b, p)"
   ]
  },
  {
   "cell_type": "markdown",
   "metadata": {},
   "source": [
    "For comparison, we will compute $dG/dp$ by a center difference approximation: $\\partial G/\\partial p_n \\approx [G(p + e_n\\delta ) - G(p - e_n\\delta )] / 2\\delta$ for some small $\\delta$."
   ]
  },
  {
   "cell_type": "code",
   "execution_count": 31,
   "metadata": {
    "collapsed": false
   },
   "outputs": [
    {
     "data": {
      "text/plain": [
       "recurrence_FD (generic function with 2 methods)"
      ]
     },
     "execution_count": 31,
     "metadata": {},
     "output_type": "execute_result"
    }
   ],
   "source": [
    "function recurrence_FD(A, b, p, δ=1e-5)\n",
    "    G = recurrence(A, b, p)\n",
    "    dGdp = Array(Float64, length(p))\n",
    "    p′ = copy!(similar(p, Float64), p) # modify a copy of p rather than p\n",
    "    for i = 1:length(p)\n",
    "        p′[i] = p[i] + δ\n",
    "        G₊ = recurrence(A, b, p′)\n",
    "        p′[i] = p[i] - δ\n",
    "        G₋ = recurrence(A, b, p′)\n",
    "        dGdp[i] = (G₊ - G₋) / (2δ)\n",
    "        p′[i] = p[i]\n",
    "    end\n",
    "    return G, dGdp\n",
    "end"
   ]
  },
  {
   "cell_type": "markdown",
   "metadata": {},
   "source": [
    "As we might have hoped, the answers are pretty close (limited by roundoff error and/or finite-difference error):"
   ]
  },
  {
   "cell_type": "code",
   "execution_count": 32,
   "metadata": {
    "collapsed": false
   },
   "outputs": [
    {
     "data": {
      "text/plain": [
       "7.579243788848227e-9"
      ]
     },
     "execution_count": 32,
     "metadata": {},
     "output_type": "execute_result"
    }
   ],
   "source": [
    "norm(recurrence_FD(A, b, p)[2] - recurrence_adjoint(A, b, p)[2])"
   ]
  },
  {
   "cell_type": "markdown",
   "metadata": {},
   "source": [
    "In practice, it is really easy to make mistakes in computing derivatives of complicated functions by hand, so it is always important to check your results against a finite-difference approximation.\n",
    "\n",
    "It is interesting to ask what the influence of the finite-difference step $\\delta$ is in this problem, by plotting the error vs. $\\delta$:"
   ]
  },
  {
   "cell_type": "code",
   "execution_count": 33,
   "metadata": {
    "collapsed": false
   },
   "outputs": [
    {
     "data": {
      "image/png": "[encoded data removed]",
      "text/plain": [
       "PyPlot.Figure(PyObject <matplotlib.figure.Figure object at 0x31fac6e10>)"
      ]
     },
     "metadata": {},
     "output_type": "display_data"
    },
    {
     "data": {
      "text/plain": [
       "PyObject <matplotlib.text.Text object at 0x32054a190>"
      ]
     },
     "execution_count": 33,
     "metadata": {},
     "output_type": "execute_result"
    }
   ],
   "source": [
    "using PyPlot\n",
    "δ = logspace(-15, -1, 100)\n",
    "loglog(δ, [norm(recurrence_adjoint(A, b, p)[2] - recurrence_FD(A, b, p, d)[2]) for d in δ], \".-\")\n",
    "xlabel(\"finite-difference step δ\")\n",
    "ylabel(\"norm of error in dG/dp\")"
   ]
  },
  {
   "cell_type": "markdown",
   "metadata": {},
   "source": [
    "At first glance, this seems ridiculous: the errors get *monotonically worse* as $\\delta$ decreases!  How can this be right?\n",
    "\n",
    "The key point is to realize that our $G(p)$ depends *quadratically* on $p$, and a center-difference approximation is *exact* for a quadratic function *in exact arithmetic*.   So, *all* of the difference arises due to roundoff errors.  In the finite-difference approximation, the difference $G(p + e_n\\delta) - G(p - e_n\\delta)$ is the difference of two nearly equal quantities as $\\delta \\to 0$, so there is a large cancellation error in the result (i.e. the result arises from the *least* significant digits of $G$), and hence the error worsens with decreasing $\\delta$."
   ]
  }
 ],
 "metadata": {
  "kernelspec": {
   "display_name": "Julia 0.4.0-dev",
   "language": "julia",
   "name": "julia 0.4"
  },
  "language_info": {
   "name": "julia",
   "version": "0.4.0"
  }
 },
 "nbformat": 4,
 "nbformat_minor": 0
}
