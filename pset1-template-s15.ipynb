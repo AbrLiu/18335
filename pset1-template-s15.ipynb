{
 "metadata": {
  "language": "Julia",
  "name": "",
  "signature": "sha256:64ebef57b7ca120f765a7a7b9529ce7f5a09b3cd90af84d63d305bdd81d0859c"
 },
 "nbformat": 3,
 "nbformat_minor": 0,
 "worksheets": [
  {
   "cells": [
    {
     "cell_type": "heading",
     "level": 1,
     "metadata": {},
     "source": [
      "Problem 1: Floating point"
     ]
    },
    {
     "cell_type": "markdown",
     "metadata": {},
     "source": [
      "Give your solution to Trefethen problem 13.2(c) below.  Note that you can use the *Insert* menu (or ctrl-m b) to insert new code cells as needed."
     ]
    },
    {
     "cell_type": "code",
     "collapsed": false,
     "input": [],
     "language": "python",
     "metadata": {},
     "outputs": []
    },
    {
     "cell_type": "heading",
     "level": 1,
     "metadata": {},
     "source": [
      "Problem 2: Quadratic blues"
     ]
    },
    {
     "cell_type": "markdown",
     "metadata": {},
     "source": [
      "If we are solving the quadratic equation $x^2 - 2bx + c = 0$, everyone knows the quadratic formula $x_\\pm = b \\pm \\sqrt{b^2 - c}$.  However, consider the accuracy of the $x_-$ root of this equation as $c$ gets smaller:"
     ]
    },
    {
     "cell_type": "heading",
     "level": 2,
     "metadata": {},
     "source": [
      "part (a)"
     ]
    },
    {
     "cell_type": "code",
     "collapsed": false,
     "input": [
      "b = 1\n",
      "c = logspace(-20,-1,50) # 50 values from 10^-20 to 10^-1, equally spaced on a log scale\n",
      "x = b - sqrt(b^2 - c)   # x computed in the default double precision (~15 digits)\n",
      "set_bigfloat_precision(256) # 256 bits, about 80 decimal digits\n",
      "xbig = b - sqrt(b^2 - big(c)) # x computed in \"bigfloat\" precision (~80 digits)\n",
      "err = float64(abs(x - xbig) ./ abs(xbig)) # relative error, converted to double-precision to plot\n",
      "\n",
      "using PyPlot\n",
      "loglog(c, err, \"bo-\")\n",
      "xlabel(L\"c\")\n",
      "ylabel(L\"relative error in $x$\")\n",
      "title(L\"standard quadratic formula $x = b - \\sqrt{b^2 - c}$\")"
     ],
     "language": "python",
     "metadata": {},
     "outputs": []
    },
    {
     "cell_type": "heading",
     "level": 2,
     "metadata": {},
     "source": [
      "part (b)"
     ]
    },
    {
     "cell_type": "markdown",
     "metadata": {},
     "source": [
      "Now, here is a more accurate way to compute $x_-$:"
     ]
    },
    {
     "cell_type": "code",
     "collapsed": false,
     "input": [],
     "language": "python",
     "metadata": {},
     "outputs": []
    },
    {
     "cell_type": "heading",
     "level": 1,
     "metadata": {},
     "source": [
      "Problem 3: Newtonish methods"
     ]
    },
    {
     "cell_type": "markdown",
     "metadata": {},
     "source": [
      "Suppose we are trying to find a root $f(x)=0$ and we are given ways to compute $f$, $f'$, and $f''$.   You will design an algorithm to take advantage of this, and apply it to $f(x)=x^3-1$.\n",
      "\n",
      "(You should be able to base your code on the Newton square-root example from class.)"
     ]
    },
    {
     "cell_type": "code",
     "collapsed": false,
     "input": [],
     "language": "python",
     "metadata": {},
     "outputs": []
    },
    {
     "cell_type": "heading",
     "level": 1,
     "metadata": {},
     "source": [
      "Problem 5: Addition, another way"
     ]
    },
    {
     "cell_type": "code",
     "collapsed": false,
     "input": [
      "# Sum x[first:last].  This function works, but is a little slower than we would like.\n",
      "function div2sum(x, first=1, last=length(x))\n",
      "    n = last - first + 1;\n",
      "    if n < 2\n",
      "        s = zero(eltype(x))\n",
      "        for i = first:last\n",
      "            s += x[i]\n",
      "        end\n",
      "        return s\n",
      "    else\n",
      "        mid = div(first + last, 2) # find middle as (first+last)/2, rounding down\n",
      "        return div2sum(x, first, mid) + div2sum(x, mid+1, last)\n",
      "    end\n",
      "end\n",
      "\n",
      "# check its accuracy for a set logarithmically spaced n's.  Since div2sum is slow,\n",
      "# we won't go to very large n or use too many points\n",
      "N = round(Int, logspace(1,7,50)) # 50 points from 10\u00b9 to 10\u2077\n",
      "err = Float64[]\n",
      "for n in N\n",
      "    x = rand(Float32, n)\n",
      "    xdouble = float64(x)\n",
      "    push!(err, abs(div2sum(x) - sum(xdouble)) / abs(sum(xdouble)))\n",
      "end\n",
      "loglog(N, err, \"bo-\")\n",
      "title(\"simple div2sum\")\n",
      "xlabel(\"number of summands\")\n",
      "ylabel(\"relative error\")\n",
      "grid()"
     ],
     "language": "python",
     "metadata": {},
     "outputs": []
    },
    {
     "cell_type": "markdown",
     "metadata": {},
     "source": [
      "Time it vs. the built-in `sum` (which is also written in Julia):"
     ]
    },
    {
     "cell_type": "code",
     "collapsed": false,
     "input": [
      "x = rand(Float32, 10^7)\n",
      "@time div2sum(x)\n",
      "@time sum(x)"
     ],
     "language": "python",
     "metadata": {},
     "outputs": []
    },
    {
     "cell_type": "markdown",
     "metadata": {},
     "source": [
      "You should notice that it's pretty darn slow compared to `sum`, although in an absolute sense it is pretty good.  Make it faster:"
     ]
    },
    {
     "cell_type": "code",
     "collapsed": false,
     "input": [],
     "language": "python",
     "metadata": {},
     "outputs": []
    }
   ],
   "metadata": {}
  }
 ]
}