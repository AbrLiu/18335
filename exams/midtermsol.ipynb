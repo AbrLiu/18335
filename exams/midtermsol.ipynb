{
 "cells": [
  {
   "cell_type": "markdown",
   "metadata": {},
   "source": [
    "# <div style=\"text-align: center\">18.335/6.337 Midterm Exam [25 pts in total]</div>\n",
    "## <div style=\"text-align: center\">Solutions</div>"
   ]
  },
  {
   "cell_type": "markdown",
   "metadata": {},
   "source": [
    "### <div style=\"text-align: right\">Creaed by Wonseok Shin</div>"
   ]
  },
  {
   "cell_type": "markdown",
   "metadata": {},
   "source": [
    "$\\newcommand{\\Cmat}[2]{\\mathbb{C}^{#1\\times#2}}\\newcommand{\\Cvec}[1]{\\mathbb{C}^{#1}}\\newcommand{\\Rmat}[2]{\\mathbb{R}^{#1\\times#2}}\\newcommand{\\Rvec}[1]{\\mathbb{R}^{#1}}\\newcommand{\\null}{\\mathrm{null}}\\newcommand{\\range}{\\mathrm{range}}\\newcommand{\\rank}{\\mathrm{rank}}\\newcommand{\\nullity}{\\mathrm{nullity}}\\newcommand{\\sign}{\\mathrm{sign}}\\newcommand{\\norm}[1]{\\left\\|#1\\right\\|}\\newcommand{\\abs}[1]{\\left|#1\\right|}\\newcommand{\\epsmach}{\\epsilon_\\mathrm{machine}}\\newcommand{\\log}{\\mathrm{log}}\\newcommand{\\tanh}{\\mathrm{tanh}}\\newcommand{\\l}{\\lambda}\\newcommand{\\d}{\\delta}$"
   ]
  },
  {
   "cell_type": "markdown",
   "metadata": {},
   "source": [
    "## Instructions for submission\n",
    "- As usual, please archive all files (this Jupyter notebook plus other files if any) into a single ZIP file and upload it to the course website.\n",
    "- No late submission will be accepted, so please attempt to submit the first version at least 30 minutes before the submission deadline.\n",
    "- Once you submit your final solution, please make sure to download it yourself to check if it is the version you intend to submit.  (If you realize later that you've uploaded a wrong file, we will not accept late submission of the correct file, and the score of the wrong file will be your midterm exam score.) \n",
    "- In case of any technical difficulties during submission, send your solution file directly to the instructor (`wsshin@mit.edu`)."
   ]
  },
  {
   "cell_type": "markdown",
   "metadata": {},
   "source": [
    "## Function definitions\n",
    "\n",
    "The following functions are taken from previous problem sets because they are used in this midterm exam."
   ]
  },
  {
   "cell_type": "code",
   "execution_count": 1,
   "metadata": {
    "collapsed": false
   },
   "outputs": [
    {
     "data": {
      "text/plain": [
       "applyQ! (generic function with 1 method)"
      ]
     },
     "execution_count": 1,
     "metadata": {},
     "output_type": "execute_result"
    }
   ],
   "source": [
    "function house!(V, A)\n",
    "    assert(size(V)==size(A))\n",
    "    \n",
    "    m, n = size(A)\n",
    "\n",
    "    for k = 1:n\n",
    "        x = @view A[k:m, k]\n",
    "        \n",
    "        # Construct sign(x₁) for exp(iθ) = -sign(x₁).\n",
    "        s = sign(x[1])\n",
    "        if s == 0\n",
    "            s = 1.\n",
    "        end\n",
    "\n",
    "        # Construct the kth Houreholder reflection vector.\n",
    "        v = @view V[k:m, k]\n",
    "        copy!(v, x)\n",
    "        lx = norm(x)\n",
    "        slx = s * lx\n",
    "        v[1] = v[1] + slx\n",
    "        \n",
    "        # Perform the Householder reflection to triangularize the kth column of A.\n",
    "        lv = norm(v)\n",
    "        if lv ≠ 0\n",
    "            v ./= lv\n",
    "            \n",
    "            # Take care of the kth column of A.\n",
    "            A[k+1:m, k] .= 0\n",
    "            A[k,k] = -slx\n",
    "            \n",
    "            # Take care of the remaining columns of A.\n",
    "            if k < n\n",
    "                A[k:m, k+1:n] .-= v * (2(v' * @view A[k:m, k+1:n]))\n",
    "            end\n",
    "        end\n",
    "    end\n",
    "end\n",
    "\n",
    "# applyQ! is simplified from Problem Set 3 and is capable to apply only Q rather than Q*.\n",
    "function applyQ!(V, X)\n",
    "    m, n = size(V)\n",
    "    assert(size(X,1) == m)\n",
    "\n",
    "    for k = n:-1:1\n",
    "        v = @view V[k:m, k]\n",
    "        X[k:m,:] .-= v * (2(v' * @view X[k:m,:]))\n",
    "    end\n",
    "end"
   ]
  },
  {
   "cell_type": "markdown",
   "metadata": {},
   "source": [
    "## Problem 1.  Volume of a frustum [4 pts]\n",
    "\n",
    "Consider a plane intersecting a cube.  The cube is divided into two volumes by the plane. Suppose that the intersection is such that the smaller of the two volumes is a frustum (the colored region in the figure below) whose top and bottom bases are right-triangular.  The four black dots in the figure indicate where the plane intersects the edges of the cube.  The goal of this problem is to find a formula for the volume of this frustum.\n",
    "\n",
    "<img src=\"frustum.pdf\">\n",
    "\n",
    "Here are geometric parameters and some conditions:\n",
    "\n",
    "- $h$ is the edge of the cube, so it is the height of the frustum.\n",
    "- $a$ and $b$ are the two sides of the bottom base adjacent to the right angle.  $a \\le h$ and $b \\le h$.\n",
    "- $c$ and $d$ are the two sides of the top base adjacent to the right angle.\n",
    "    - Because the top and bottom bases are similar, $d = \\frac{b}{a} c$.\n",
    "    - For simplicity, assume $c \\le a$.  (The top base is less than or equal to the bottom base.)"
   ]
  },
  {
   "cell_type": "markdown",
   "metadata": {},
   "source": [
    "(a) [1 pt] The volume can be calculated as the difference between the volumes of two pyramids.  In doing so, what numerical issue do you expect in what situation?  Describe the situation in words in terms of the geometric parameters given above."
   ]
  },
  {
   "cell_type": "markdown",
   "metadata": {},
   "source": [
    "***Solution***.\n",
    "\n",
    "In the figure, extend $h$ upward and find its intersection with our plane.  Imagine two triangular pyramids that share this intersection point as the apex: the one whose base is the top base of the frustum and the other whose base is the bottom base of the frustum.  The volume of the frustum can be calculated by subtracting the volume of the former from the volume of the latter.\n",
    "\n",
    "Such subtraciton suffers from two numerical issues when the plane is nearly parallel to $h$ (or when $c \\to a$):\n",
    "- catastrophic cancellation, because the volumes of the two pyramids become very close, and \n",
    "- overflow, because the volumes of both pyramids become infinitely large."
   ]
  },
  {
   "cell_type": "markdown",
   "metadata": {},
   "source": [
    "(b) [2 pts] Derive a numerically stable formula for the volume of the frustum that avoids the numerical issue you described in Part (a)."
   ]
  },
  {
   "cell_type": "markdown",
   "metadata": {},
   "source": [
    "***Solution***.\n",
    "\n",
    "Let $H$ be the height of the larger pyramid.  Because the two pyramids are similar, the volume of the frustum is\n",
    "\n",
    "$$\n",
    "V = \\frac{1}{6} a b H \\left[1-\\left(\\frac{c}{a}\\right)^3\\right] = \\frac{1}{6} a b H \\left(1-\\frac{c}{a}\\right) \\left[1 + \\frac{c}{a} + \\left(\\frac{c}{a}\\right)^2 \\right].\n",
    "$$\n",
    "\n",
    "When $c \\to a$, the factor $H \\left(1-\\frac{c}{a}\\right)$ suffers from catastrophic cancellation.  However, we do not need to evaluate this factor numerically, because it is nothing but $h$.  Therefore, the volume of the fustum is\n",
    "\n",
    "$$\n",
    "V = \\frac{1}{6} a b h \\left[1 + \\frac{c}{a} + \\left(\\frac{c}{a}\\right)^2 \\right].\n",
    "$$\n",
    "\n",
    "Note that this formula suffers from neither catastrophic cancellation nor overflow."
   ]
  },
  {
   "cell_type": "markdown",
   "metadata": {},
   "source": [
    "(c) [1 pt] Complete `vol_frustum` below that takes $a$, $b$, $c$, $h$ and returns the volume of the frustum using the formula derived in Part (b)."
   ]
  },
  {
   "cell_type": "markdown",
   "metadata": {},
   "source": [
    "***Solution***.\n",
    "\n",
    "The implementation is easy:"
   ]
  },
  {
   "cell_type": "code",
   "execution_count": 32,
   "metadata": {
    "collapsed": false,
    "scrolled": true
   },
   "outputs": [
    {
     "name": "stderr",
     "output_type": "stream",
     "text": [
      "WARNING: Method definition vol_frustum(Any, Any, Any, Any) in module Main at In[2]:2 overwritten at In[32]:2.\n"
     ]
    },
    {
     "data": {
      "text/plain": [
       "vol_frustum (generic function with 1 method)"
      ]
     },
     "execution_count": 32,
     "metadata": {},
     "output_type": "execute_result"
    }
   ],
   "source": [
    "function vol_frustum(a, b, c, h)\n",
    "    r = c/a\n",
    "    vol = a*b*h*(1+r+r^2) / 6\n",
    "    \n",
    "    return vol\n",
    "end"
   ]
  },
  {
   "cell_type": "markdown",
   "metadata": {},
   "source": [
    "The following is not required by this problem, but just for fun, let's compare this numerically stable formula with the obvious formula, whic directly subtracts the smaller pyramid volume from the larger one:"
   ]
  },
  {
   "cell_type": "code",
   "execution_count": 33,
   "metadata": {
    "collapsed": false
   },
   "outputs": [
    {
     "name": "stderr",
     "output_type": "stream",
     "text": [
      "WARNING: Method definition vol_frustum_obvious(Any, Any, Any, Any) in module Main at In[31]:2 overwritten at In[33]:2.\n"
     ]
    },
    {
     "data": {
      "text/plain": [
       "vol_frustum_obvious (generic function with 1 method)"
      ]
     },
     "execution_count": 33,
     "metadata": {},
     "output_type": "execute_result"
    }
   ],
   "source": [
    "function vol_frustum_obvious(a, b, c, h)\n",
    "    H = h / (1-c/a)\n",
    "    d = (b/a) * c\n",
    "    v = c*d*(H-h) / 6\n",
    "    V = a*b*H / 6\n",
    "\n",
    "    vol = V - v\n",
    "    \n",
    "    return vol\n",
    "end"
   ]
  },
  {
   "cell_type": "markdown",
   "metadata": {},
   "source": [
    "Now, consider a case where $h = a = b = 1$ and $c$ is slightly less than $a$, say $1-10^{-9}$.  The frustum volume must be less than $0.5$, but the obvious formula returns $0.5$: "
   ]
  },
  {
   "cell_type": "code",
   "execution_count": 34,
   "metadata": {
    "collapsed": false
   },
   "outputs": [
    {
     "data": {
      "text/plain": [
       "0.5"
      ]
     },
     "execution_count": 34,
     "metadata": {},
     "output_type": "execute_result"
    }
   ],
   "source": [
    "vol_frustum_obvious(1,1,1-1e-9,1)"
   ]
  },
  {
   "cell_type": "markdown",
   "metadata": {},
   "source": [
    "On the other hand, the numerically stable formula correctly returns a value less than $0.5$:"
   ]
  },
  {
   "cell_type": "code",
   "execution_count": 35,
   "metadata": {
    "collapsed": false
   },
   "outputs": [
    {
     "data": {
      "text/plain": [
       "0.49999999949999996"
      ]
     },
     "execution_count": 35,
     "metadata": {},
     "output_type": "execute_result"
    }
   ],
   "source": [
    "vol_frustum(1,1,1-1e-9,1)"
   ]
  },
  {
   "cell_type": "markdown",
   "metadata": {},
   "source": [
    "## Problem 2.  Accurate evaluation of an infinite series [4 pts]\n",
    "\n",
    "Consider an infinite series $s = \\sum_{k=1}^{\\infty} \\frac{1}{k^4}$.  The goal of this problem is to find the approximate value $\\hat{s}$ of $s$ with double-precision accuracy (i.e., $\\hat{s} = \\mathrm{fl}(s)$).\n",
    "\n",
    "The terms in the series decrease quickly to 0.  Therefore, the truncated series $s_n = \\sum_{k=1}^{n} \\frac{1}{k^4}$ would be a good approximation of the infinite series $s$ for sufficiently large $n$."
   ]
  },
  {
   "cell_type": "markdown",
   "metadata": {},
   "source": [
    "(a) [2 pts] Find $n$ for which $s_n$ is a double-precision-or-more accurate approximation of $s$.  Use the following hints:\n",
    "- The error is $s - s_n = \\sum_{k=n+1}^{\\infty} \\frac{1}{k^4}$.  How small must this error be to achieve the desired accuracy in $s_n$?\n",
    "- What is a close upper bound of the error $s - s_n$?  Can you find one as the area under some curve, which can be calculated by a definite integral?"
   ]
  },
  {
   "cell_type": "markdown",
   "metadata": {},
   "source": [
    "***Solution***.\n",
    "\n",
    "Fon $s_n$ to be a double-precision-or-more accurate approximation of $s$, $\\abs{s - s_n}$ needs to be less than $\\epsmach=\\mathrm{eps()}/2$.\n",
    "\n",
    "From the following figure, we have \n",
    "$$\n",
    "s - s_n = \\sum_{k=n+1}^{\\infty} \\frac{1}{k^4}<\\int_{n}^{\\infty}\\frac{1}{x^4} dx = \\frac{1}{3n^3}.\n",
    "$$\n",
    "\n",
    "Therefore, to guarantee $s - s_n < \\epsmach$, we need to have $1/3n^3 < \\epsmach$, or $n > 1/(3 \\epsmach)^{1/3}=144263.40\\cdots$ equivalently.  Because $n$ is an integer, we conclude that $n$ needs to be at least $144264$.\n",
    "\n",
    "Of course, $1/3n^3$ in the above argument is a loose upper bound of $s-s_n$, so $s-s_n < \\epsmach$ can be achieved for smaller $n$.  However, $n$ different from $144264$ will be accepted as a valid solution only if it is proved that $s - s_n < \\epsmach$ for such $n$.\n",
    "\n",
    "<img src=\"x⁻⁴.pdf\">\n",
    "\n"
   ]
  },
  {
   "cell_type": "markdown",
   "metadata": {},
   "source": [
    "(b) [2 pts] In fact, $s = \\frac{\\pi^4}{90}$ exactly (see [here](https://en.wikipedia.org/wiki/Riemann_zeta_function#Specific_values)), so the desired $\\hat{s}$ is nothing but the floating-point representation of $\\frac{\\pi^4}{90}$. \n",
    "\n",
    "Now, the function `s_truncated` below takes `n` as an argument and evaluates the truncated series $s_n$.  You may expect that `s_truncated` would return $\\hat{s}$ if $n$ obtained in Part (a) is used as the argument, but you can verify that is not the case using the subsequent code block.\n",
    "\n",
    "Change one line of `s_truncated` to make it evaluate $s_n$ more accurately.  Briefly explain in words why your change makes `s_truncated` more accurate.  (Hint.  Which one is more accurate: `(2 + eps()) + eps()` or `2 + (eps() + eps())`?)\n",
    "\n",
    "After this change, you will see that `s_truncated` for $n$ obtained in Part (a) returns $\\hat{s}$."
   ]
  },
  {
   "cell_type": "markdown",
   "metadata": {},
   "source": [
    "***Solution***.\n",
    "\n",
    "When two positive double-precision floating-point numbers $x_1 = m_1 \\beta^{e_1}$ and $x_2 = m_2 \\beta^{e_2}$ with $e_1 > e_2$ are added, they are first added in infinite precision as\n",
    "\n",
    "$$\n",
    "x_1 + x_2 = (m_1 + m_2 \\beta^{e_2-e_1}) \\beta^{e_1},\n",
    "$$\n",
    "\n",
    "and the result is approximated by a floating point number.  During this approximation, only the leading 53 bits of the mantissa are kept.  Therefore, many least-significant mantissa bits in $m_2$ are lost.  The greater the difference between $e_1$ and $e_2$ is, the more the mantissa bits are lost.  \n",
    "\n",
    "If we evaluate $\\sum_{k=1}^n 1/k^4$ in the obvious order, for some $m < n$ the partial sum $s_m = \\sum_{k=1}^m 1/k^4$ becomes much greater than the next term $1/(m+1)^4$ to add, and therefore many least-significant mantissa bits in $1/(m+1)^4$ are lost during addition.  Though these lost mantissa bits are the least significant bits and therefore constitute a small amount, such loss occurs for all the $\\frac{1}{k^4}$ terms for $k > m$ and is accumulated, leading to a noticeable difference in the final sum.\n",
    "\n",
    "Therefore, to avoid losing the least-significant mantissa bits of the addends, it is important to keep the partial sum as small as possible during summation (so that it is not too much greater than the next term to add), which is achieved by adding the smallest terms first.  For $s_n = \\sum_{k=1}^n 1/k^4$, this means we need to add the terms in the reverse order as in the following modified `s_trucated`.\n",
    "\n",
    "Note that this technique only works when we know the number of terms to add in advance: we cannot reverse the order of addition in the infinite sum $s = \\sum_{k=1}^{\\infty} 1/k^4$ because it does not have the last term.  This is why we needed to estimate $n$ in Part (a)."
   ]
  },
  {
   "cell_type": "code",
   "execution_count": 51,
   "metadata": {
    "collapsed": false
   },
   "outputs": [
    {
     "name": "stderr",
     "output_type": "stream",
     "text": [
      "WARNING: Method definition s_truncated(Any) in module Main at In[49]:2 overwritten at In[51]:2.\n"
     ]
    },
    {
     "data": {
      "text/plain": [
       "s_truncated (generic function with 1 method)"
      ]
     },
     "execution_count": 51,
     "metadata": {},
     "output_type": "execute_result"
    }
   ],
   "source": [
    "function s_truncated(n)\n",
    "    s = 0.0\n",
    "    for k = n:-1:1  # use this instead of k = 1:n\n",
    "        s += 1.0/float(k)^4\n",
    "    end\n",
    "    \n",
    "    return s    \n",
    "end"
   ]
  },
  {
   "cell_type": "code",
   "execution_count": 52,
   "metadata": {
    "collapsed": false,
    "scrolled": true
   },
   "outputs": [
    {
     "data": {
      "text/plain": [
       "0.0"
      ]
     },
     "execution_count": 52,
     "metadata": {},
     "output_type": "execute_result"
    }
   ],
   "source": [
    "n = ceil(1/(3eps()/2)^(1/3))  # use your n obtained in Part (a)\n",
    "ŝₙ = s_truncated(n)\n",
    "ŝ = π^4 / 90\n",
    "ŝ - ŝₙ"
   ]
  },
  {
   "cell_type": "markdown",
   "metadata": {},
   "source": [
    "## Problem 3.  Explicit formation of $Q$ of the Householder QR factorization [5 pts]\n",
    "\n",
    "In Problem Set 3, we wrote `house!` that performs the Householder QR factorization on $A \\in \\Cmat{m}{n}$ with $m \\ge n$.  We also wrote `applyQhouse!`, which is renamed `applyQ!` for simplicity here, that applies $Q$ implicitly to $X \\in \\Cmat{m}{p}$ with arbitrary positive integer $p$.  (For convenience, these functions are defined in the beginning of this notebook file.)\n",
    "\n",
    "If we need to form $Q$ explicitly, we can use `applyQ!` on $X = I \\in \\Cmat{m}{m}$.  However, it is possible to form $Q$ faster than that.  The goal of this problem is to create `formQ!` that implements this faster method."
   ]
  },
  {
   "cell_type": "markdown",
   "metadata": {},
   "source": [
    "### Assignment 3.1.  `formQ!` [2 pts]\n",
    "\n",
    "The second argument $X$ of `applyQ!` can be any matrix as long as it has the same number of rows as the first argument $V$.  However, $X = I$ passed to `applyQ!` to form $Q$ is not an arbitrary matrix, but a very sparse matrix.  \n",
    "\n",
    "Devise an algorithm that exploits this sparsity of $I$ to form $Q$ faster than naively using `applyQ!` on $I$.  Complete `formQ!` below that implements this new algorithm.  (It is not much different from `applyQ!`.)  For this part, you do not need to explain your algorithm because the code speaks for itself.\n",
    "\n",
    "`formQ!` takes two input arguments `V` and `Q`:\n",
    "- `V` is produced by `house!`, and\n",
    "- `Q` is assumed to be the square identity matrix with the same number of rows as `V` (i.e., $Q = I \\in \\Cmat{m}{m}$ for $V \\in \\Cmat{m}{n}$).\n",
    "\n",
    "After execution of `formQ!(V, Q)`,\n",
    "- `V` remains the same as before, and\n",
    "- `Q` stores the explicitly formed $Q$ factor of the Householder QR factorization.\n",
    "\n",
    "`formQ!` does not need to `return` anything, because the outputs are stored in the input arguments."
   ]
  },
  {
   "cell_type": "markdown",
   "metadata": {},
   "source": [
    "***Solution***.\n",
    "\n",
    "We have $Q = Q_1 \\cdots Q_n$.  In `applyQ!`, $Q X = Q_1 \\cdots Q_n X$ is calculated by executing\n",
    "\n",
    "$$\n",
    "X_{k:m,:} = X_{k:m,:} - \\hat{v}_k (2(\\hat{v}_k^* * X_{k:m,:}))\n",
    "$$\n",
    "\n",
    "in the order of $k = n, \\ldots, 1$.  \n",
    "\n",
    "`formQ!` also needs to calculate $Q_1 \\cdots Q_n X$ using the above formula, but this time $X = I$.  This allows us to replace $X_{k:m,:}$ with $X_{k:m,k:m}$ in the above formula, because starting with $X = I$ ensures $X_{k:m,1:k-1} = 0$ at each step $k$.  For example, for $m = 4$ and $n = 3$, $X$ changes as follows:\n",
    "\n",
    "$$\n",
    "\\left[\\begin{array}{cccc}\n",
    "1 &   &   &  \\\\\n",
    "  & 1 &   &  \\\\\n",
    "  &   & 1 &  \\\\\n",
    "  &   &   & 1\\\\\n",
    "\\end{array}\\right]\\overset{Q_3}{\\longrightarrow}\n",
    "\\left[\\begin{array}{cccc}\n",
    "1 &   &   &  \\\\\n",
    "  & 1 &   &  \\\\\n",
    "  &   & \\times & \\times\\\\\n",
    "  &   & \\times & \\times\\\\\n",
    "\\end{array}\\right]\\overset{Q_2}{\\longrightarrow}\n",
    "\\left[\\begin{array}{cccc}\n",
    "1 &   &   &  \\\\\n",
    "  & \\times & \\times & \\times\\\\\n",
    "  & \\times & \\times & \\times\\\\\n",
    "  & \\times & \\times & \\times\\\\\n",
    "\\end{array}\\right]\\overset{Q_1}{\\longrightarrow}\n",
    "\\left[\\begin{array}{cccc}\n",
    "\\times & \\times & \\times & \\times\\\\\n",
    "\\times & \\times & \\times & \\times\\\\\n",
    "\\times & \\times & \\times & \\times\\\\\n",
    "\\times & \\times & \\times & \\times\\\\\n",
    "\\end{array}\\right]\n",
    "$$\n",
    "\n",
    "Considering this, `formQ!` can be implemented as follows:"
   ]
  },
  {
   "cell_type": "code",
   "execution_count": 8,
   "metadata": {
    "collapsed": false
   },
   "outputs": [
    {
     "data": {
      "text/plain": [
       "formQ! (generic function with 1 method)"
      ]
     },
     "execution_count": 8,
     "metadata": {},
     "output_type": "execute_result"
    }
   ],
   "source": [
    "function formQ!(V, Q)\n",
    "    m, n = size(V)\n",
    "    assert(size(Q) == (m,m))\n",
    "    \n",
    "    for k = n:-1:1\n",
    "        v = @view V[k:m,k]\n",
    "        Q[k:m,k:m] .-= v * (2(v' * @view Q[k:m,k:m]))\n",
    "    end\n",
    "end"
   ]
  },
  {
   "cell_type": "markdown",
   "metadata": {
    "collapsed": true
   },
   "source": [
    "### Assignment 3.2.  `formQ!` vs. `applyQ!` [3 pts]\n",
    "\n",
    "Now, let's see how fast `formQ!` is compared to `applyQ!`."
   ]
  },
  {
   "cell_type": "markdown",
   "metadata": {},
   "source": [
    "(a) [2 pts] Let's compare the costs for the two operations in terms of the number of flops.\n",
    "- Derive the asymptotic number of flops needed for executing `formQ!` for $V \\in \\Rmat{m}{n}$.  (We consider real matrices, because we will perform numerical experiments for them later.)  \n",
    "- Derive the asymptotic number of flops needed for forming $Q$ explicitly using `applyQ!`.\n",
    "- Comparing the numbers of flops, how much speedup do you expect to get by using `formQ!` instead of `applyQ!`?  Answer this question by expressing the speedup factor as a function of $n/m$, and implement it as a Julia function `spdup_flop(rnm)` below, where `rnm` is the ratio $n/m$.\n",
    "- In what condition is the speedup factor maximized to what value?"
   ]
  },
  {
   "cell_type": "markdown",
   "metadata": {},
   "source": [
    "***Solution***.\n",
    "\n",
    "For each $k$, for each column $q$ of $Q_{k:m,k:m}$, `formQ!` spends\n",
    "\n",
    "- $m-k+1$ multiplications and $m-k$ additions for $\\alpha = \\hat{v}_k^* q$,\n",
    "- $1$ scalar multiplication for $\\beta = 2\\alpha$, \n",
    "- $m-k+1$ multiplications for $w = \\hat{v}_k \\beta$,\n",
    "- $m-k+1$ subtractions for $q = q-w$,\n",
    "\n",
    "which are $4(m-k+1)$ flops in total.  Because $Q_{k:m,k:m}$ has $m-k+1$ columns and $k$ runs from $n$ down to $1$, the total number of flops taken by `formQ!` is\n",
    "\n",
    "$$\n",
    "\\sum_{k=n}^1 4(m-k+1)^2 = \\sum_{j=m-n+1}^m 4j^2 \\sim \\frac{4}{3} \\left[m^3 - (m-n)^3\\right].\n",
    "$$\n",
    "\n",
    "`applyQ!` also spends $4(m-k+1)$ flops for each column $x$ of $X_{k:m,:}$ for each $k$.  Because $X = I$, $X_{k:m,:}$ has $m$ colums.  Therefore, the total number of flops taken by `applyQ!` is\n",
    "\n",
    "$$\n",
    "\\sum_{k=n}^1 4(m-k+1)m = \\sum_{j=m-n+1}^m 4mj \\sim 2 m \\left[m^2 - (m-n)^2\\right].\n",
    "$$\n",
    "\n",
    "Comparing the two results, we expect a speedup factor of\n",
    "\n",
    "$$\n",
    "\\frac{2 m \\left[m^2 - (m-n)^2\\right]}{\\frac{4}{3} \\left[m^3 - (m-n)^3\\right]} = \\frac{3}{2} \\left[\\frac{1 - (1-\\frac{n}{m})^2}{1 - (1-\\frac{n}{m})^3}\\right]\n",
    "$$\n",
    "\n",
    "by using `formQ!` instead of `applyQ!`.\n",
    "\n",
    "To find out when the speedup factor is maximized, define $s = 1-n/m$.  Then, the above speedup factor satisfies\n",
    "\n",
    "$$\n",
    "\\frac{3}{2} \\left(\\frac{1 - s^2}{1 - s^3}\\right) = \\frac{3}{2} \\frac{1 + s}{1 + s + s^2}= \\frac{3}{2} \\frac{1}{\\left[(1 + s) + \\frac{1}{1+s}\\right] - 1} \\le \\frac{3}{2} \\frac{1}{2 - 1} = 1.5\n",
    "$$\n",
    "\n",
    "from the [AM–GM inequality](https://en.wikipedia.org/wiki/Inequality_of_arithmetic_and_geometric_means), and the equality holds when $1 + s = \\frac{1}{1+s}$, or $n = m$ equivalently.  Therefore, we get the maximum speedup factor of $1.5$ when $n = m$."
   ]
  },
  {
   "cell_type": "code",
   "execution_count": 9,
   "metadata": {
    "collapsed": false
   },
   "outputs": [
    {
     "data": {
      "text/plain": [
       "spdup_flop (generic function with 1 method)"
      ]
     },
     "execution_count": 9,
     "metadata": {},
     "output_type": "execute_result"
    }
   ],
   "source": [
    "spdup_flop(rnm) = 1.5 * (1-(1-rnm)^2) / (1-(1-rnm)^3)"
   ]
  },
  {
   "cell_type": "markdown",
   "metadata": {},
   "source": [
    "(b) [1 pt] Complete `spdup_time` below that measures the actual speedup factor for a given $V$ by numerical experiment.  \n",
    "- To measure the actual speedup factor, take the ratio between the times taken for `formQ!` and `applyQ!`.  (Use `@elapsed`.)\n",
    "- Because computation time fluctuates wildly from execution to execution, perform $N = 20$ measurments of this ratio and return the median value to ignore outliers.\n",
    "\n",
    "You can compare the theoretical speedup factor obtained in Part (a) with the actual measurement by `spdup_time` using the subsequent code block."
   ]
  },
  {
   "cell_type": "code",
   "execution_count": 10,
   "metadata": {
    "collapsed": false
   },
   "outputs": [
    {
     "data": {
      "text/plain": [
       "spdup_time (generic function with 1 method)"
      ]
     },
     "execution_count": 10,
     "metadata": {},
     "output_type": "execute_result"
    }
   ],
   "source": [
    "function spdup_time(V)\n",
    "    N = 20\n",
    "    rt = Vector{Float64}(N)\n",
    "\n",
    "    T = eltype(V)\n",
    "    I = eye(T, m)\n",
    "    for k = 1:N\n",
    "        fill!(I, 0)\n",
    "        I[diagind(I)] = 1        \n",
    "        t_apply = @elapsed applyQ!(V, I)\n",
    "\n",
    "        fill!(I, 0)\n",
    "        I[diagind(I)] = 1\n",
    "        t_form = @elapsed formQ!(V, I)\n",
    "        \n",
    "        rt[k] = t_apply / t_form\n",
    "    end\n",
    "    \n",
    "    return median(rt)\n",
    "end    "
   ]
  },
  {
   "cell_type": "code",
   "execution_count": 11,
   "metadata": {
    "collapsed": false,
    "scrolled": false
   },
   "outputs": [
    {
     "data": {
      "image/png": "[encoded data removed]",
      "text/plain": [
       "PyPlot.Figure(PyObject <matplotlib.figure.Figure object at 0x31b33e240>)"
      ]
     },
     "metadata": {},
     "output_type": "display_data"
    },
    {
     "data": {
      "text/plain": [
       "PyObject <matplotlib.legend.Legend object at 0x3154694a8>"
      ]
     },
     "execution_count": 11,
     "metadata": {},
     "output_type": "execute_result"
    }
   ],
   "source": [
    "m = 50\n",
    "nmax = m\n",
    "\n",
    "A = rand(m, nmax)\n",
    "V = zeros(size(A))\n",
    "house!(V, A)\n",
    "\n",
    "st = Vector{Float64}(nmax)\n",
    "for n = 1:nmax\n",
    "    st[n] = spdup_time((@view V[:,1:n]))\n",
    "end\n",
    "\n",
    "using PyPlot\n",
    "rnm = (1:nmax) ./ m\n",
    "\n",
    "plot(rnm, spdup_flop.(rnm), \"b-\", rnm, st, \"rx\")\n",
    "title(\"Speedup by formQ! with respect to applyQ!\\nfor m×n matrices (m = $m, n ≤ m)\")\n",
    "xlabel(\"n/m\")\n",
    "ylabel(\"cost(applyQ!) / cost(formQ!)\")\n",
    "legend([\"Theroy (cost = flops)\", \"Experiment (cost = time)\"], loc=\"lower right\")"
   ]
  },
  {
   "cell_type": "markdown",
   "metadata": {},
   "source": [
    "## Problem 4.  Point with the least root-mean-square distance from affine subspaces [6 pts]\n",
    "\n",
    "For given $A \\in \\Cmat{m}{n}$ and $p \\in \\Cvec{m}$, consider the following set of points:\n",
    "\n",
    "$$\n",
    "F = \\{p + A x \\mid x \\in \\Cvec{n} \\}\n",
    "$$\n",
    "\n",
    "$F$ is called an affine subspace of $\\Cvec{m}$, and it is nothing but a subspace $\\range(A)$ translated by some vector $p$.  Unlike subspaces, affine subspaces do not necessarily contain the origin.  For example, a plane away from the origin is an affine subspace in 3D.\n",
    "\n",
    "Like you measure the distance from a point to a plane in 3D, you can measure the distance from a point to an affine subspace.  The distance from $z \\in \\Cvec{m}$ to an affine subspace $F$ is defined by the distance between $z$ and the closest point in $F$, i.e.,\n",
    "\n",
    "$$\n",
    "d = \\min_{f \\in F} \\norm{z - f},\n",
    "$$\n",
    "\n",
    "where $\\norm{\\cdot}$ is the 2-norm.\n",
    "\n",
    "Now, suppose that we have $k$ affine subspaces $F_1, \\ldots, F_k$ of $\\Cvec{m}$ defined by points $p_1, \\ldots, p_k \\in \\Cvec{m}$ and matrices $A_1, \\ldots, A_k$.  (all the $A_i$'s have $m$ rows, but they do not necessarily have the same number of columns, i.e., $A_1 \\in \\Cmat{m}{n_1}, \\ldots, A_k \\in \\Cmat{m}{n_k}$.)  The goal of this problem is to find the point $z$ that minimizes the root-mean-square (RMS) distance  to these affine spaces.  In other words, we want to find $z$ minimizing\n",
    "\n",
    "$$\n",
    "d_\\mathrm{rms} = \\sqrt{\\frac{1}{k}\\sum_{i=1}^k d_i^2},\n",
    "$$\n",
    "\n",
    "where $d_i = \\min_{f \\in F_i} \\norm{z - f}$."
   ]
  },
  {
   "cell_type": "markdown",
   "metadata": {},
   "source": [
    "(a) [3 pts] For given $p_1, \\ldots, p_k$ and $A_1, \\ldots, A_k$, explain how to find such $z$ and corresponding $d_\\mathrm{rms}$ by solving a least squares problem.  For simplicity, assume that the columns of each $A_i$ are orthonormal."
   ]
  },
  {
   "cell_type": "markdown",
   "metadata": {},
   "source": [
    "***Solution***.\n",
    "\n",
    "We can derive the closed-form formula for each $d_i$.  For given $z$, \n",
    "\n",
    "$$\n",
    "d_i = \\min_{f \\in F_i} \\norm{z - f} = \\min_{x \\in \\Cvec{n}} \\norm{(z - p_i) - A_i x},\n",
    "$$\n",
    "\n",
    "where $x$ minimizing the last expression is the solution to a least squares problem and therefore is $x = (A_i^* A_i)^{-1} A_i^* (z-p_i) = A_i^* (z-p_i)$.  Hence,\n",
    "\n",
    "$$\n",
    "d_i = \\norm{(z-p_i) - A_i A_i^* (z-p_i)} = \\norm{(I - A_i A_i^*) (z-p_i)}.\n",
    "$$\n",
    "\n",
    "This makes sense geometrically.  $A_i A_i^*$ is the orthogonal projector *onto* $\\range(A_i)$, so $I - A_i A_i^*$, which is the complementary projector of $A_i A_i^*$, is the orthogonal projector *along* $\\range(A_i)$.  Because $z-p_i$ is the vector connecting $z$ and a point $p_i$ on the affine space, $(I - A_i A_i^*) (z-p_i)$ is the component of $z-p_i$ perpendicular to the affine space, and thus its length is the distance from $z$ to the affine space.\n",
    "\n",
    "Using the above formula for $d_i$, we can write\n",
    "\n",
    "$$\n",
    "k^2 d_\\mathrm{rms} = \\sum_{i=1}^k d_i^2 = \\norm{\\left[\n",
    "\\begin{array}{c}\n",
    " (I - A_1 A_1^*) (z-p_1) \\\\\n",
    " \\vdots  \\\\\n",
    " (I - A_k A_k^*) (z-p_k) \\\\\n",
    "\\end{array}\n",
    "\\right]}^2 =\n",
    "\\norm{\\left[\n",
    "\\begin{array}{c}\n",
    " I - A_1 A_1^* \\\\\n",
    " \\vdots  \\\\\n",
    " I - A_k A_k^* \\\\\n",
    "\\end{array}\n",
    "\\right] z - \\left[\n",
    "\\begin{array}{c}\n",
    " (I - A_1 A_1^*) p_1 \\\\\n",
    " \\vdots  \\\\\n",
    " (I - A_k A_k^*) p_k \\\\\n",
    "\\end{array}\n",
    "\\right]}^2.\n",
    "$$\n",
    "\n",
    "$z$ minimizing the last expression can be obtained by solving the least squares problem whose matrix $A$ and right-hand side vector $b$ are\n",
    "\n",
    "$$\n",
    "A = \\left[\n",
    "\\begin{array}{c}\n",
    " I - A_1 A_1^* \\\\\n",
    " \\vdots  \\\\\n",
    " I - A_k A_k^* \\\\\n",
    "\\end{array}\n",
    "\\right],\\quad b = \\left[\n",
    "\\begin{array}{c}\n",
    " (I - A_1 A_1^*) p_1 \\\\\n",
    " \\vdots  \\\\\n",
    " (I - A_k A_k^*) p_k \\\\\n",
    "\\end{array}\n",
    "\\right],\n",
    "$$\n",
    "\n",
    "and the minimim $d_\\mathrm{rms}$ can be easily obtained using this $z$."
   ]
  },
  {
   "cell_type": "markdown",
   "metadata": {},
   "source": [
    "(b) [1 pt] When does the matrix of your least squares problem in Part (a) become rank-deficient that you need to solve it via SVD?  Describe the condition in terms of $A_1, \\ldots, A_k$."
   ]
  },
  {
   "cell_type": "markdown",
   "metadata": {},
   "source": [
    "***Solution***.\n",
    "\n",
    "The matrix $A$ in the solution to Part (a) is skinny.  Therefore, it becomes rank-deficient when its nullspace has a nonzero vector as an element.\n",
    "\n",
    "$A$ has $v \\neq 0$ in its nullspace if and only if $(I - A_i A_i^*) v = 0$ for all $i = 1, \\ldots, k$.  Therefore, $A$ becomes rank-deficient if and only if there is a nonzero vector shared by the nullspaces of all $I - A_i A_i^*$'s.\n",
    "\n",
    "Note that $I - A_i A_i^*$ is an orthogonal projector *along* $\\range(A_i)$, so its nullspace is nothing but $\\range(A_i)$.  Therefore, we conclude that $A$ becomes rank-deficient if and only if there is a nonzero vector shared by $\\range(A_i)$'s."
   ]
  },
  {
   "cell_type": "markdown",
   "metadata": {},
   "source": [
    "(c) [2 pts] Assuming the given $A_1, \\ldots, A_k$ do not fall into the case described in Part (b), complete `pt_min_drms` below that takes an array of $p_i$'s and an array of $A_i$'s and returns $z$ and $d_\\mathrm{rms}$.  \n",
    "\n",
    "Execute the subsequent code block to check if your function runs without errors.  (This is just to detect syntax errors.)"
   ]
  },
  {
   "cell_type": "code",
   "execution_count": 53,
   "metadata": {
    "collapsed": false
   },
   "outputs": [
    {
     "name": "stderr",
     "output_type": "stream",
     "text": [
      "WARNING: Method definition pt_min_drms(Any, Any) in module Main at In[12]:4 overwritten at In[53]:4.\n"
     ]
    },
    {
     "data": {
      "text/plain": [
       "pt_min_drms (generic function with 1 method)"
      ]
     },
     "execution_count": 53,
     "metadata": {},
     "output_type": "execute_result"
    }
   ],
   "source": [
    "function pt_min_drms(p, A)\n",
    "    # p[1], p[2], ... are pᵢ's, and A[1], A[2], ..., are Aᵢ's.\n",
    "    \n",
    "    k = length(p)\n",
    "    assert(length(A) == k)\n",
    "    m = size(A[1], 1)\n",
    "    \n",
    "    T = eltype(p[1])\n",
    "    \n",
    "    # Construct the matrix (Atot) and vector (btot) of the least squares problem.\n",
    "    I = eye(T, m)\n",
    "    Atot = Matrix{T}(k*m, m)\n",
    "    btot = Vector{T}(k*m)\n",
    "    for i = 1:k\n",
    "        P = I - A[i]*A[i]'  # individual orthogonal projector\n",
    "\n",
    "        ind0 = 1+(i-1)*m\n",
    "        ind1 = i*m\n",
    "        \n",
    "        Atot[ind0:ind1, :] = P\n",
    "        btot[ind0:ind1] = P * p[i]\n",
    "    end\n",
    "    \n",
    "    # Find the d_rms-minimizing point z and the corresponding d_rms.\n",
    "    z = Atot \\ btot\n",
    "    drms = norm(btot - Atot*z) / sqrt(k)\n",
    "    \n",
    "    return z, drms\n",
    "end"
   ]
  },
  {
   "cell_type": "code",
   "execution_count": 54,
   "metadata": {
    "collapsed": false
   },
   "outputs": [
    {
     "name": "stdout",
     "output_type": "stream",
     "text": [
      "z = [\n",
      "\t0.42946161321334936 + 0.41552749863761124im\n",
      "\t0.528634090375491 + 0.4211799505562526im\n",
      "\t0.4699021253109107 + 0.4322522670737496im\n",
      "\t0.4918664675439409 + 0.5012237014956257im\n",
      "]\n",
      "\n",
      "d_rms = 0.5631677852242845\n",
      "\n"
     ]
    }
   ],
   "source": [
    "using JLD\n",
    "@load \"pA.jld\"\n",
    "\n",
    "z, drms = pt_min_drms(p, A)\n",
    "\n",
    "println(\"z = [\")\n",
    "for zi = z\n",
    "    println(\"\\t$zi\")\n",
    "end\n",
    "println(\"]\\n\")\n",
    "println(\"d_rms = $drms\\n\")"
   ]
  },
  {
   "cell_type": "markdown",
   "metadata": {},
   "source": [
    "## Problem 5.  Intersection between subspaces [6 pts]\n",
    "\n",
    "In this problem, we will develop a method to calculate the intersection between two subspaces $\\range(A)$ and $\\range(B)$ for $A \\in \\Cmat{m}{n}$ and $B \\in \\Cmat{m}{p}$.\n",
    "\n",
    "To begin with, here are a few facts you must have learned in linear algebra class, just in case you forgot them.  Below, $X$ and $Y$ are subspaces of $\\Cvec{m}$.\n",
    "\n",
    "- $X^\\bot = \\{z \\in \\Cvec{m} \\mid x^* z = 0 \\text{ for all } x \\in X\\}$.  In other words, $X^\\bot$ is the set of vectors orthogonal to all vectors in $X$.  It is called the [orthogonal complement](https://en.wikipedia.org/wiki/Orthogonal_complement) of $X$.\n",
    "- $(X^\\bot)^\\bot = X$.\n",
    "- $X + Y = \\{x+y \\mid x \\in X, y \\in Y\\}$.  In other words, $X+Y$ is the set of vectors that can be decomposed into the sum of the elements of $X$ and $Y$."
   ]
  },
  {
   "cell_type": "markdown",
   "metadata": {},
   "source": [
    "(a) [1 pt] Show that $\\range(A)^\\bot = \\null(A^*)$."
   ]
  },
  {
   "cell_type": "markdown",
   "metadata": {},
   "source": [
    "***Solution***.\n",
    "\n",
    "$$\n",
    "\\begin{align}\n",
    "\\null(A^*) &=\\{x \\in \\Cvec{m} \\mid A^* x = 0\\}\\\\\n",
    "&= \\{x \\in \\Cvec{m} \\mid a_i^* x = 0 \\text{ for all } i = 1, \\ldots, n\\}\\\\\n",
    "&= \\{x \\in \\Cvec{m} \\mid a^* x = 0 \\text{ for all } a \\in \\left<a_1, \\ldots, a_n\\right>\\}\\\\\n",
    "&= \\{x \\in \\Cvec{m} \\mid a^* x = 0 \\text{ for all } a \\in \\range(A)\\} = \\range(A)^\\bot.\n",
    "\\end{align}\n",
    "$$"
   ]
  },
  {
   "cell_type": "markdown",
   "metadata": {},
   "source": [
    "(b) [1 pt] Complete the function `null` below that takes an arbitrary matrix $A$ and returns orthonormal basis vectors of the nullspace of $A$.  (Hint.  Full SVD can be performed by `svd(A, thin=false)` in Julia.)"
   ]
  },
  {
   "cell_type": "markdown",
   "metadata": {},
   "source": [
    "***Solution***.\n",
    "\n",
    "From Theorem 5.2 of Trefethen and Bau, we know that the right singular vectors corresponding to zero singular values are orthonormal basis vectors of $\\null(A)$.  This is used to implement `null` below:"
   ]
  },
  {
   "cell_type": "code",
   "execution_count": 56,
   "metadata": {
    "collapsed": false
   },
   "outputs": [
    {
     "name": "stderr",
     "output_type": "stream",
     "text": [
      "WARNING: Method definition null(Any) in module Main at In[55]:2 overwritten at In[56]:2.\n"
     ]
    },
    {
     "data": {
      "text/plain": [
       "null (generic function with 1 method)"
      ]
     },
     "execution_count": 56,
     "metadata": {},
     "output_type": "execute_result"
    }
   ],
   "source": [
    "function null(A)\n",
    "    m, n = size(A)\n",
    "    ~, σ, V = svd(A, thin=false)    \n",
    "    r = findlast(σ .> 0)  # index of last nonzero singular value\n",
    "    \n",
    "    return V[:, r+1:n]\n",
    "end"
   ]
  },
  {
   "cell_type": "markdown",
   "metadata": {},
   "source": [
    "(c) [2 pts] For subspaces of $X$ and $Y$ of $\\Cvec{m}$, show $(X + Y)^\\bot = X^\\bot \\cap Y^\\bot$.  (Hint.  For a basis $\\{a_1, \\ldots, a_k\\}$ of $X$, $X = \\range(A)$.)"
   ]
  },
  {
   "cell_type": "markdown",
   "metadata": {},
   "source": [
    "***Solution***.\n",
    "\n",
    "For bases $\\{a_1, \\ldots, a_k\\}$ and $\\{b_1, \\ldots, b_n\\}$ of $X$ and $Y$, we have $X = \\range(A)$ and $Y = \\range(B)$.  Then, $X + Y = \\left<a_1, \\ldots, a_k, b_1, \\ldots, b_n \\right> = \\range(\\left[A\\,\\, B\\right])$.  Therefore, using Part (a), we have\n",
    "\n",
    "$$\n",
    "\\begin{align}\n",
    "(X + Y)^\\bot & = \\range(\\left[A\\,\\, B\\right])^\\bot\\\\\n",
    "& = \\null(\\left[A\\,\\, B\\right]^*)\\\\\n",
    "& = \\null\\left(\\left[\n",
    "\\begin{array}{c}\n",
    " A^* \\\\\n",
    " B^* \\\\\n",
    "\\end{array}\n",
    "\\right]\\right)\\\\\n",
    "& = \\{x \\mid A^* x = 0 \\text{ and } B^*x = 0\\}\\\\\n",
    "& = \\null(A^*) \\cap \\null(B^*)\\\\\n",
    "& = \\range(A)^\\bot \\cap \\range(B)^\\bot = X^\\bot \\cap Y^\\bot.\n",
    "\\end{align}\n",
    "$$\n"
   ]
  },
  {
   "cell_type": "markdown",
   "metadata": {},
   "source": [
    "(d) [2 pts] Suppose $A \\in \\Cmat{m}{n}$ and $B \\in \\Cmat{m}{p}$ are full-rank and skinny, where $n$ and $p$ are not necessarily the same.  Complete `interspace` below that takes $A$ and $B$ and returns $\\range(A) \\cap \\range(B)$.  Use `null` three times, and do not perform any matrix factorization or orthogonalization outside `null`."
   ]
  },
  {
   "cell_type": "markdown",
   "metadata": {},
   "source": [
    "***Solution***.\n",
    "\n",
    "Because $X^\\bot \\cap Y^\\bot = (X + Y)^\\bot$ from Part (c) and also $(X^\\bot)^\\bot = X$, we have \n",
    "\n",
    "$$\n",
    "X \\cap Y = (X^\\bot)^\\bot \\cap (Y^\\bot)^\\bot = (X^\\bot + Y^\\bot)^\\bot.\n",
    "$$\n",
    "\n",
    "Therefore,\n",
    "\n",
    "$$\n",
    "\\range(A) \\cap \\range(B) = (\\range(A)^\\bot + \\range(B)^\\bot)^\\bot = (\\null(A^*) + \\null(B^*))^\\bot.\n",
    "$$\n",
    "\n",
    "Now, suppose that $\\{c_1, \\ldots, c_{m-n}\\}$ and $\\{c'_1, \\ldots, c'_{m-p}\\}$ are orthonormal bases of $\\null(A^*)$ and $\\null(B^*)$, respectively.  Then, for a matrix $C = \\left[c_1\\,\\, \\cdots\\,\\, c_{m-n}\\,\\, c'_1\\,\\, \\cdots\\,\\, c'_{m-p}\\right]$, we have $\\null(A^*) + \\null(B^*) = \\range(C)$.  Therefore,\n",
    "\n",
    "$$\n",
    "\\range(A) \\cap \\range(B) = \\range(C)^\\bot = \\null(C^*).\n",
    "$$\n",
    "\n",
    "\n",
    "\n",
    "\n",
    "So, we can find an orthonormal basis of $\\range(A) \\cap \\range(B)$ by following the procedure below:\n",
    "\n",
    "- Find onthonormal bases $\\{c_1, \\ldots, c_{m-n}\\}$ and $\\{c'_1, \\ldots, c'_{m-p}\\}$ of $\\null(A^*)$ and $\\null(B^*)$ using `null` twice.\n",
    "- Construct a matrix $C = \\left[c_1\\,\\, \\cdots\\,\\, c_{m-n}\\,\\, c'_1\\,\\, \\cdots\\,\\, c'_{m-p}\\right]$.\n",
    "- Find an orthonormal basis of $\\null(C^*)$ using `null` once.  Then the basis is an orthonormal basis of $\\range(A) \\cap \\range(B)$.\n",
    "\n",
    "`interspace` below implements this algorithm."
   ]
  },
  {
   "cell_type": "code",
   "execution_count": 59,
   "metadata": {
    "collapsed": false
   },
   "outputs": [
    {
     "name": "stderr",
     "output_type": "stream",
     "text": [
      "WARNING: Method definition interspace(Any, Any) in module Main at In[58]:2 overwritten at In[59]:2.\n"
     ]
    },
    {
     "data": {
      "text/plain": [
       "interspace (generic function with 1 method)"
      ]
     },
     "execution_count": 59,
     "metadata": {},
     "output_type": "execute_result"
    }
   ],
   "source": [
    "function interspace(A, B)\n",
    "    Na = null(A')\n",
    "    Nb = null(B')\n",
    "    C = [Na Nb]\n",
    "    \n",
    "    return null(C')\n",
    "end"
   ]
  },
  {
   "cell_type": "markdown",
   "metadata": {},
   "source": [
    "Some of you might have noticed that this problem is a generalization of Prob. 2 of Problem Set 2.  The following code block verifies that `interspace` produces the same solution to that problem:"
   ]
  },
  {
   "cell_type": "code",
   "execution_count": 61,
   "metadata": {
    "collapsed": false
   },
   "outputs": [
    {
     "name": "stdout",
     "output_type": "stream",
     "text": [
      "Intersection is along v = [0.534673; 0.703132; 0.468754].\n"
     ]
    }
   ],
   "source": [
    "a₁ = [0.9, 0.3, 0.2]\n",
    "a₂ = [0.5, 0.9, 0.6]\n",
    "\n",
    "b₁ = [0.1, 0.6, 0.1]\n",
    "b₂ = [0.7, 0.4, 0.6]\n",
    "\n",
    "A = [a₁ a₂]\n",
    "B = [b₁ b₂]\n",
    "\n",
    "v = interspace(A, B)\n",
    "\n",
    "println(\"Intersection is along v = $v.\")"
   ]
  }
 ],
 "metadata": {
  "anaconda-cloud": {},
  "kernelspec": {
   "display_name": "Julia 0.5.2-pre",
   "language": "julia",
   "name": "julia-0.5"
  },
  "language_info": {
   "file_extension": ".jl",
   "mimetype": "application/julia",
   "name": "julia",
   "version": "0.5.2"
  }
 },
 "nbformat": 4,
 "nbformat_minor": 0
}
