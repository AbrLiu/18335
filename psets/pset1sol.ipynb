{
 "cells": [
  {
   "cell_type": "markdown",
   "metadata": {},
   "source": [
    "# 18.335 pset 1 solutions\n",
    "\n",
    "## Problem 1: Floating point"
   ]
  },
  {
   "cell_type": "markdown",
   "metadata": {},
   "source": [
    "As explained in the solutions, the smallest non-representable integer [Trefethen problem 13.2(c)] in IEEE double precision should be $2^{53}+1$.  Let's check $2^{53} + o$ for $o \\in {-3,-2,...,3}$, by the simple expedient of comparing to integers (using a 64-bit integer type, `Int64`, such that these integers are represented exactly; note that `Int64` is the default integer type in Julia except on 32-bit systems):"
   ]
  },
  {
   "cell_type": "code",
   "execution_count": 1,
   "metadata": {},
   "outputs": [
    {
     "name": "stdout",
     "output_type": "stream",
     "text": [
      "β^p + -3 = 9007199254740989 exactly represented in Float64? true\n",
      "β^p + -2 = 9007199254740990 exactly represented in Float64? true\n",
      "β^p + -1 = 9007199254740991 exactly represented in Float64? true\n",
      "β^p + 0 = 9007199254740992 exactly represented in Float64? true\n",
      "β^p + 1 = 9007199254740993 exactly represented in Float64? false\n",
      "β^p + 2 = 9007199254740994 exactly represented in Float64? true\n",
      "β^p + 3 = 9007199254740995 exactly represented in Float64? false\n"
     ]
    }
   ],
   "source": [
    "β = Int64(2)  # make sure we are using 64-bit ints, even on 32-bit machines\n",
    "p = 53\n",
    "for o in -3:3\n",
    "    i = β^p + o\n",
    "    println(\"β^p + $o = $i exactly represented in Float64? \", i == Float64(i))\n",
    "end"
   ]
  },
  {
   "cell_type": "markdown",
   "metadata": {},
   "source": [
    "Notice that $2^{53}+2$ is exactly represented, because that is equal to $(2^{52}+1) \\times 2$."
   ]
  },
  {
   "cell_type": "markdown",
   "metadata": {},
   "source": [
    "## Problem 2: Funny functions\n",
    "\n",
    "### part (a)\n",
    "\n",
    "Consider the following naive function to compute the $L_4$ norm $(|x|^4 + |y|^4))^{1/4}$ of $(x,y)$:"
   ]
  },
  {
   "cell_type": "code",
   "execution_count": 2,
   "metadata": {},
   "outputs": [
    {
     "data": {
      "text/plain": [
       "L4 (generic function with 1 method)"
      ]
     },
     "execution_count": 2,
     "metadata": {},
     "output_type": "execute_result"
    }
   ],
   "source": [
    "L4(x,y) = (abs(x)^4 + abs(y)^4)^(1/4)"
   ]
  },
  {
   "cell_type": "markdown",
   "metadata": {},
   "source": [
    "We should have `L4(x,0)` give $|x|$, but for very small or very large `x` we get floating-point **underflow** or **overflow**, respectively.  In the default double precision (`Float64`):"
   ]
  },
  {
   "cell_type": "code",
   "execution_count": 3,
   "metadata": {},
   "outputs": [
    {
     "data": {
      "text/plain": [
       "0.0"
      ]
     },
     "execution_count": 3,
     "metadata": {},
     "output_type": "execute_result"
    }
   ],
   "source": [
    "L4(1e-100, 0)  # (1e-100)⁴ underflows to 0.0"
   ]
  },
  {
   "cell_type": "code",
   "execution_count": 4,
   "metadata": {},
   "outputs": [
    {
     "data": {
      "text/plain": [
       "Inf"
      ]
     },
     "execution_count": 4,
     "metadata": {},
     "output_type": "execute_result"
    }
   ],
   "source": [
    "L4(1e+100, 0)  # (1e+100)⁴ overflows to Inf"
   ]
  },
  {
   "cell_type": "markdown",
   "metadata": {},
   "source": [
    "To eliminate this problem, we can simply compute $s = \\max\\{|x|,|y|\\}$ and then pull out this scale factor, since in exact arithmetic $L_4(x,y) = s L_4(x/s,y/s)$ for any $s > 0$.  In this way, we avoid underflow/overflow in the leading-order term.  (If $|y|\\ll |x|$ and $|y/x|^4$ underflows to zero, we don't care, because $1 \\oplus |y/x|^4$ will round to `1.0` long before that point.)"
   ]
  },
  {
   "cell_type": "code",
   "execution_count": 5,
   "metadata": {},
   "outputs": [
    {
     "data": {
      "text/plain": [
       "L4good (generic function with 1 method)"
      ]
     },
     "execution_count": 5,
     "metadata": {},
     "output_type": "execute_result"
    }
   ],
   "source": [
    "function L4good(x,y)\n",
    "    ax, ay = abs(x), abs(y)\n",
    "    s = max(ax,ay)\n",
    "    if s == 0\n",
    "        return float(s) # don't divide by zero if x==y==0\n",
    "    else\n",
    "        return s * ((ax/s)^4 + (ay/s)^4)^(1/4)\n",
    "    end\n",
    "end\n",
    "    "
   ]
  },
  {
   "cell_type": "code",
   "execution_count": 6,
   "metadata": {},
   "outputs": [
    {
     "data": {
      "text/plain": [
       "1.0e-100"
      ]
     },
     "execution_count": 6,
     "metadata": {},
     "output_type": "execute_result"
    }
   ],
   "source": [
    "L4good(1e-100, 0)"
   ]
  },
  {
   "cell_type": "code",
   "execution_count": 7,
   "metadata": {},
   "outputs": [
    {
     "data": {
      "text/plain": [
       "1.0e100"
      ]
     },
     "execution_count": 7,
     "metadata": {},
     "output_type": "execute_result"
    }
   ],
   "source": [
    "L4good(1e+100, 0)"
   ]
  },
  {
   "cell_type": "code",
   "execution_count": 8,
   "metadata": {},
   "outputs": [
    {
     "data": {
      "text/plain": [
       "0.0"
      ]
     },
     "execution_count": 8,
     "metadata": {},
     "output_type": "execute_result"
    }
   ],
   "source": [
    "L4good(0, 0)"
   ]
  },
  {
   "cell_type": "markdown",
   "metadata": {},
   "source": [
    "Let's compute the maximum relative error (compared to `BigFloat`) for million random numbers with random magnitudes from $10^{-308}$ to $10^{+308}$:"
   ]
  },
  {
   "cell_type": "code",
   "execution_count": 9,
   "metadata": {},
   "outputs": [
    {
     "name": "stdout",
     "output_type": "stream",
     "text": [
      "maximum relative err = 5.052322141896941e-16 = 2.275363611560277 ulps.\n"
     ]
    }
   ],
   "source": [
    "maxerr = 0.0\n",
    "for i = 1:10^6\n",
    "    x = (rand() - 0.5) * 10.0^rand(-308:308)\n",
    "    y = (rand() - 0.5) * 10.0^rand(-308:308)\n",
    "    result = L4good(x,y)\n",
    "    exact = L4good(big(x), big(y)) # in 256-bit precision by default\n",
    "    maxerr = max(maxerr, Float64(abs(result - exact) / abs(exact)))\n",
    "end\n",
    "println(\"maximum relative err = \", maxerr, \" = \", maxerr/eps(Float64), \" ulps.\")"
   ]
  },
  {
   "cell_type": "markdown",
   "metadata": {},
   "source": [
    "Accurate to within a few ulps, not too bad considering all the arithmetic required to take to the 4th power and then to the 1/4th power!"
   ]
  },
  {
   "cell_type": "markdown",
   "metadata": {},
   "source": [
    "### part (b)\n",
    "\n",
    "Now we are calculating:"
   ]
  },
  {
   "cell_type": "code",
   "execution_count": 10,
   "metadata": {},
   "outputs": [
    {
     "data": {
      "text/plain": [
       "cotdiff (generic function with 1 method)"
      ]
     },
     "execution_count": 10,
     "metadata": {},
     "output_type": "execute_result"
    }
   ],
   "source": [
    "cotdiff(x,y) = cot(x) - cot(x+y)"
   ]
  },
  {
   "cell_type": "markdown",
   "metadata": {},
   "source": [
    "The problem with this naive implementation is that for $|y|\\ll|x|$ we are subtracting two *nearly equal* quantities, and so we lose all of our significant digits:"
   ]
  },
  {
   "cell_type": "code",
   "execution_count": 11,
   "metadata": {},
   "outputs": [
    {
     "data": {
      "text/plain": [
       "0.0"
      ]
     },
     "execution_count": 11,
     "metadata": {},
     "output_type": "execute_result"
    }
   ],
   "source": [
    "cotdiff(1.0, 1e-20)"
   ]
  },
  {
   "cell_type": "markdown",
   "metadata": {},
   "source": [
    "The correct answer here is:"
   ]
  },
  {
   "cell_type": "code",
   "execution_count": 13,
   "metadata": {},
   "outputs": [
    {
     "data": {
      "text/plain": [
       "1.412282927437391837141168489135572923149464055882223010816205368999992462784898e-20"
      ]
     },
     "execution_count": 13,
     "metadata": {},
     "output_type": "execute_result"
    }
   ],
   "source": [
    "cotdiff(big(1.0), big(1e-20))"
   ]
  },
  {
   "cell_type": "markdown",
   "metadata": {},
   "source": [
    "How can we calculate this acccurately without resorting to extra precision?\n",
    "\n",
    "One option would be to Taylor-expand around $y=0$ and analytically cancel the leading-order $\\cot(x)$ term::\n",
    "$$\n",
    "\\cot(x) - \\cot(x+y) = y \\csc^2(x) - y^2 \\cot(x)\\csc^2(x) + \\frac{y^3}{3} \\left[(\\cos(2x)+2)\\csc^4(x)\\right] - O(y^4)\n",
    "$$\n",
    "We could then use something like:\n",
    "```jl\n",
    "function cotdiff_taylor(x,y)\n",
    "    ε = ... some threshold ...\n",
    "    if abs(y) < abs(x) * ε\n",
    "         return y*csc(x)^2 + ... taylor series to some order ....\n",
    "    else\n",
    "        return cot(x) - cot(x+y)\n",
    "    end\n",
    "end\n",
    "```\n",
    "In some problems, you have no choice to do something like this, but it is a bit painful to decide on the threshold `ε` and the correct number of terms in the Taylor series in order to ensure close to machine precision everywhere.\n",
    "\n",
    "Instead, since these are trigonometric functions, we can try to exploit angle-addition identities to re-arrange the formula so as to perform the cancellation *exactly*.  In particular, you can easily show that:\n",
    "$$\n",
    "\\cot(x) - \\cot(x+y) = \\left[\\cot(x+y) \\cot(x) + 1\\right] \\tan(y)\n",
    "$$\n",
    "in which there is no delicate cancellation for $y \\to 0$.\n",
    "\n",
    "(Note: there many different ways to rearrange trigonometric functions, so there are other possible solutions here.)"
   ]
  },
  {
   "cell_type": "code",
   "execution_count": 14,
   "metadata": {},
   "outputs": [
    {
     "data": {
      "text/plain": [
       "cotdiff_better (generic function with 1 method)"
      ]
     },
     "execution_count": 14,
     "metadata": {},
     "output_type": "execute_result"
    }
   ],
   "source": [
    "cotdiff_better(x,y) = (cot(x+y)*cot(x) + 1) * tan(y)"
   ]
  },
  {
   "cell_type": "code",
   "execution_count": 15,
   "metadata": {},
   "outputs": [
    {
     "data": {
      "text/plain": [
       "1.4122829274373917e-20"
      ]
     },
     "execution_count": 15,
     "metadata": {},
     "output_type": "execute_result"
    }
   ],
   "source": [
    "cotdiff_better(1.0, 1e-20)  # now this is accurate!"
   ]
  },
  {
   "cell_type": "code",
   "execution_count": 16,
   "metadata": {},
   "outputs": [
    {
     "data": {
      "text/plain": [
       "6.738018671929406e-17"
      ]
     },
     "execution_count": 16,
     "metadata": {},
     "output_type": "execute_result"
    }
   ],
   "source": [
    "relerr(approx,exact) = Float64(abs(approx-exact) / abs(exact))\n",
    "\n",
    "relerr(cotdiff_better(1.0, 1e-20), cotdiff(big(1.0), big(1e-20)))"
   ]
  },
  {
   "cell_type": "markdown",
   "metadata": {},
   "source": [
    "Now it is accurate to machine precision for this example!  \n",
    "\n",
    "We can see that relative error (in ulps) is around 1ulp or better for more magnitudes, but for very small $|y|$ we need to increase our `BigFloat` precision:"
   ]
  },
  {
   "cell_type": "code",
   "execution_count": 17,
   "metadata": {},
   "outputs": [
    {
     "name": "stdout",
     "output_type": "stream",
     "text": [
      "maximum relative error is 2.2789719735542174e-16 = 1.0263577330886577 ulps\n"
     ]
    }
   ],
   "source": [
    "maxerr = 0.0\n",
    "setprecision(BigFloat, 2000) do\n",
    "    for y in 10.0 .^ (-100:1)\n",
    "       global maxerr = max(maxerr, relerr(cotdiff_better(1.0, y), cotdiff(big(1.0), big(y))))\n",
    "    end\n",
    "end\n",
    "println(\"maximum relative error is $maxerr = \", maxerr/eps(Float64), \" ulps\")"
   ]
  },
  {
   "cell_type": "markdown",
   "metadata": {},
   "source": [
    "## Problem 3: Newtonish methods"
   ]
  },
  {
   "cell_type": "markdown",
   "metadata": {},
   "source": [
    "Suppose we are trying to find a root $f(x)=0$ and we are given ways to compute $f$, $f'$, and $f''$.   We will design an algorithm to take advantage of this, and apply it to $f(x)=x^3-1$."
   ]
  },
  {
   "cell_type": "markdown",
   "metadata": {},
   "source": [
    "### part (b)"
   ]
  },
  {
   "cell_type": "markdown",
   "metadata": {},
   "source": [
    "We approximate $f(x)$ by the first two terms in the Taylor series (assuming $f$ is analytic):\n",
    "$$\n",
    "f(x - \\delta) \\approx f(x) - \\delta f'(x) + \\frac{\\delta^2}{2} f''(x) = 0\n",
    "$$\n",
    "and set the right-hand side to zero to find an approximate root.  Solving the quadratic equation and eliding the $(x)$ arguments, we obtain an approximate step to the root:\n",
    "$$\n",
    "\\delta = \\frac{f' \\pm \\sqrt{f'^2 - 2ff''}}{f''}\n",
    "$$\n",
    "Close to the root, $f$ is small and therefore the discriminant will be positive and we will get real roots.   Say $f' > 0$.  Then we want the minus root of this quadratic, because we want the *nearest* root (the smallest $\\delta$): that is where the quadratic approximation is most accurate.  But this will run into cancellation errors for subtracting two nearly equal quantities, so we rewrite the desired solution as:\n",
    "$$\n",
    "\\delta = \\frac{2f}{f' + \\sqrt{f'^2 - 2ff''}}\n",
    "$$\n",
    "Conversely, if $f' < 0$, then we need the other root $2f / (f' - \\sqrt{f'^2 - 2ff''})$.  That is, we want to copy the sign of $f'$ to the square root, which is easily done with the Julia `copysign` function.\n",
    "\n",
    "If we are not close to the root, so that the discriminant is negative, we will just take an ordinary Newton step $\\delta = f/f'$.  Notice that this is also approximately the step we take when $f$ is very small.  \n",
    "\n",
    "Here is code that implements this idea:"
   ]
  },
  {
   "cell_type": "code",
   "execution_count": 18,
   "metadata": {},
   "outputs": [
    {
     "data": {
      "text/plain": [
       "newtonish (generic function with 1 method)"
      ]
     },
     "execution_count": 18,
     "metadata": {},
     "output_type": "execute_result"
    }
   ],
   "source": [
    "# take n Newtonish steps starting at x, given functions f(x),f′(x),f″(x) \n",
    "function newtonish(f,f′,f″, x, n)\n",
    "    for i = 1:n\n",
    "        fx = f(x)\n",
    "        f′x = f′(x)\n",
    "        f″x = f″(x)\n",
    "        discrim = f′x^2 - 2*fx*f″x\n",
    "        δ = discrim < 0 ? fx/f′x : 2fx / (f′x + copysign(sqrt(discrim), f′x))\n",
    "        x = x - δ\n",
    "    end\n",
    "    return x\n",
    "end"
   ]
  },
  {
   "cell_type": "markdown",
   "metadata": {},
   "source": [
    "### part (b)"
   ]
  },
  {
   "cell_type": "markdown",
   "metadata": {},
   "source": [
    "Now, let's try it out on the cube root function, i.e. to find the root $1$ of $f(x) = x^3 - 1$.   We just pass the derivatives functions manually, though in a more practical setting we might compute them [via automatic differentiation](https://github.com/JuliaDiff/ForwardDiff.jl)."
   ]
  },
  {
   "cell_type": "code",
   "execution_count": 19,
   "metadata": {},
   "outputs": [
    {
     "name": "stdout",
     "output_type": "stream",
     "text": [
      "1 steps: 0.38021124171160603 digits\n",
      "2 steps: 1.5113771152875048 digits\n",
      "3 steps: 5.010844388088456 digits\n",
      "4 steps: 15.509654418943718 digits\n",
      "5 steps: 47.00608451155082 digits\n",
      "6 steps: 141.4953747893721 digits\n",
      "7 steps: 424.963245622836 digits\n",
      "8 steps: 1275.3668581232278 digits\n",
      "9 steps: 3826.5776956244026 digits\n"
     ]
    }
   ],
   "source": [
    "setprecision(BigFloat, 20000) do # 20000 bits of accuracy, about 5000 decimal digits\n",
    "    for n = 1:9\n",
    "        # output the number of accurate decimal digits, via log10 of the error:\n",
    "        println(\"$n steps: \", -Float64(log10(abs(newtonish(x->x^3-1, x->3x^2, x->6x, big(2), n) - 1))), \" digits\")\n",
    "    end\n",
    "end"
   ]
  },
  {
   "cell_type": "markdown",
   "metadata": {},
   "source": [
    "It is easy to see that the number of digits is roughly tripling on each iteration: **cubic convergence** as expected from part (b).\n",
    "\n",
    "In practice, the quadratic convergence of the ordinary Newton's method is so fast that you hardly ever resort to higher-order methods.  The hard part is finding a starting point sufficiently close to the root that you want, not converging fast once you get there.  Also, in high-dimensional root-finding problems, $f'$ is replaced by the Jacobian matrix, while $f''$ is a rank-3 tensor (\"3d matrix\") that would be expensive to compute and work with.  So, this sort of high-order Newton algorithm is rarely used in practice."
   ]
  },
  {
   "cell_type": "markdown",
   "metadata": {},
   "source": [
    "## Problem 4: Addition, another way"
   ]
  },
  {
   "cell_type": "markdown",
   "metadata": {},
   "source": [
    "Below, we modified the code to a faster version, `div2sum_faster`, that simply enlarges the base case as explained in the solutions."
   ]
  },
  {
   "cell_type": "code",
   "execution_count": 20,
   "metadata": {},
   "outputs": [
    {
     "name": "stderr",
     "output_type": "stream",
     "text": [
      "┌ Info: Precompiling PyPlot [d330b81b-6aea-500a-939a-2ce795aea3ee]\n",
      "└ @ Base loading.jl:1273\n"
     ]
    },
    {
     "data": {
      "image/png": "[encoded data removed]",
      "text/plain": [
       "Figure(PyObject <Figure size 640x480 with 1 Axes>)"
      ]
     },
     "metadata": {},
     "output_type": "display_data"
    }
   ],
   "source": [
    "# Sum x[first:last].  This function works, but is a little slower than we would like.\n",
    "function div2sum(x, first=firstindex(x), last=lastindex(x))\n",
    "    n = last - first + 1;\n",
    "    if n < 2\n",
    "        s = zero(eltype(x))\n",
    "        for i = first:last\n",
    "            s += x[i]\n",
    "        end\n",
    "        return s\n",
    "    else\n",
    "        mid = (first + last) ÷ 2 # find middle as (first+last)/2, rounding down\n",
    "        return div2sum(x, first, mid) + div2sum(x, mid+1, last)\n",
    "    end\n",
    "end\n",
    "\n",
    "# Make it faster by enlarging the base case:\n",
    "function div2sum_faster(x, first=firstindex(x), last=lastindex(x))\n",
    "    n = last - first + 1;\n",
    "    if n < 200\n",
    "        s = zero(eltype(x))\n",
    "        for i = first:last\n",
    "            s += x[i]\n",
    "        end\n",
    "        return s\n",
    "    else\n",
    "        mid = (first + last) ÷ 2 # find middle as (first+last)/2, rounding down\n",
    "        return div2sum_faster(x, first, mid) + div2sum_faster(x, mid+1, last)\n",
    "    end\n",
    "end\n",
    "\n",
    "# check its accuracy for a set logarithmically spaced n's.  Since div2sum is slow,\n",
    "# we won't go to very large n or use too many points\n",
    "N = round.(Int, 10 .^ range(1,7,length=50)) # 50 points from 10¹ to 10⁷\n",
    "err = Float64[]\n",
    "err_faster = Float64[]\n",
    "for n in N\n",
    "    x = rand(Float32, n)\n",
    "    xdouble = Float64.(x)\n",
    "    push!(err, abs(div2sum(x) - sum(xdouble)) / abs(sum(xdouble)))\n",
    "    push!(err_faster, abs(div2sum_faster(x) - sum(xdouble)) / abs(sum(xdouble)))\n",
    "end\n",
    "\n",
    "using PyPlot\n",
    "loglog(N, err, \"bo-\")\n",
    "loglog(N, err_faster, \"r.-\")\n",
    "title(\"simple div2sum vs. faster div2sum\")\n",
    "xlabel(\"number of summands\")\n",
    "ylabel(\"relative error\")\n",
    "legend([\"original div2sum\", \"faster div2sum\"])\n",
    "grid()"
   ]
  },
  {
   "cell_type": "markdown",
   "metadata": {},
   "source": [
    "As we can see, the modified version has about the same accuracy.  But is it really faster?\n",
    "\n",
    "Time it vs. the built-in `sum` (which is also written in Julia), and also write our own looping sum just so that we know exactly what it is doing:"
   ]
  },
  {
   "cell_type": "code",
   "execution_count": 21,
   "metadata": {},
   "outputs": [
    {
     "name": "stderr",
     "output_type": "stream",
     "text": [
      "┌ Info: Precompiling BenchmarkTools [6e4b80f9-dd63-53aa-95a3-0cdb28fa8baf]\n",
      "└ @ Base loading.jl:1273\n"
     ]
    },
    {
     "name": "stdout",
     "output_type": "stream",
     "text": [
      "  52.053 ms (0 allocations: 0 bytes)\n",
      "  9.071 ms (0 allocations: 0 bytes)\n",
      "  1.588 ms (0 allocations: 0 bytes)\n",
      "  9.969 ms (0 allocations: 0 bytes)\n"
     ]
    },
    {
     "data": {
      "text/plain": [
       "4.999003f6"
      ]
     },
     "execution_count": 21,
     "metadata": {},
     "output_type": "execute_result"
    }
   ],
   "source": [
    "function loopsum(x)\n",
    "    s = zero(eltype(x))\n",
    "    for i in eachindex(x)\n",
    "        s += x[i]\n",
    "    end\n",
    "    return s\n",
    "end\n",
    "\n",
    "x = rand(Float32, 10^7)\n",
    "using BenchmarkTools # better benchmarking utilities\n",
    "@btime div2sum($x)\n",
    "@btime div2sum_faster($x)\n",
    "@btime sum($x)\n",
    "@btime loopsum($x)"
   ]
  },
  {
   "cell_type": "markdown",
   "metadata": {},
   "source": [
    "Enlarging the base case made it about **five times faster** and comparable in speed to `loopsum`, a naive loop.\n",
    "\n",
    "The built-in `sum` function is still about 2–3 times faster.   It is actually using a [pairwise algorithm too, written in Julia](https://github.com/JuliaLang/julia/blob/38b3c46b0423ab1862f6cee7895a44e3ec397502/base/reduce.jl#L104-L113), but it plays some tricks with the base case to get better CPU utilization.  In particular, it uses [SIMD instructions in either native Julia code](https://github.com/JuliaLang/julia/pull/6928) or via the BLAS `asum` function, depending on the array type.   **Getting the last factor of two in performance is often tricky (and sometimes extremely hard)** and involves extracting every ounce of efficiency from the CPU with low-level tricks.\n",
    "\n",
    "In this case, it turns out we can catch up with the built-in `sum` just by adding a couple of decorations that turn on [SIMD optimization](http://kristofferc.github.io/post/intrinsics/) (`@simd`) and turn off bounds checking (`@inbounds`):"
   ]
  },
  {
   "cell_type": "code",
   "execution_count": 22,
   "metadata": {},
   "outputs": [
    {
     "name": "stdout",
     "output_type": "stream",
     "text": [
      "  2.279 ms (0 allocations: 0 bytes)\n"
     ]
    },
    {
     "data": {
      "text/plain": [
       "4.999201f6"
      ]
     },
     "execution_count": 22,
     "metadata": {},
     "output_type": "execute_result"
    }
   ],
   "source": [
    "# Make it faster by enlarging the base case:\n",
    "function div2sum_evenfaster(x, first=firstindex(x), last=lastindex(x))\n",
    "    n = last - first + 1;\n",
    "    if n < 200\n",
    "        s = zero(eltype(x))\n",
    "        @simd for i = first:last\n",
    "            @inbounds s += x[i]\n",
    "        end\n",
    "        return s\n",
    "    else\n",
    "        mid = (first + last) ÷ 2 # find middle as (first+last)/2, rounding down\n",
    "        return div2sum_evenfaster(x, first, mid) + div2sum_evenfaster(x, mid+1, last)\n",
    "    end\n",
    "end\n",
    "\n",
    "@btime div2sum_evenfaster($x)"
   ]
  },
  {
   "cell_type": "markdown",
   "metadata": {},
   "source": [
    "We are now a lot closer to the 1.6ms of the built-in `sum` function.  (We can do a bit better by tuning the base-case size.)"
   ]
  }
 ],
 "metadata": {
  "@webio": {
   "lastCommId": null,
   "lastKernelId": null
  },
  "kernelspec": {
   "display_name": "Julia 1.3.0",
   "language": "julia",
   "name": "julia-1.3"
  },
  "language_info": {
   "file_extension": ".jl",
   "mimetype": "application/julia",
   "name": "julia",
   "version": "1.3.1"
  }
 },
 "nbformat": 4,
 "nbformat_minor": 1
}
