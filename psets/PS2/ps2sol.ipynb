{
 "cells": [
  {
   "cell_type": "markdown",
   "metadata": {},
   "source": [
    "# <div style=\"text-align: center\">18.335/6.337 Problem Set 2 - SVD and Gram–Schmidt</div>\n",
    "## <div style=\"text-align: center\">Solution</div>\n",
    "### <div style=\"text-align: center\">Created by Wonseok Shin</div>"
   ]
  },
  {
   "cell_type": "markdown",
   "metadata": {},
   "source": [
    "$\\newcommand{\\Cmat}[2]{\\mathbb{C}^{#1\\times#2}}\\newcommand{\\Cvec}[1]{\\mathbb{C}^{#1}}\\newcommand{\\Rmat}[2]{\\mathbb{R}^{#1\\times#2}}\\newcommand{\\Rvec}[1]{\\mathbb{R}^{#1}}\\newcommand{\\null}{\\mathrm{null}}\\newcommand{\\range}{\\mathrm{range}}\\newcommand{\\rank}{\\mathrm{rank}}\\newcommand{\\nullity}{\\mathrm{nullity}}\\newcommand{\\sign}{\\mathrm{sign}}\\newcommand{\\norm}[1]{\\left\\|#1\\right\\|}\\newcommand{\\abs}[1]{\\left|#1\\right|}\\newcommand{\\epsmach}{\\epsilon_\\mathrm{machine}}\\newcommand{\\log}{\\mathrm{log}}\\newcommand{\\tanh}{\\mathrm{tanh}}\\newcommand{\\l}{\\lambda}\\newcommand{\\d}{\\delta}$"
   ]
  },
  {
   "cell_type": "markdown",
   "metadata": {},
   "source": [
    "## Problem 1.  Low-rank approximation via SVD [2 pts]\n",
    "\n",
    "In this problem, we will see the efficiency of the low-rank approximation of a matrix via SVD.  Specifically, we will see that the low-rank approximation of our $2000\\times2000$ test matrix $A$ allows us to calculate $A x$ much faster with only small error."
   ]
  },
  {
   "cell_type": "markdown",
   "metadata": {},
   "source": [
    "### Assignment 1.1.  Choose the rank  [0.5 pt]\n",
    "\n",
    "When the SVD of $A\\in \\mathbb{C}^{m\\times n}$ is $A=\\sum _{j=1}^p \\sigma _j u_j v_j^*$, the low-rank approximation of $A$ is a partial sum $A_k = \\sum _{j=1}^k \\sigma _j u_j v_j^*$, where $1\\le k \\le p=\\min\\{m,n\\}$.  \n",
    "\n",
    "For an accurate-yet-efficient approximation, the correct choice of the rank $k$ is very important.  Typically, we only keep the terms with relatively large $\\sigma_j$'s.  In this problem set, we will keep all the terms with $\\sigma_j$'s greater than or equal to 1% of $\\sigma_1$.\n",
    "\n",
    "Implement `find_k` below that takes a vector of $\\sigma_j$'s and returns $k$ such that $\\sigma_k / \\sigma_1\\ge 0.01$ and $\\sigma_{k+1}/\\sigma_1<0.01$."
   ]
  },
  {
   "cell_type": "code",
   "execution_count": 1,
   "metadata": {},
   "outputs": [
    {
     "data": {
      "text/plain": [
       "find_k (generic function with 1 method)"
      ]
     },
     "execution_count": 1,
     "metadata": {},
     "output_type": "execute_result"
    }
   ],
   "source": [
    "function find_k(σ)  # σ: vector of σⱼ's\n",
    "    σ₁ = σ[1]\n",
    "    k = findlast(σ .≥ 0.01σ₁)\n",
    "\n",
    "    return k\n",
    "end"
   ]
  },
  {
   "cell_type": "markdown",
   "metadata": {},
   "source": [
    "### Assignment 1.2.  Apply $A_k$ to $x$ [0.5 pt]\n",
    "\n",
    "Now, we implement the operation of $A_k$ on $x$.  Complete `apply_Aₖ` below that takes the SVD components of $A$ together with $k$ and $x$, and returns $A_k x$.\n",
    "\n",
    "Hint: when implementing $B C x$ numerically for some matrices $B$ and $C$, it is very important to implement it as $B (C x)$ rather than $(B C) x$.  Why do you think this is the case?  (You don't have to submit the answer to this question.)"
   ]
  },
  {
   "cell_type": "code",
   "execution_count": 2,
   "metadata": {},
   "outputs": [
    {
     "data": {
      "text/plain": [
       "apply_Aₖ (generic function with 1 method)"
      ]
     },
     "execution_count": 2,
     "metadata": {},
     "output_type": "execute_result"
    }
   ],
   "source": [
    "function apply_Aₖ(U, σ, V, k, x)\n",
    "    Uₖ = @view U[:,1:k]\n",
    "    σₖ = @view σ[1:k]\n",
    "    Vₖ = @view V[:,1:k]\n",
    "\n",
    "#     yₖ = Uₖ * (σₖ .* (Vₖ' * x))\n",
    "    yₖ = Uₖ * (σₖ .* BLAS.gemv('C', Vₖ, x))\n",
    "\n",
    "    return yₖ  # yₖ = Aₖ x\n",
    "end"
   ]
  },
  {
   "cell_type": "markdown",
   "metadata": {},
   "source": [
    "### Assignment 1.3.  Measure the error in $A_k x$ [0.5 pt]\n",
    "\n",
    "To test the accuracy of $A_k x$, complete `eval_err` below that evaluates the average error in $A_k x$ over many $x$'s.  The specific requirements are as follows.\n",
    "\n",
    "- Pass $x$'s as the columns of a matrix $X$.\n",
    "- For each $x$, calculate $A x$ and $A_k x$ (using `apply_Aₖ`), and the error $\\left\\|A_k x-A x\\right\\|_2 / \\left\\| A x\\right\\|_2$.\n",
    "- Repeat the error calculation for all columns $x$ of $X$, and calculate the average error.\n",
    "- Return the average error."
   ]
  },
  {
   "cell_type": "code",
   "execution_count": 3,
   "metadata": {},
   "outputs": [
    {
     "data": {
      "text/plain": [
       "eval_err (generic function with 1 method)"
      ]
     },
     "execution_count": 3,
     "metadata": {},
     "output_type": "execute_result"
    }
   ],
   "source": [
    "function eval_err(A, X, U, σ, V, k)\n",
    "    n = size(X, 2)\n",
    "\n",
    "    err = 0.0\n",
    "    for j = 1:n\n",
    "        x = @view X[:,j]\n",
    "\n",
    "        y = A*x\n",
    "        yₖ = apply_Aₖ(U, σ, V, k, x)\n",
    "        err += norm(yₖ - y) / norm(y)\n",
    "    end\n",
    "\n",
    "    err /= n\n",
    "\n",
    "    return err  # average error over columns of X\n",
    "end"
   ]
  },
  {
   "cell_type": "markdown",
   "metadata": {},
   "source": [
    "### Assignment 1.4.  Measure the performance of $A_k x$ [0.5 pt]\n",
    "\n",
    "To evaluate the performance of $A_k x$, complete `eval_time` below that evaluates the average time taken for calculating $A x$ and $A_k x$ over many $x$'s.  The specific requirements are as follows.\n",
    "\n",
    "- Pass $x$'s as the columns of a matrix $X$.\n",
    "- For each $x$, time the calculation of $A x$ and $A_k x$ (using `apply_Aₖ`).  Julia's `@elapsed` macro will be handy for timing.\n",
    "- Repeat this time measurement for all columns $x$ of $X$, and calculate the average time taken for $A x$ and $A_k x$ separately.\n",
    "- Return the average times."
   ]
  },
  {
   "cell_type": "code",
   "execution_count": 4,
   "metadata": {},
   "outputs": [
    {
     "data": {
      "text/plain": [
       "eval_t (generic function with 1 method)"
      ]
     },
     "execution_count": 4,
     "metadata": {},
     "output_type": "execute_result"
    }
   ],
   "source": [
    "function eval_t(A, X, U, σ, V, k)\n",
    "    n = size(X, 2)\n",
    "\n",
    "    t_A = 0.0\n",
    "    t_Aₖ = 0.0\n",
    "    for j = 1:n\n",
    "        x = @view X[:,j]\n",
    "        t_A += @elapsed A*x\n",
    "        t_Aₖ += @elapsed apply_Aₖ(U, σ, V, k, x)\n",
    "    end\n",
    "\n",
    "    t_A /= n\n",
    "    t_Aₖ /= n\n",
    "\n",
    "    return t_A, t_Aₖ  # average time taken for A x, average time taken for Aₖ x\n",
    "end"
   ]
  },
  {
   "cell_type": "markdown",
   "metadata": {},
   "source": [
    "### Verification of your implementation\n",
    "\n",
    "Run the following code block to verify your implementation of the functions"
   ]
  },
  {
   "cell_type": "code",
   "execution_count": 5,
   "metadata": {},
   "outputs": [
    {
     "name": "stdout",
     "output_type": "stream",
     "text": [
      "Comparison between A x and Aₖ x\n",
      "------------------------------------\n",
      "A: m = 2000, n = 2000, k = 5\n",
      "\n",
      "Average error in Aₖ x = 0.330%\n",
      "\n",
      "time for A x: 2.837683e-03 seconds\n",
      "time for Aₖ x: 5.186680e-05 seconds\n",
      "\n",
      "Aₖ x is 54.71 times faster than A x.\n",
      "------------------------------------\n"
     ]
    }
   ],
   "source": [
    "# Load the test matrix and vectors, and perform SVD.\n",
    "using JLD  # if not installed yet, execute Pkg.add(\"JLD\") first\n",
    "\n",
    "@load \"A.jld\"\n",
    "m, n = size(A)\n",
    "\n",
    "# Find the number of dominant singular values.\n",
    "U, σ, V = svd(A)\n",
    "k = find_k(σ)\n",
    "\n",
    "# Measure the accuracy of the low-rank approximation.\n",
    "N = 10  # number of x's to test\n",
    "X = randn(n,N) + im*randn(n,N)  # N random complex vectors\n",
    "err = eval_err(A, X, U, σ, V, k)\n",
    "\n",
    "# Measure the performance of the low-rank approximation.\n",
    "t_A, t_Aₖ = eval_t(A, X, U, σ, V, k)\n",
    "t_ratio = t_A / t_Aₖ\n",
    "\n",
    "# Print the measurement result.\n",
    "println(\"Comparison between A x and Aₖ x\")\n",
    "println(\"------------------------------------\")\n",
    "println(\"A: m = $m, n = $n, k = $k\\n\")\n",
    "\n",
    "@printf \"Average error in Aₖ x = %.3f%%\\n\\n\" 100err\n",
    "\n",
    "@printf \"time for A x: %e seconds\\n\" t_A\n",
    "@printf \"time for Aₖ x: %e seconds\\n\\n\" t_Aₖ\n",
    "\n",
    "@printf \"Aₖ x is %.2f times faster than A x.\\n\" t_ratio\n",
    "println(\"------------------------------------\")"
   ]
  },
  {
   "cell_type": "markdown",
   "metadata": {},
   "source": [
    "## Problem 2.  Intersection between subspaces [4 pts]\n",
    "\n",
    "(Inspired by Exercise 7.4 of T&B)\n",
    "\n",
    "In this problem, we will develop a method to calculate the intersection between two subspaces $\\range(A)$ and $\\range(B)$ for $A \\in \\Cmat{m}{n}$ and $B \\in \\Cmat{m}{p}$.\n",
    "\n",
    "To begin with, here are a few facts you must have learned in linear algebra class, just in case you forgot them.  Below, $X$ and $Y$ are subspaces of $\\Cvec{m}$.\n",
    "\n",
    "- $X^\\bot = \\{z \\in \\Cvec{m} \\mid x^* z = 0 \\text{ for all } x \\in X\\}$.  In other words, $X^\\bot$ is the set of vectors orthogonal to all vectors in $X$.  It is called the [orthogonal complement](https://en.wikipedia.org/wiki/Orthogonal_complement) of $X$.\n",
    "- $(X^\\bot)^\\bot = X$.\n",
    "- $X + Y = \\{x+y \\mid x \\in X, y \\in Y\\}$.  In other words, $X+Y$ is the set of vectors that can be decomposed into the sum of the elements of $X$ and $Y$."
   ]
  },
  {
   "cell_type": "markdown",
   "metadata": {},
   "source": [
    "**(a) [1 pt]** Show that $\\range(A)^\\bot = \\null(A^*)$."
   ]
  },
  {
   "cell_type": "markdown",
   "metadata": {},
   "source": [
    "***Proof.***\n",
    "\n",
    "$$\n",
    "\\begin{align}\n",
    "\\null(A^*) &=\\{x \\in \\Cvec{m} \\mid A^* x = 0\\}\\\\\n",
    "&= \\{x \\in \\Cvec{m} \\mid a_i^* x = 0 \\text{ for all } i = 1, \\ldots, n\\}\\\\\n",
    "&= \\{x \\in \\Cvec{m} \\mid a^* x = 0 \\text{ for all } a \\in \\left<a_1, \\ldots, a_n\\right>\\}\\\\\n",
    "&= \\{x \\in \\Cvec{m} \\mid a^* x = 0 \\text{ for all } a \\in \\range(A)\\} = \\range(A)^\\bot.\n",
    "\\end{align}\n",
    "$$"
   ]
  },
  {
   "cell_type": "markdown",
   "metadata": {},
   "source": [
    "**(b) [1 pt]** Complete the function `null` below that takes an arbitrary matrix $A$ and returns orthonormal basis vectors of its nullspace.  (Hint: full SVD can be performed by `svd(A, thin=false)` in Julia.)"
   ]
  },
  {
   "cell_type": "markdown",
   "metadata": {},
   "source": [
    "***Solution.***\n",
    "\n",
    "From Theorem 5.2 of T&B, we know that the right singular vectors corresponding to zero singular values are orthonormal basis vectors of $\\null(A)$.  This is used to implement `null` below:"
   ]
  },
  {
   "cell_type": "code",
   "execution_count": 6,
   "metadata": {},
   "outputs": [
    {
     "data": {
      "text/plain": [
       "null (generic function with 1 method)"
      ]
     },
     "execution_count": 6,
     "metadata": {},
     "output_type": "execute_result"
    }
   ],
   "source": [
    "function null(A)\n",
    "    m, n = size(A)\n",
    "    ~, σ, V = svd(A, thin=false)    \n",
    "    r = findlast(σ .> 0)  # index of last nonzero singular value\n",
    "    \n",
    "    return V[:, r+1:n]\n",
    "end"
   ]
  },
  {
   "cell_type": "markdown",
   "metadata": {},
   "source": [
    "**(c) [1 pt]** For subspaces of $X$ and $Y$ of $\\Cvec{m}$, show $(X + Y)^\\bot = X^\\bot \\cap Y^\\bot$.  (Hint: for a basis $\\{a_1, \\ldots, a_k\\}$ of $X$, $X = \\range(A)$.)"
   ]
  },
  {
   "cell_type": "markdown",
   "metadata": {},
   "source": [
    "***Proof.***\n",
    "\n",
    "For bases $\\{a_1, \\ldots, a_k\\}$ and $\\{b_1, \\ldots, b_n\\}$ of $X$ and $Y$, we have $X = \\range(A)$ and $Y = \\range(B)$.  Then, $X + Y = \\left<a_1, \\ldots, a_k, b_1, \\ldots, b_n \\right> = \\range(\\left[A\\,\\, B\\right])$.  Therefore, using Part (a), we have\n",
    "\n",
    "$$\n",
    "\\begin{align}\n",
    "(X + Y)^\\bot & = \\range(\\left[A\\,\\, B\\right])^\\bot\\\\\n",
    "& = \\null(\\left[A\\,\\, B\\right]^*)\\\\\n",
    "& = \\null\\left(\\left[\n",
    "\\begin{array}{c}\n",
    " A^* \\\\\n",
    " B^* \\\\\n",
    "\\end{array}\n",
    "\\right]\\right)\\\\\n",
    "& = \\{x \\mid A^* x = 0 \\text{ and } B^*x = 0\\}\\\\\n",
    "& = \\null(A^*) \\cap \\null(B^*)\\\\\n",
    "& = \\range(A)^\\bot \\cap \\range(B)^\\bot = X^\\bot \\cap Y^\\bot.\n",
    "\\end{align}\n",
    "$$"
   ]
  },
  {
   "cell_type": "markdown",
   "metadata": {},
   "source": [
    "**(d) [1 pt]** Suppose $A \\in \\Cmat{m}{n}$ and $B \\in \\Cmat{m}{p}$ are full-rank and skinny.  Devise and explain a way to find an orthonormal basis of $\\range(A) \\cap \\range(B)$ by using `null` three times.  Implement your method in the function `interspace` below that takes $A$ and $B$ and returns the orthonormal basis of $\\range(A) \\cap \\range(B)$.  Inside `interspace`, do not perform any matrix factorization or orthogonalization outside `null`."
   ]
  },
  {
   "cell_type": "markdown",
   "metadata": {},
   "source": [
    "***Solution.***\n",
    "\n",
    "Because $X^\\bot \\cap Y^\\bot = (X + Y)^\\bot$ from Part (c) and also $(X^\\bot)^\\bot = X$, we have \n",
    "\n",
    "$$\n",
    "X \\cap Y = (X^\\bot)^\\bot \\cap (Y^\\bot)^\\bot = (X^\\bot + Y^\\bot)^\\bot.\n",
    "$$\n",
    "\n",
    "Therefore,\n",
    "\n",
    "$$\n",
    "\\range(A) \\cap \\range(B) = (\\range(A)^\\bot + \\range(B)^\\bot)^\\bot = (\\null(A^*) + \\null(B^*))^\\bot.\n",
    "$$\n",
    "\n",
    "Now, suppose that $\\{c_1, \\ldots, c_{m-n}\\}$ and $\\{c'_1, \\ldots, c'_{m-p}\\}$ are orthonormal bases of $\\null(A^*)$ and $\\null(B^*)$, respectively.  Then, for a matrix $C = \\left[c_1\\,\\, \\cdots\\,\\, c_{m-n}\\,\\, c'_1\\,\\, \\cdots\\,\\, c'_{m-p}\\right]$, we have $\\null(A^*) + \\null(B^*) = \\range(C)$.  Therefore,\n",
    "\n",
    "$$\n",
    "\\range(A) \\cap \\range(B) = \\range(C)^\\bot = \\null(C^*).\n",
    "$$\n",
    "\n",
    "\n",
    "\n",
    "\n",
    "So, we can find an orthonormal basis of $\\range(A) \\cap \\range(B)$ by taking the following steps:\n",
    "\n",
    "- Find onthonormal bases $\\{c_1, \\ldots, c_{m-n}\\}$ and $\\{c'_1, \\ldots, c'_{m-p}\\}$ of $\\null(A^*)$ and $\\null(B^*)$ using `null` twice.\n",
    "- Construct a matrix $C = \\left[c_1\\,\\, \\cdots\\,\\, c_{m-n}\\,\\, c'_1\\,\\, \\cdots\\,\\, c'_{m-p}\\right]$.\n",
    "- Find an orthonormal basis of $\\null(C^*)$ using `null` once.  Then this is an orthonormal basis of $\\range(A) \\cap \\range(B)$.\n",
    "\n",
    "`interspace` below implements this algorithm."
   ]
  },
  {
   "cell_type": "code",
   "execution_count": 7,
   "metadata": {},
   "outputs": [
    {
     "data": {
      "text/plain": [
       "interspace (generic function with 1 method)"
      ]
     },
     "execution_count": 7,
     "metadata": {},
     "output_type": "execute_result"
    }
   ],
   "source": [
    "function interspace(A, B)\n",
    "    Na = null(A')\n",
    "    Nb = null(B')\n",
    "    C = [Na Nb]\n",
    "    \n",
    "    return null(C')\n",
    "end"
   ]
  },
  {
   "cell_type": "markdown",
   "metadata": {},
   "source": [
    "### Validation of your implementation\n",
    "\n",
    "The following script uses `interspace` to solve Exercise 7.4 of T&B.  The solution should be close to `v = [0.534673; 0.703132; 0.468754]`.  Note, however, that our `interspace` can handle more general, higher-dimensional cases."
   ]
  },
  {
   "cell_type": "code",
   "execution_count": 8,
   "metadata": {},
   "outputs": [
    {
     "name": "stdout",
     "output_type": "stream",
     "text": [
      "Intersection is along v = [0.534673; 0.703132; 0.468754].\n"
     ]
    }
   ],
   "source": [
    "a₁ = [0.9, 0.3, 0.2]\n",
    "a₂ = [0.5, 0.9, 0.6]\n",
    "\n",
    "b₁ = [0.1, 0.6, 0.1]\n",
    "b₂ = [0.7, 0.4, 0.6]\n",
    "\n",
    "A = [a₁ a₂]\n",
    "B = [b₁ b₂]\n",
    "\n",
    "v = interspace(A, B)\n",
    "\n",
    "println(\"Intersection is along v = $v.\")"
   ]
  },
  {
   "cell_type": "markdown",
   "metadata": {},
   "source": [
    "## Problem 3.  QR factorization via the Gram–Schmidt procedure [4 pts]\n",
    "\n",
    "The functions that perform the reduced QR factorization by the Gram–Schmidt procedure, namely `clgs` and `mgs`, show up several times in numerical examples in T&B.  However, Julia does not provide these functions, because the standard method to perform the QR factorization is the Householder triangularization rather than the Gram-Schmidt procedure.  In this problem, we will write `clgs` and `mgs` so that they could be used later in the course.\n",
    "\n",
    "`clgs` and `mgs` implement the classical and modified Gram–Schmidt procedures described in Algs. 7.1 and 8.1 of T&B.  In addition to them, we will also write an additional function, `mgsc`, which performs the modified Gram–Schmidt procedure along the *column* direction.  In terms of code, `mgsc` should look very close to `clgs`, but it must produce the numerically identical result as `mgs`.\n",
    "\n",
    "A few general directions about writing these functions:\n",
    "\n",
    "- For simplicity, consider only skinny or square input matrices ($A \\in \\mathbb{C}^{m\\times n}$ with $m \\ge n$).\n",
    "- Handle rank-deficient $A$ properly.\n",
    "- For reduced memory footprint, implement the functions such that the variable holding the input $A$ is reused to store the output matrix factor $Q$.  (In other words, overwrite the contents of the variable `A` storing the input $A$ with the computed result $Q$.)  Never allocate memory for $Q$ inside the functions.  This way of implementing algorithms is called an [in-place style](https://en.wikipedia.org/wiki/In-place_algorithm).\n",
    "- Similarly, Never allocated memory for $R$ inside the functions.  Instead, create the variable for $R$ outside and pass to the functions as an input argument.  This way, we can allocated memory for $R$ only once and reuse it over several functions calls.  (See the validation code later.)\n",
    "\n",
    "So, our functions will overwrite the contents of the input variables to store the outputs.  Julia's naming convention for functions modifying the contents of input variables is to [append `!` to function names](http://docs.julialang.org/en/stable/manual/style-guide/#append-to-names-of-functions-that-modify-their-arguments) to warn the users about the (unexpected) change of the contents of the input variables.  For example, for a vector `x`, `sort(x)` returns a separate vector containing the sorted vector, whereas `sort!(x)` overwrites `x` with the sorted result:"
   ]
  },
  {
   "cell_type": "code",
   "execution_count": 9,
   "metadata": {},
   "outputs": [
    {
     "name": "stdout",
     "output_type": "stream",
     "text": [
      "After sort(x): x = [2, 4, 1, 3]\n",
      "After sort!(x): x = [1, 2, 3, 4]\n"
     ]
    }
   ],
   "source": [
    "x = [2, 4, 1, 3]\n",
    "y = sort(x)\n",
    "println(\"After sort(x): x = $x\")\n",
    "\n",
    "x = [2, 4, 1, 3]\n",
    "sort!(x)  # overwrite x\n",
    "println(\"After sort!(x): x = $x\")"
   ]
  },
  {
   "cell_type": "markdown",
   "metadata": {},
   "source": [
    "Once an algorithm is implemented in in-place style, the out-of-place version of the algorithm can be easily implemented in terms of the in-place version.  For example, the out-of-place `sort` (without trailing `!`) can be written easily by using the in-place `sort!` (with trailing `!`) as\n",
    "\n",
    "```julia\n",
    "function sort(x)\n",
    "    y = copy(x)\n",
    "    sort!(y)\n",
    "    return y\n",
    "end\n",
    "```\n",
    "\n",
    "Note that the above code keeps the contents of `x` intact.  In addition to the reduced memory footprint, the fact that the out-of-place version of an algorithm can be easily written in terms of the in-place version is another reason to prefer the in-place style.  \n",
    "\n",
    "Following Julia's naming convention, we will name our in-place functions `clgs!`, `mgs!`, `mgsc!`.  The out-of-place counter parts, `clgs`, `mgs`, `mgsc`,  will be written in terms these in-place functions as follows:"
   ]
  },
  {
   "cell_type": "code",
   "execution_count": 10,
   "metadata": {},
   "outputs": [
    {
     "data": {
      "text/plain": [
       "mgsc (generic function with 1 method)"
      ]
     },
     "execution_count": 10,
     "metadata": {},
     "output_type": "execute_result"
    }
   ],
   "source": [
    "# CLGS out-of-place\n",
    "function clgs(A)\n",
    "    m, n = size(A)\n",
    "    Q = copy(A)\n",
    "    R = similar(A, (n,n))\n",
    "    clgs!(Q, R)    \n",
    "    return (Q, R)\n",
    "end\n",
    "\n",
    "# MGS out-of-place\n",
    "function mgs(A)\n",
    "    m, n = size(A)\n",
    "    Q = copy(A)\n",
    "    R = similar(A, (n,n))\n",
    "    mgs!(Q, R)\n",
    "    return (Q, R)\n",
    "end\n",
    "\n",
    "# MGSC out-of-place\n",
    "function mgsc(A)\n",
    "    m, n = size(A)\n",
    "    Q = copy(A)\n",
    "    R = similar(A, (n,n))\n",
    "    mgsc!(Q, R)\n",
    "    return (Q, R)\n",
    "end"
   ]
  },
  {
   "cell_type": "markdown",
   "metadata": {},
   "source": [
    "### Assignment 3.1.  CLGS, MGS, and MGSC [3 pts]\n",
    "\n",
    "Complete `clgs!`, `mgs!`, `mgsc!` below that perform the reduced QR factorization using the classical, modified, column-wise modified Gram–Schmidt procedure, respectively.\n",
    "\n",
    "The points for this assignment are distributed as follows:\n",
    "\n",
    "- 0.5 pts for each function handling full-rank $A$ correctly.\n",
    "- Additional 0.5 pts for each function handling rank-deficient $A$ correctly.\n",
    "\n",
    "You are welcome to introduce your own *helper functions* to reduce the amount of code.  Whenever you recognize recurring patterns in your code, it is a good programming practice to define a helper function that handles those recurring portions.  Defining helper functions, however, is not a requirement of this problem."
   ]
  },
  {
   "cell_type": "markdown",
   "metadata": {},
   "source": [
    "***Solution.***\n",
    "\n",
    "(See \"Notes on Julia programming styles\" at the end of this notebook for different coding styles available in Julia.)\n",
    "\n",
    "I will define a helper funnction \"ortho_against\".  This function is used to ort"
   ]
  },
  {
   "cell_type": "code",
   "execution_count": 11,
   "metadata": {},
   "outputs": [
    {
     "data": {
      "text/plain": [
       "gsc! (generic function with 1 method)"
      ]
     },
     "execution_count": 11,
     "metadata": {},
     "output_type": "execute_result"
    }
   ],
   "source": [
    "function ortho_against!(v, a, q)\n",
    "    r = q⋅a\n",
    "    v .-= r*q\n",
    "    return r\n",
    "end\n",
    "\n",
    "# GS in column direction (for clgs! and mgsc!)\n",
    "function gsc!(A, R, modified)\n",
    "    m, n = size(A)\n",
    "    assert(size(R)==(n,n))\n",
    "\n",
    "    R .= 0  # initialize R\n",
    "    for j = 1:n\n",
    "        vⱼ = @view A[:,j]  # no alloc\n",
    "        aⱼ = modified ? vⱼ : copy(vⱼ)  # no alloc : alloc\n",
    "        \n",
    "        for i = 1:j-1\n",
    "            R[i,j] = ortho_against!(vⱼ, aⱼ, @view(A[:,i]))\n",
    "        end\n",
    "        \n",
    "        R[j,j] = norm(vⱼ)\n",
    "        if R[j,j] == 0\n",
    "            rand!(vⱼ)\n",
    "            aⱼ = modified ? vⱼ : copy(vⱼ)  # no alloc : alloc\n",
    "            for i = 1:j-1\n",
    "                ortho_against!(vⱼ, aⱼ, @view(A[:,i]))\n",
    "            end\n",
    "            normalize!(vⱼ)\n",
    "        else\n",
    "            vⱼ ./= R[j,j]\n",
    "        end\n",
    "    end\n",
    "    \n",
    "    return nothing\n",
    "end"
   ]
  },
  {
   "cell_type": "code",
   "execution_count": 12,
   "metadata": {},
   "outputs": [
    {
     "data": {
      "text/plain": [
       "mgs! (generic function with 1 method)"
      ]
     },
     "execution_count": 12,
     "metadata": {},
     "output_type": "execute_result"
    }
   ],
   "source": [
    "# CLGS in-place\n",
    "function clgs!(A, R)\n",
    "    gsc!(A, R, false)\n",
    "end\n",
    "\n",
    "\n",
    "# MGSC in-place\n",
    "function mgsc!(A, R)\n",
    "    gsc!(A, R, true)\n",
    "end\n",
    "\n",
    "\n",
    "# MGS in-place\n",
    "function mgs!(A, R)\n",
    "    m, n = size(A)\n",
    "    assert(size(R)==(n,n))\n",
    "\n",
    "    R .= 0  # initialize R\n",
    "    for i = 1:n\n",
    "        q = @view A[:,i]  # no alloc\n",
    "\n",
    "        R[i,i] = norm(q)\n",
    "        if R[i,i] == 0\n",
    "            rand!(q)\n",
    "            for j = 1:i-1\n",
    "                ortho_against!(q, q, @view(A[:,j]))\n",
    "            end\n",
    "            normalize!(q)\n",
    "        else\n",
    "            q ./= R[i,i]\n",
    "        end\n",
    "\n",
    "        for j = i+1:n\n",
    "            v = @view A[:,j]\n",
    "            R[i,j] = ortho_against!(v, v, q)\n",
    "        end\n",
    "    end\n",
    "    \n",
    "    return nothing\n",
    "end"
   ]
  },
  {
   "cell_type": "markdown",
   "metadata": {},
   "source": [
    "### Validation of your implementation\n",
    "\n",
    "Use the following code blocks to validate your implementation of the functions.  In the text this script prints, you should get `true` after each question mark."
   ]
  },
  {
   "cell_type": "code",
   "execution_count": 13,
   "metadata": {},
   "outputs": [
    {
     "name": "stdout",
     "output_type": "stream",
     "text": [
      "clgs!:\n",
      "QR ≈ A?  true\n",
      "Q'Q ≈ I?  true\n",
      "\n",
      "mgs!:\n",
      "QR ≈ A?  true\n",
      "Q'Q ≈ I?  true\n",
      "\n",
      "mgsc!:\n",
      "QR ≈ A?  true\n",
      "Q'Q ≈ I?  true\n",
      "\n",
      "Q's identical for MGS and MGSC?  true\n",
      "R's identical for MGS and MGSC?  true\n"
     ]
    }
   ],
   "source": [
    "# For full-rank A\n",
    "m, n = 10, 7\n",
    "A = rand(Complex128, m, n)\n",
    "\n",
    "# Use in-place functions.\n",
    "# Q and R is allocated only once outside the for loop below.\n",
    "Q = similar(A)\n",
    "R = similar(A, n, n)\n",
    "for f_gs! = (clgs!, mgs!, mgsc!)\n",
    "    Q .= A\n",
    "    f_gs!(Q, R)\n",
    "    println(Symbol(f_gs!), \":\")\n",
    "    println(\"QR ≈ A?  $(Q*R ≈ A)\")\n",
    "    println(\"Q'Q ≈ I?  $(Q'Q ≈ eye(n))\")\n",
    "    println()\n",
    "end\n",
    "\n",
    "# Use out-of-place functions.\n",
    "Qm, Rm = mgs(A)\n",
    "Qmc, Rmc = mgsc(A)\n",
    "println(\"Q's identical for MGS and MGSC?  $(Qm == Qmc)\")\n",
    "println(\"R's identical for MGS and MGSC?  $(Rm == Rmc)\")"
   ]
  },
  {
   "cell_type": "code",
   "execution_count": 14,
   "metadata": {},
   "outputs": [
    {
     "name": "stdout",
     "output_type": "stream",
     "text": [
      "clgs!:\n",
      "QR ≈ A?  true\n",
      "Q'Q ≈ I?  true\n",
      "\n",
      "mgs!:\n",
      "QR ≈ A?  true\n",
      "Q'Q ≈ I?  true\n",
      "\n",
      "mgsc!:\n",
      "QR ≈ A?  true\n",
      "Q'Q ≈ I?  true\n",
      "\n",
      "Q's NOT identical for MGS and MGSC?  true\n",
      "R's NOT identical for MGS and MGSC?  true\n"
     ]
    }
   ],
   "source": [
    "# For rank-deficient A\n",
    "A = Float64[\n",
    "    1 2 2 1 \n",
    "    1 -1 1 1\n",
    "    1 2 2 -1\n",
    "    1 -1 1 1\n",
    "]\n",
    "m, n = size(A)\n",
    "\n",
    "# Use in-place functions.\n",
    "# Q and R is allocated only once outside the for loop below.\n",
    "Q = similar(A)\n",
    "R = similar(A, n, n)\n",
    "for f_gs! = (clgs!, mgs!, mgsc!)\n",
    "    Q .= A\n",
    "    f_gs!(Q, R)\n",
    "    println(Symbol(f_gs!), \":\")\n",
    "    println(\"QR ≈ A?  $(Q*R ≈ A)\")\n",
    "    println(\"Q'Q ≈ I?  $(Q'Q ≈ eye(n))\")\n",
    "    println()\n",
    "end\n",
    "\n",
    "Qm, Rm = mgs(A)\n",
    "Qmc, Rmc = mgsc(A)\n",
    "println(\"Q's NOT identical for MGS and MGSC?  $(Qm ≠ Qmc)\")\n",
    "println(\"R's NOT identical for MGS and MGSC?  $(Rm ≠ Rmc)\")"
   ]
  },
  {
   "cell_type": "markdown",
   "metadata": {},
   "source": [
    "### Assignment 3.2.  $\\hat{Q}$ of CLGS vs. $\\hat{Q}$ of MGS [1 pt]\n",
    "\n",
    "It is known that the columns of $\\hat{Q}$ constructed by MGS are closer to being orthogonal than those constructed by CLGS.  In this assignment we will numerically verify if this is really the case.\n",
    "\n",
    "The quality of orthogonality of the columns of $\\hat{Q}$ can be measured by the error in $\\hat{Q}^* \\hat{Q}$: if it is closer to $I$, the columns of $\\hat{Q}$ are closer to being orthogonal.\n",
    "\n",
    "Complete `compare_gs` below that measures the errors in $\\hat{Q}^* \\hat{Q}$ of CLGS and MGS for $N$ randomly generated test matrices of size $m$-by-$n$.  Use the matrix 1-norm to measure the errors."
   ]
  },
  {
   "cell_type": "code",
   "execution_count": 15,
   "metadata": {},
   "outputs": [
    {
     "data": {
      "text/plain": [
       "compare_gs (generic function with 1 method)"
      ]
     },
     "execution_count": 15,
     "metadata": {},
     "output_type": "execute_result"
    }
   ],
   "source": [
    "function compare_gs(N, m, n)\n",
    "    I = eye(n)\n",
    "    err_cl = Vector{Float64}(N)\n",
    "    err_m = Vector{Float64}(N)\n",
    "    \n",
    "    A = Matrix{Float64}(m, n)\n",
    "    Q = similar(A)\n",
    "    R = similar(A, n, n)\n",
    "    for i = 1:N\n",
    "        rand!(A)\n",
    "\n",
    "        Q .= A\n",
    "        clgs!(Q, R)\n",
    "        err_cl[i] = norm(Q'Q - I, 1)\n",
    "\n",
    "        Q .= A\n",
    "        mgs!(Q, R)\n",
    "        err_m[i] = norm(Q'Q - I, 1)\n",
    "    end\n",
    "    \n",
    "    return err_cl, err_m  # two length-N vectors containing errors in Q'Q for Q by clgs! and mgs!\n",
    "end"
   ]
  },
  {
   "cell_type": "markdown",
   "metadata": {},
   "source": [
    "### Validation of your implementation\n",
    "\n",
    "Use the following code block to plot the measured errors.  You will see that the errors for MGS stay always lower than the errors for CLGS for all matrices."
   ]
  },
  {
   "cell_type": "code",
   "execution_count": 16,
   "metadata": {
    "scrolled": false
   },
   "outputs": [
    {
     "data": {
      "image/png": "[encoded data removed]",
      "text/plain": [
       "PyPlot.Figure(PyObject <matplotlib.figure.Figure object at 0x13265f2b0>)"
      ]
     },
     "metadata": {},
     "output_type": "display_data"
    },
    {
     "data": {
      "text/plain": [
       "PyObject <matplotlib.legend.Legend object at 0x107733d68>"
      ]
     },
     "execution_count": 16,
     "metadata": {},
     "output_type": "execute_result"
    }
   ],
   "source": [
    "N = 200\n",
    "m, n = 50, 30\n",
    "err_cl, err_m = compare_gs(N, m, n)\n",
    "\n",
    "using PyPlot  # if not installed yet, execute Pkg.add(\"PyPlot\") first\n",
    "\n",
    "semilogy(1:N, err_cl, \"r-\", 1:N, err_m, \"b-\")\n",
    "axis([1,N,1e-15,1e-13])\n",
    "title(\"Orthogonality of Q: CLGS vs. MGS for $m×$n Matrices\")\n",
    "xlabel(\"Matrix Number\")\n",
    "ylabel(\"Error in Q* Q\")\n",
    "legend([\"CLGS\", \"MGS\"])"
   ]
  },
  {
   "cell_type": "markdown",
   "metadata": {},
   "source": [
    "## Bonus Problem.  Iterative refinement of the Gram–Schmidt procedure [2 pts]\n",
    "\n",
    "The Gram–Schmidt procedure orthogonalizes the $j$th column $a_j$ of $A$ against the already constructed orthonormal vectors $q_1, \\ldots, q_{j-1}$ as\n",
    "$$\n",
    "v_j = a_j - \\sum_{i=1}^{j-1} r_{ij} q_i\n",
    "$$\n",
    "with $r_{ij} = q_i^* a_j$, and constructs a new orthonormal vector $q_j$ by normalizing $v_j$ as\n",
    "$$\n",
    "q_j = \\frac{v_j}{r_{jj}}\n",
    "$$\n",
    "with $r_{jj} = \\norm{v_j}_2$.  However, for rank-deficient $A$, we have $v_j = 0$ for some $j$ and the above normalization step fails with division by zero.  In fact, one of the goals of Prob. 3 was to handle rank-deficient $A$ properly by avoiding such division by zero.\n",
    "\n",
    "However, avoiding division by zero is not sufficient in some cases.  If $A$ is *nearly* rank-deficient, $v_j$ becomes close to a zero vector for some $j$ because $a_j$ and $\\sum_{i=1}^{j-1} r_{ij} q_i$ are close.  Then, due to catastrophic cancellation between $a_j$ and $\\sum_{i=1}^{j-1} r_{ij} q_i$, the resulting $v_j$ becomes inaccurate and less orthogonal to $q_1, \\ldots, q_{j-1}$.  Therefore, the Gram–Schmidt procedure produces $\\hat{Q}$ with nonorthogonal columns for nearly rank-deficient $A$.\n",
    "\n",
    "One way to overcome this problem is iterative refinement.  The main problem is that $v_j$ calculated above is nonorthogonal to $q_1, \\ldots, q_{j-1}$.  This means $v_j$ still contains some components of $q_1, \\ldots, q_{j-1}$.  Iterative refinement extracts these remaining components of $q_1, \\ldots, q_{j-1}$ by orthogonalizing $v_j$ against them once more, and add these additionally extracted coefficients of $q_1, \\ldots, q_{j-1}$ to the previously extracted coefficients.  By repeating this refinement, we can eventually obtain $v_j$ very orthogonal to $q_1, \\ldots, q_{j-1}$.  This refinement procedure can be expressed as follows:\n",
    "$$\n",
    "\\begin{align}\n",
    "&r_{ij} = 0 \\text{ for } 1 \\le i \\le j-1\\\\\n",
    "&v_j^{(0)} = a_j\\\\\n",
    "&\\text{for } k = 0, 1, 2, \\ldots, K-1\\\\\n",
    "&\\qquad v_j^{(k+1)} = v_j^{(k)} - \\sum_{i=1}^{j-1} r_{ij}^{(k)} q_i\\\\\n",
    "&\\qquad r_{ij} \\leftarrow r_{ij} + r_{ij}^{(k)}\\text{ for } 1 \\le i \\le j-1\\\\\n",
    "&\\text{end}\\\\\n",
    "&r_{jj} = \\norm{v_j^{(K)}}_2\\\\\n",
    "&q_j = v_j^{(K)} / r_{jj}\n",
    "\\end{align}\n",
    "$$\n",
    "\n",
    "This refinement can be implemented in the classical and column-wise modified Gram–Schmidt procedure.  However, it cannot be implemented in the original modified Gram–Schmidt procedure, because the refinement must be performed several times along the column direction in order to generate a new orthogonal vector $q_j$."
   ]
  },
  {
   "cell_type": "markdown",
   "metadata": {},
   "source": [
    "### Assignment B.1.  CLGS and MGSC with iterative refinement [1 pt]\n",
    "\n",
    "Complete `clgsi!` and `mgsci!` below that implement the above-described iterative refinement in CLGS and MGSC.  \n",
    "\n",
    "In the above algorithm, $K-1$ is the number of refinement steps.  In practice, even $K-1 = 1$ improves orthogonality of $\\hat{Q}$ dramatically for nearly rank-deficient $A$.  However, in order to achieve the ultimate result, perform refinement until $v_j^{(k+1)}$ becomes numerically orthogonal to $q_1, \\ldots, q_{j-1}$, i.e., until $\\abs{q_i^* v_j^{(k+1)}} < \\epsmach \\norm{v_j^{(k+1)}}_2$.  At the same time, to prevent the refinement from running too long, limit the maximum number of refinement steps to $K = 10$."
   ]
  },
  {
   "cell_type": "code",
   "execution_count": 17,
   "metadata": {},
   "outputs": [
    {
     "data": {
      "text/plain": [
       "mgsci (generic function with 1 method)"
      ]
     },
     "execution_count": 17,
     "metadata": {},
     "output_type": "execute_result"
    }
   ],
   "source": [
    "# CLGS with iterative refinement, out-of-place\n",
    "function clgsi(A)\n",
    "    m, n = size(A)\n",
    "    Q = copy(A)\n",
    "    R = similar(A, (n,n))\n",
    "    clgsi!(Q, R)    \n",
    "    return (Q, R)\n",
    "end\n",
    "\n",
    "# MGSC with iterative refinement, out-of-place\n",
    "function mgsci(A)\n",
    "    m, n = size(A)\n",
    "    Q = copy(A)\n",
    "    R = similar(A, (n,n))\n",
    "    mgsci!(Q, R)\n",
    "    return (Q, R)\n",
    "end"
   ]
  },
  {
   "cell_type": "code",
   "execution_count": 18,
   "metadata": {},
   "outputs": [
    {
     "data": {
      "text/plain": [
       "gsci! (generic function with 1 method)"
      ]
     },
     "execution_count": 18,
     "metadata": {},
     "output_type": "execute_result"
    }
   ],
   "source": [
    "function gsci!(A, R, modified)\n",
    "    m, n = size(A)\n",
    "    assert(size(R)==(n,n))\n",
    "    \n",
    "    ε_mach = 0.5eps()\n",
    "    max_iter = 10\n",
    "\n",
    "    R .= 0  # initialize R\n",
    "    for j = 1:n\n",
    "        vⱼ = @view A[:,j]  # no alloc\n",
    "        Q = @view A[:,1:j-1]\n",
    "        num_iter = 0\n",
    "        while norm(Q'vⱼ, Inf) > ε_mach * norm(vⱼ) && num_iter < max_iter\n",
    "            aⱼ = modified ? vⱼ : copy(vⱼ)  # no alloc : alloc\n",
    "            for i = 1:j-1\n",
    "                R[i,j] += ortho_against!(vⱼ, aⱼ, @view(A[:,i]))\n",
    "            end\n",
    "            num_iter += 1\n",
    "        end\n",
    "        \n",
    "        R[j,j] = norm(vⱼ)\n",
    "        if R[j,j] == 0\n",
    "            rand!(vⱼ)\n",
    "            num_iter = 0\n",
    "            while norm(Q'vⱼ, Inf) > ε_mach * norm(vⱼ) && num_iter < max_iter\n",
    "                aⱼ = modified ? vⱼ : copy(vⱼ)  # no alloc : alloc\n",
    "                for i = 1:j-1\n",
    "                    ortho_against!(vⱼ, aⱼ, @view(A[:,i]))\n",
    "                end\n",
    "                num_iter += 1\n",
    "            end\n",
    "            normalize!(vⱼ)\n",
    "        else\n",
    "            vⱼ ./= R[j,j]\n",
    "        end\n",
    "    end\n",
    "    \n",
    "    return nothing\n",
    "end"
   ]
  },
  {
   "cell_type": "code",
   "execution_count": 19,
   "metadata": {},
   "outputs": [
    {
     "data": {
      "text/plain": [
       "mgsci! (generic function with 1 method)"
      ]
     },
     "execution_count": 19,
     "metadata": {},
     "output_type": "execute_result"
    }
   ],
   "source": [
    "# CLGSI with iterative refinement, in-place\n",
    "function clgsi!(A, R)\n",
    "    gsci!(A, R, false)\n",
    "end\n",
    "\n",
    "\n",
    "# MGSCI with iterative refinement, in-place\n",
    "function mgsci!(A, R)\n",
    "    gsci!(A, R, true)\n",
    "end"
   ]
  },
  {
   "cell_type": "markdown",
   "metadata": {},
   "source": [
    "### Validation of your implementation\n",
    "\n",
    "The following code block shows that `clgs!` and `mgsc!` fail to generate $\\hat{Q}$ with orthogonal columns for a nearly rank-deficient matrix $A$, whereas `clgsi!` and `mgsci!` succeed."
   ]
  },
  {
   "cell_type": "code",
   "execution_count": 20,
   "metadata": {},
   "outputs": [
    {
     "name": "stdout",
     "output_type": "stream",
     "text": [
      "clgs!:\n",
      "QR ≈ A?  true\n",
      "Q'Q ≈ I?  false\n",
      "\n",
      "clgsi!:\n",
      "QR ≈ A?  true\n",
      "Q'Q ≈ I?  true\n",
      "\n",
      "mgsc!:\n",
      "QR ≈ A?  true\n",
      "Q'Q ≈ I?  false\n",
      "\n",
      "mgsci!:\n",
      "QR ≈ A?  true\n",
      "Q'Q ≈ I?  true\n",
      "\n"
     ]
    }
   ],
   "source": [
    "# For nearly rank-deficient A\n",
    "m, n = 10, 6\n",
    "A = zeros(Complex128, m, n)\n",
    "rand!(@view A[:, [1,2,6]])\n",
    "for j = 3:5\n",
    "    A[:,j] .+= rand() .* (@view A[:,1])\n",
    "    A[:,j] .+= rand() .* (@view A[:,2])\n",
    "end\n",
    "\n",
    "# Use in-place functions.\n",
    "# Q and R is allocated only once outside the for loop below.\n",
    "Q = similar(A)\n",
    "R = similar(A, n, n)\n",
    "for f_gs! = (clgs!, clgsi!, mgsc!, mgsci!)\n",
    "    Q .= A\n",
    "    f_gs!(Q, R)\n",
    "    println(Symbol(f_gs!), \":\")\n",
    "    println(\"QR ≈ A?  $(Q*R ≈ A)\")\n",
    "    println(\"Q'Q ≈ I?  $(Q'Q ≈ eye(n))\")\n",
    "    println()\n",
    "end"
   ]
  },
  {
   "cell_type": "markdown",
   "metadata": {},
   "source": [
    "### Assignment B.2.  $\\hat{Q}$ of CLGS vs. $\\hat{Q}$ of MGSC with iterative refinement [1 pt]\n",
    "\n",
    "In Prob. 3 we wrote `compare_gs` to demonstrate that MGS generates better $\\hat{Q}$ than CLGS.  Is this still going to be true after applying iterative refinement?  \n",
    "\n",
    "To answer this question, complete `compare_gsi` below that measures the errors in $\\hat{Q}^* \\hat{Q}$ of CLGS and MGSC with iterative refinement for $N$ randomly generated test matrices of size $m$-by-$n$.  Use the matrix 1-norm to measure the errors."
   ]
  },
  {
   "cell_type": "code",
   "execution_count": 21,
   "metadata": {},
   "outputs": [
    {
     "data": {
      "text/plain": [
       "compare_gsi (generic function with 1 method)"
      ]
     },
     "execution_count": 21,
     "metadata": {},
     "output_type": "execute_result"
    }
   ],
   "source": [
    "function compare_gsi(N, m, n)\n",
    "    I = eye(n)\n",
    "    err_cl = Vector{Float64}(N)\n",
    "    err_m = Vector{Float64}(N)\n",
    "    \n",
    "    A = Matrix{Float64}(m, n)\n",
    "    Q = similar(A)\n",
    "    R = similar(A, n, n)\n",
    "    for i = 1:N\n",
    "        rand!(A)\n",
    "\n",
    "        Q .= A\n",
    "        clgsi!(Q, R)\n",
    "        err_cl[i] = norm(Q'Q - I, 1)\n",
    "\n",
    "        Q .= A\n",
    "        mgsci!(Q, R)\n",
    "        err_m[i] = norm(Q'Q - I, 1)\n",
    "    end\n",
    "    \n",
    "    return err_cl, err_m  # two length-N vectors containing errors in Q'Q for Q by clgsi! and mgsci!\n",
    "end"
   ]
  },
  {
   "cell_type": "markdown",
   "metadata": {},
   "source": [
    "### Validation of your implementation\n",
    "\n",
    "Use the following code block to plot the measured errors."
   ]
  },
  {
   "cell_type": "code",
   "execution_count": 22,
   "metadata": {
    "scrolled": false
   },
   "outputs": [
    {
     "data": {
      "image/png": "[encoded data removed]",
      "text/plain": [
       "PyPlot.Figure(PyObject <matplotlib.figure.Figure object at 0x140eb70f0>)"
      ]
     },
     "metadata": {},
     "output_type": "display_data"
    },
    {
     "data": {
      "text/plain": [
       "PyObject <matplotlib.legend.Legend object at 0x144a56cf8>"
      ]
     },
     "execution_count": 22,
     "metadata": {},
     "output_type": "execute_result"
    }
   ],
   "source": [
    "N = 200\n",
    "m, n = 50, 30\n",
    "err_cl, err_m = compare_gsi(N, m, n)\n",
    "\n",
    "using PyPlot  # if not installed yet, execute Pkg.add(\"PyPlot\") first\n",
    "\n",
    "semilogy(1:N, err_cl, \"r-\", 1:N, err_m, \"b-\")\n",
    "axis([1,N,1e-15,1e-13])\n",
    "title(\"Orthogonality of Q: CLGSI vs. MGSCI for $m×$n Matrices\")\n",
    "xlabel(\"Matrix Number\")\n",
    "ylabel(\"Error in Q* Q\")\n",
    "legend([\"CLGSI\", \"MGSCI\"])"
   ]
  },
  {
   "cell_type": "markdown",
   "metadata": {},
   "source": [
    "## Notes on Julia programming styles\n",
    "\n",
    "Because Prob. 3 of this problem set is the first time we are implementing a serious algorithm in this course, I would like note different degrees of memory allocation achievable in Julia programming and their impact on the performance of code.  In this illustration, I will implement CLGS in three different ways.  For simplicity, I will consider only full-rank $A$.\n",
    "\n",
    "The first version of `clgs!` is in MATLAB style:"
   ]
  },
  {
   "cell_type": "code",
   "execution_count": 23,
   "metadata": {},
   "outputs": [
    {
     "data": {
      "text/plain": [
       "clgs1! (generic function with 1 method)"
      ]
     },
     "execution_count": 23,
     "metadata": {},
     "output_type": "execute_result"
    }
   ],
   "source": [
    "# CLGS Version 1: MATLAB style\n",
    "function clgs1!(A, R)\n",
    "    m, n = size(A)\n",
    "    for j = 1:n\n",
    "        vⱼ = A[:,j]\n",
    "        for i = 1:j-1\n",
    "            R[i,j] = A[:,i]' * A[:,j]\n",
    "            vⱼ = vⱼ - R[i,j] * A[:,i]\n",
    "        end\n",
    "        R[j,j] = norm(vⱼ)\n",
    "        A[:,j] = vⱼ / R[j,j]\n",
    "    end\n",
    "end"
   ]
  },
  {
   "cell_type": "markdown",
   "metadata": {},
   "source": [
    "Even though the code is compact, it performs too many unnecessary memory allocations.  For example, whenever something like `A[:,j]` is evaluated in the code, a vector object is created.  This way of creating a vector requires dynamic memory allocation in the heap, which turns out to be computationally costly when carried out too often.\n",
    "\n",
    "Julia provides several tools to avoid such memory allocations.  The following second version of `clgs!` is written in Julia style by incorporating these tools as much as possible:"
   ]
  },
  {
   "cell_type": "code",
   "execution_count": 24,
   "metadata": {},
   "outputs": [
    {
     "data": {
      "text/plain": [
       "clgs2! (generic function with 1 method)"
      ]
     },
     "execution_count": 24,
     "metadata": {},
     "output_type": "execute_result"
    }
   ],
   "source": [
    "# CLGS Version 2: Julia style\n",
    "function clgs2!(A, R)\n",
    "    m, n = size(A)\n",
    "    for j = 1:n\n",
    "        aⱼ = A[:,j]  # contents copy (memory allocated for aⱼ)\n",
    "        vⱼ = @view A[:,j]  # reference copy (memory not allocated for vⱼ)\n",
    "        for i = 1:j-1\n",
    "            qᵢ = @view A[:,i]\n",
    "            R[i,j] = qᵢ⋅aⱼ\n",
    "            vⱼ .-= R[i,j].*qᵢ\n",
    "        end\n",
    "        R[j,j] = norm(vⱼ)\n",
    "        vⱼ ./= R[j,j]  # this updates contents of A\n",
    "    end\n",
    "end"
   ]
  },
  {
   "cell_type": "markdown",
   "metadata": {},
   "source": [
    "Mainly two tools are utilized here.  First is `@view`.  When we wish to take the $j$th column of a matrix `A`, `aⱼ = @view A[:,j]` generates a \"view\" of the column instead of creating a column vector in a separate memory block.  The side effect of this techinque is that changing the contents of `aⱼ` also changes the contents of `A`, because `aⱼ` references a portion of the memory block of `A`.  Note that taking a scalar like `R[i,j]` does not require `@view`, because individual scalars are loaded in the statically allocated memory space called the \"stack\".\n",
    "\n",
    "Second is the \"dot\" syntax.  You can find the detailed information about the syntax [here](https://julialang.org/blog/2017/01/moredots), but the key advantage in terms of memory allocation is that the dot syntax avoids the creation of intermediate variables.  For example, `vⱼ .-= R[i,j].*q` updates `vⱼ` element-by-element, so no additional vector variables need to be created.  However, if you did `vⱼ -= R[i,j]*qᵢ`, then it would create a vector to store `R[i,j]*qᵢ` first, another vector to store `vⱼ - R[i,j]*qᵢ`, and then would finally replace the contents of `vⱼ` with the result.  Note that two intermediate vectors would need to be created in the latter scenario.\n",
    "\n",
    "Even using these tricks does not completely eliminate unnecessary memory allocations.  For example, `@view A[:,j]` requires some memory allocations, though less than `A[:,j]`.  The unnecessary allocations can be completely eliminated by using for loops.  In MATLAB, for loops must be avoided at all cost because they are extremely slow, but in Julia they do not deteriorate performance.  \n",
    "\n",
    "The third version of `clgs!` uses for loops to eliminate all the unnecessary memory allocations. (However, the use of for loops makes the code a bit convoluted.)"
   ]
  },
  {
   "cell_type": "code",
   "execution_count": 25,
   "metadata": {},
   "outputs": [
    {
     "data": {
      "text/plain": [
       "clgs3! (generic function with 1 method)"
      ]
     },
     "execution_count": 25,
     "metadata": {},
     "output_type": "execute_result"
    }
   ],
   "source": [
    "# CLGS Version 3: with for loops\n",
    "function clgs3!(A, R)\n",
    "    m, n = size(A)\n",
    "    aⱼ = A[:,1]  # preallocate memory to store aⱼ\n",
    "    for j = 1:n\n",
    "        for k = 1:m; \n",
    "            aⱼ[k] = A[k,j]\n",
    "        end\n",
    "        \n",
    "        for i = 1:j-1\n",
    "            for k = 1:m\n",
    "                R[i,j] += conj(A[k,i]) * aⱼ[k]\n",
    "            end\n",
    "\n",
    "            for k = 1:m\n",
    "                A[k,j] -= R[i,j] * A[k,i]\n",
    "            end\n",
    "        end\n",
    "        \n",
    "        for k = 1:m\n",
    "            R[j,j] += abs2(A[k,j])\n",
    "        end\n",
    "        R[j,j] = √R[j,j]\n",
    "        \n",
    "        for k = 1:m\n",
    "            A[k,j] /= R[j,j]  # this updates contents of A\n",
    "        end\n",
    "    end\n",
    "end\n"
   ]
  },
  {
   "cell_type": "markdown",
   "metadata": {},
   "source": [
    "Now, let's compare the performance of the three versions of `clgs`.  We will use the [BenchmarkTools](https://github.com/JuliaCI/BenchmarkTools.jl) package:"
   ]
  },
  {
   "cell_type": "code",
   "execution_count": 26,
   "metadata": {
    "collapsed": true,
    "scrolled": true
   },
   "outputs": [],
   "source": [
    "using BenchmarkTools  # if not installed yet, execute Pkg.add(\"BenchmarkTools\") first"
   ]
  },
  {
   "cell_type": "markdown",
   "metadata": {},
   "source": [
    "The `@btime` macro of `BenchmarkTools` meaures computation time and memory allocation accurately.  Below, we will use the macro to compare the performance of the three different versions of `clgs` (this can take a while, so be patient):"
   ]
  },
  {
   "cell_type": "code",
   "execution_count": 27,
   "metadata": {},
   "outputs": [
    {
     "name": "stdout",
     "output_type": "stream",
     "text": [
      "  77.821 μs (445 allocations: 61.25 KiB)\n",
      "  71.349 μs (120 allocations: 6.48 KiB)\n",
      "  5.636 μs (2 allocations: 256 bytes)\n"
     ]
    }
   ],
   "source": [
    "m, n = 10, 10\n",
    "A = rand(Complex128, m, n);\n",
    "\n",
    "Q₁ = copy(A)\n",
    "R₁ = zeros(Complex128, n, n)\n",
    "@btime clgs1!($Q₁, $R₁)\n",
    "\n",
    "Q₂ = copy(A)\n",
    "R₂ = zeros(Complex128, n, n)\n",
    "@btime clgs2!($Q₂, $R₂)\n",
    "\n",
    "Q₃ = copy(A)\n",
    "R₃ = zeros(Complex128, n, n)\n",
    "@btime clgs3!($Q₃, $R₃)"
   ]
  },
  {
   "cell_type": "markdown",
   "metadata": {},
   "source": [
    "As you can see, the version with for loops uses nearly no memory allocations and performs significantly faster than the other two versions.  The version written in Julia style also uses much less memory allocations and performs slightly faster than the one written in MATLAB style.\n",
    "\n",
    "Different styles have different pros and cons, so in which style to code is up to you.  In this course the problem set solutions will be prepared mostly in Julia style, because it is well-balanced between readability and performance."
   ]
  }
 ],
 "metadata": {
  "anaconda-cloud": {},
  "kernelspec": {
   "display_name": "Julia 0.6.3-pre",
   "language": "julia",
   "name": "julia-0.6"
  },
  "language_info": {
   "file_extension": ".jl",
   "mimetype": "application/julia",
   "name": "julia",
   "version": "0.6.3"
  }
 },
 "nbformat": 4,
 "nbformat_minor": 1
}
