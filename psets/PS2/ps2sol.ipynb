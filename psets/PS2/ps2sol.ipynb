{
 "cells": [
  {
   "cell_type": "markdown",
   "metadata": {},
   "source": [
    "# <div style=\"text-align: center\">18.335/6.337 Problem Set 2 - QR Factorization</div>\n",
    "## <div style=\"text-align: center\">Solutions</div>"
   ]
  },
  {
   "cell_type": "markdown",
   "metadata": {},
   "source": [
    "### <div style=\"text-align: right\">Creaed by Wonseok Shin</div>"
   ]
  },
  {
   "cell_type": "markdown",
   "metadata": {},
   "source": [
    "## Instruction for electronic submission\n",
    "- Please archive all files (this Jupyter notebook plus other files if any) into a single ZIP file and upload it to the course website, so that the grader can run the Jupyter notebook in the extracted folder without adding anything.  (This greatly simplifies the grader's job.)\n",
    "- Some questions may require proofs or explanations, and there are a few options to submit them electronically.\n",
    "    1. Ideally, write down your proofs or explanations in the corresponding sections of this Jupyter notebook.  You can use $\\LaTeX$ commands for mathematical symbols, like $A = \\hat{U} \\Sigma V^*$, $\\sum_{j = 1}^{r} \\sigma_j u_j v_j^*$, and $\\left[\n",
    "\\begin{array}{cc}\n",
    " 1 & 2 \\\\\n",
    " 3 & 4 \\\\\n",
    "\\end{array}\n",
    "\\right]$.\n",
    "    2. If you are not familiar with $\\LaTeX$ commands, you can use any word processors with equation editors.  If you choose to use this option, make sure to convert the word processor file into PDF before submission.\n",
    "    3. If none of the above works for you, you can also submit a scan of your handwritten notes as a last resort, but your handwriting must be clear and readable."
   ]
  },
  {
   "cell_type": "markdown",
   "metadata": {},
   "source": [
    "## Problem 1.  CLGS, MGS, and M-CLGS [5 pts]\n",
    "\n",
    "The functions `clgs()` and `mgs()` appear several times in numerical examples in Trefethen and Bau, but Julia does not provide these functions.  (Neither does MATLAB, because the primary means for the QR factorization is the Householder reflection rather than the Gram-Schmidt procedure.)  In this problem, we will write these functions ourselves so that we can use them later in the course.\n",
    "\n",
    "We will implement three versions of the Gram–Schmidt procedure: CLGS (Alg. 7.1) and MGS (Alg. 8.1) shown in Trefethen and Bau, and also another version of MGS by modifying a few lines of CLGS, as shown in the class.  The last one will be referred to as the \"modified CLGS\" (M-CLGS) to distinguish it from MGS.\n",
    "\n",
    "Throughout this problem, you are welcome to introduce your own *helper functions*.  Whenever you recognize recurring patterns in your code, it is a good programming practice to define a helper function that handles those recurring portions.  Defining helper functions, however, is not a requirement of this problem.\n",
    "\n",
    "The functions `clgs()` and `mgs()` take $A \\in \\mathbb{C}^{m\\times n}$ as an input and returns the $\\hat{Q} \\in \\mathbb{C}^{m\\times n}$ and $\\hat{R} \\in \\mathbb{C}^{n\\times n}$ factors of a *reduced* QR factorization of $A$.  Assume $A$ is skinny or square ($m \\ge n$)."
   ]
  },
  {
   "cell_type": "markdown",
   "metadata": {},
   "source": [
    "### Julia programming tips\n",
    "- In Julia, `Q = A` does *not* create a new storage for `Q`.\n",
    "    - In MATLAB, `Q = A` creates a new storage for `Q` and copies the contents of `A`.  (MATLAB is actually smarter than this and uses the technique called \"lazy copying\"; read [this article](http://blogs.mathworks.com/loren/2006/05/10/memory-management-for-functions-and-variables/) if interested.) This means that `Q` and `A` reside in separate memory spaces, so changing the contents of `Q` does not affect `A`. \n",
    "    - However, in Julia `Q = A` means that `Q` references `A`.  In other words, `Q` and `A` are two different references to the same memory space, so changing the contents of `Q` changes the contents of `A` as well.  \n",
    "    - To mimic MATLAB's behavior of `Q = A`, you need to do `Q = copy(A)` in Julia.\n",
    "- In Julia, you cannot store floating point numbers in an array of integers.\n",
    "    - For example, `x = [10,11,12]; x[1] = 10.5` throws an [InexactError](http://docs.julialang.org/en/stable/stdlib/base/#Base.InexactError) in Julia.  Here, `x` is created as a vector of integers, so you cannot store a floating point number in `x`.  \n",
    "    - If you know that `x` could store floating point numbers later, you need to create `x` as a vector of floating point numbers from the beginning, like `x = [10.,11.,12.]`, `x = Float64[10,11,12]`, or `x = float([10,11,12])`.  \n",
    "    - Question: when `A` is a matrix of integers, do you think it is a good idea to start your code with `Q = copy(A)` in `clgs()` and `mgs()`?"
   ]
  },
  {
   "cell_type": "markdown",
   "metadata": {},
   "source": [
    "### Assignment 1.1 [2 pts]\n",
    "\n",
    "Complete `clgs()` below that performs the reduced QR factorization using the *classical* Gram–Schmidt procedure described in Alg. 7.1 of Trefethen and Bau.\n",
    "\n",
    "Additionally, your `clgs()` must handle the second optional argument `ismodified`.  Perform CLGS for `ismodified = false` (the default value), but M-CLGS for `ismodified = true`.  Handling the `ismodifed` flag inside `clgs()` should not take much programming effort, because the CLGS algorithm turns into the M-CLGS algorithm by changing just a single line in Alg. 7.1.  \n",
    "\n",
    "The points for this assignment are distributed as follows:\n",
    "- 1 pt if the function handles full-rank $A$ correctly.\n",
    "- Additional 1 pt if the function handles rank-deficient $A$ correctly."
   ]
  },
  {
   "cell_type": "markdown",
   "metadata": {},
   "source": [
    "*Solution*.\n",
    "\n",
    "The core of any Gram–Schmidt procedure is orthogonalization of an arbitrary vector $a$ against a given set of orthogonal vectors $\\left\\{q_1, \\ldots, q_k\\right\\}$, i.e., $a \\leftarrow a - (q_1^*a)q_1 - \\cdots - (q_k^*a)q_k$.  This orthogonalization step shows up repeatedly in implementing CLGS and MGS, so, we will create a helper function called `ortho_against!` that performs this orthogonalization.  Below, we have two versions of `ortho_against!` with different number of input arguments: one that stores the coefficients $q_j^*a$ in a vector $r$ and the other that simply throws away the coefficients after using them in orthogonalization.  The former is used to construct $R$ of the QR factorization out of $r$, and the latter is used in handling rank-deficient $A$.  \n",
    "\n",
    "The `!` character at the end the function name is just Julia's function naming convention: append `!` to the names of functions that modify the contents of input arguments (see the documentation [here](http://docs.julialang.org/en/stable/manual/style-guide/#append-to-names-of-functions-that-modify-their-arguments)).  The `!` character itself does not have any magical power in Julia, and your functions will work perfectly fine without `!` appended.  However, following this convention helps the users understand the danger of using the functions and prepare in advance by, e.g., copying the input arguments safely before calling the functions."
   ]
  },
  {
   "cell_type": "code",
   "execution_count": 1,
   "metadata": {
    "collapsed": false
   },
   "outputs": [
    {
     "data": {
      "text/plain": [
       "ortho_against!"
      ]
     },
     "execution_count": 1,
     "metadata": {},
     "output_type": "execute_result"
    }
   ],
   "source": [
    "\"\"\"\n",
    "    ortho_against!(r, v, a, k, Q)\n",
    "\n",
    "For a given nonnegative integer `k`, perform v = v - r₁ q₁ - ... - rₖ qₖ, where\n",
    "- q₁, ..., qₖ are the first `k` columns of `Q`,\n",
    "- rᵢ = qᵢ⋅a is the coefficient of `a` in the qᵢ direction and stored in r[i].\n",
    "\n",
    "To use in the modified Gram–Schmidt procedure, call `ortho_against!(r, v, v, k, Q)`, i.e.,\n",
    "put the vector `v` for `a` as well.\n",
    "\n",
    "\"\"\"\n",
    "function ortho_against!(r, v, a, k, Q)\n",
    "    for i = 1:k\n",
    "        q = @view Q[:,i]\n",
    "        r[i] = q⋅a  # contents of r updated\n",
    "        v .-= r[i]*q  # contents of v updated\n",
    "    end\n",
    "end\n",
    "\n",
    "\"\"\"\n",
    "    ortho_against!(v, a, k, Q)\n",
    "\n",
    "Same as `ortho_against!(r, v, a, k, Q)`, but does not store the coefficients `r`.\n",
    "\"\"\"\n",
    "function ortho_against!(v, a, k, Q)\n",
    "    for i = 1:k\n",
    "        q = @view Q[:,i]\n",
    "        r = q⋅a\n",
    "        v .-= r*q  # contents of v updated\n",
    "    end\n",
    "end"
   ]
  },
  {
   "cell_type": "markdown",
   "metadata": {},
   "source": [
    "Now, here is CLGS implemented by using `ortho_against!`:"
   ]
  },
  {
   "cell_type": "code",
   "execution_count": 2,
   "metadata": {
    "collapsed": false
   },
   "outputs": [
    {
     "data": {
      "text/plain": [
       "clgs (generic function with 2 methods)"
      ]
     },
     "execution_count": 2,
     "metadata": {},
     "output_type": "execute_result"
    }
   ],
   "source": [
    "function clgs(A, ismodified=false)\n",
    "    n = size(A, 2)\n",
    "    T = eltype(A)\n",
    "    FT = float(T)\n",
    "    \n",
    "    Q = similar(A, FT)  # avoid creating complex Q for real A\n",
    "    copy!(Q, A)  # \"!\" means contents of Q change\n",
    "    R = zeros(FT, n, n)\n",
    "\n",
    "    for j = 1:n\n",
    "        v = @view Q[:,j]  # use @view because we want to modify Q in-place\n",
    "        a = ismodified ? v : @view A[:,j]\n",
    "        r = @view R[:,j]\n",
    "        ortho_against!(r, v, a, j-1, Q)  # 1st version of ortho_against!\n",
    "        R[j,j] = norm(v)\n",
    "\n",
    "        if R[j,j] == 0\n",
    "            rand!(v)\n",
    "            a = ismodified ? v : copy(v)\n",
    "            ortho_against!(v, a, j-1, Q)  # 2nd version of ortho_against!\n",
    "            normalize!(v)  # \"!\" means v is normalized in-place\n",
    "        else\n",
    "            v ./= R[j,j]\n",
    "        end\n",
    "    end\n",
    "\n",
    "    return Q, R\n",
    "end"
   ]
  },
  {
   "cell_type": "markdown",
   "metadata": {},
   "source": [
    "Note that we pass `v` and `a` pointing to the same object when `ismodified = true`.  This is allows `ortho_against!` to update `a` during orthogonalization so that the orthogonalization is carried out in the \"modified\" fashion."
   ]
  },
  {
   "cell_type": "markdown",
   "metadata": {},
   "source": [
    "### Validation of your implementation\n",
    "\n",
    "Use the following code blocks to validate your implementation of `clgs()`.  The answer you get after each question mark must be `true`."
   ]
  },
  {
   "cell_type": "code",
   "execution_count": 3,
   "metadata": {
    "collapsed": false
   },
   "outputs": [
    {
     "name": "stdout",
     "output_type": "stream",
     "text": [
      "CLGS:\n",
      "QR ≈ A?  true\n",
      "Q'Q ≈ I?  true\n",
      "\n",
      "MGS:\n",
      "QR ≈ A?  true\n",
      "Q'Q ≈ I?  true\n"
     ]
    }
   ],
   "source": [
    "# For full-rank A\n",
    "m, n = 10, 7\n",
    "A = rand(Complex128, m, n);\n",
    "\n",
    "Q, R = clgs(A)\n",
    "println(\"CLGS:\")\n",
    "println(\"QR ≈ A?  $(Q*R ≈ A)\")\n",
    "println(\"Q'Q ≈ I?  $(Q'Q ≈ eye(n))\")\n",
    "println()\n",
    "\n",
    "Q, R = clgs(A, true)\n",
    "println(\"MGS:\")\n",
    "println(\"QR ≈ A?  $(Q*R ≈ A)\")\n",
    "println(\"Q'Q ≈ I?  $(Q'Q ≈ eye(n))\")"
   ]
  },
  {
   "cell_type": "code",
   "execution_count": 4,
   "metadata": {
    "collapsed": false
   },
   "outputs": [
    {
     "name": "stdout",
     "output_type": "stream",
     "text": [
      "CLGS:\n",
      "QR ≈ A?  true\n",
      "Q'Q ≈ I?  true\n",
      "\n",
      "MGS:\n",
      "QR ≈ A?  true\n",
      "Q'Q ≈ I?  true\n"
     ]
    }
   ],
   "source": [
    "# For rank-deficient A\n",
    "A = [1 0 0; 1 0 0; 1 0 0; 0 1 0]\n",
    "m, n = size(A)\n",
    "\n",
    "Q, R = clgs(A)\n",
    "println(\"CLGS:\")\n",
    "println(\"QR ≈ A?  $(Q*R ≈ A)\")\n",
    "println(\"Q'Q ≈ I?  $(Q'Q ≈ eye(n))\")\n",
    "println()\n",
    "\n",
    "Q, R = clgs(A, true)\n",
    "println(\"MGS:\")\n",
    "println(\"QR ≈ A?  $(Q*R ≈ A)\")\n",
    "println(\"Q'Q ≈ I?  $(Q'Q ≈ eye(n))\")"
   ]
  },
  {
   "cell_type": "markdown",
   "metadata": {},
   "source": [
    "### Assignment 1.2 [2 pts]\n",
    "\n",
    "Complete `mgs()` that performs the reduced QR factorization using the *modified* Gram–Schmidt procedure described in Alg. 8.1 of Trefethen and Bau.\n",
    "\n",
    "The points for this assignment are distributed as follows:\n",
    "- 1 pt if the function handles full-rank $A$ correctly.\n",
    "- Additional 1 pt if the function handles rank-deficient $A$ correctly."
   ]
  },
  {
   "cell_type": "markdown",
   "metadata": {},
   "source": [
    "*Solution*.\n",
    "\n",
    "The following is the implementation of MGS.  Here, we cannot use `ortho_against!` for full-rank $A$, because Alg. 8.1 is a row-wise algorithm rather than a column-wise algorthim like Alg. 7.1.  Still, we can use `ortho_against!` to handle rank-deficient cases."
   ]
  },
  {
   "cell_type": "code",
   "execution_count": 5,
   "metadata": {
    "collapsed": false
   },
   "outputs": [
    {
     "data": {
      "text/plain": [
       "mgs (generic function with 1 method)"
      ]
     },
     "execution_count": 5,
     "metadata": {},
     "output_type": "execute_result"
    }
   ],
   "source": [
    "function mgs(A)\n",
    "    n = size(A, 2)\n",
    "    T = eltype(A)\n",
    "    FT = float(T)\n",
    "    \n",
    "    Q = similar(A, FT)  # avoid creating complex Q for real A\n",
    "    copy!(Q, A)\n",
    "    R = zeros(FT, n, n)\n",
    "\n",
    "    for i = 1:n\n",
    "        q = @view Q[:,i]\n",
    "        R[i,i] = norm(q)\n",
    "\n",
    "        if R[i,i] == 0\n",
    "            rand!(q)\n",
    "            ortho_against!(q, q, i-1, Q)  # 2nd version of ortho_against!\n",
    "            normalize!(q)\n",
    "        else\n",
    "            q ./= R[i,i]\n",
    "        end\n",
    "\n",
    "        for j = i+1:n\n",
    "            v = @view Q[:,j]\n",
    "            R[i,j] = q⋅v\n",
    "            v .-= R[i,j]*q\n",
    "        end\n",
    "    end\n",
    "    \n",
    "    return Q, R\n",
    "end"
   ]
  },
  {
   "cell_type": "markdown",
   "metadata": {},
   "source": [
    "### Validation of your implementation\n",
    "\n",
    "Use the following code blocks to validate your implementation of `mgs()`.  The answer you get after each question mark must be `true`.  \n",
    "\n",
    "Note that `mgs(A)` should return *exactly* the same numbers as `clgs(A, true)` for full-rank `A`, because MGS and M-CLGS are just different ways of implementing the same modified Gram–Schmidt procedure.  The only difference is which of the row and column indices varies faster: in MGS (Alg. 8.1) the inner loop changes the column index $j$ and the outer loop changes the row index $i$, whereas M-CLGS (one-line modificationt of Alg. 7.1) does the opposite."
   ]
  },
  {
   "cell_type": "code",
   "execution_count": 6,
   "metadata": {
    "collapsed": false
   },
   "outputs": [
    {
     "name": "stdout",
     "output_type": "stream",
     "text": [
      "MGS:\n",
      "QR ≈ A?  true\n",
      "Q'Q ≈ I?  true\n",
      "\n",
      "Comparison with clgs(A, true):\n",
      "Same Q?  true\n",
      "Same R?  true\n"
     ]
    }
   ],
   "source": [
    "# For full-rank A\n",
    "m, n = 10, 7\n",
    "A = rand(Complex128, m, n);\n",
    "\n",
    "Qm, Rm = mgs(A)\n",
    "println(\"MGS:\")\n",
    "println(\"QR ≈ A?  $(Qm*Rm ≈ A)\")\n",
    "println(\"Q'Q ≈ I?  $(Qm'Qm ≈ eye(n))\")\n",
    "println()\n",
    "\n",
    "Qcl, Rcl = clgs(A, true)\n",
    "println(\"Comparison with clgs(A, true):\")\n",
    "println(\"Same Q?  $(Qm == Qcl)\")\n",
    "println(\"Same R?  $(Rm == Rcl)\")"
   ]
  },
  {
   "cell_type": "code",
   "execution_count": 7,
   "metadata": {
    "collapsed": false
   },
   "outputs": [
    {
     "name": "stdout",
     "output_type": "stream",
     "text": [
      "MGS:\n",
      "QR ≈ A?  true\n",
      "Q'Q ≈ I?  true\n",
      "\n",
      "Comparison with modified CLGS:\n",
      "Same q₁ and q₂?  true\n",
      "Different q₃?  true\n",
      "Same R?  true\n"
     ]
    }
   ],
   "source": [
    "# For rank-deficient A\n",
    "A = [1 0 0; 1 0 0; 1 0 0; 0 1 0]\n",
    "m, n = size(A)\n",
    "\n",
    "Qm, Rm = mgs(A)\n",
    "println(\"MGS:\")\n",
    "println(\"QR ≈ A?  $(Qm*Rm ≈ A)\")\n",
    "println(\"Q'Q ≈ I?  $(Qm'Qm ≈ eye(n))\")\n",
    "println()\n",
    "\n",
    "Qcl, Rcl = clgs(A, true)\n",
    "println(\"Comparison with modified CLGS:\")\n",
    "println(\"Same q₁ and q₂?  $(Qm[:,1:2] == Qcl[:,1:2])\")\n",
    "println(\"Different q₃?  $(Qm[:,3] ≠ Qcl[:,3])\")  # q₃ is not uniquely determined, because r₃₃ = 0\n",
    "println(\"Same R?  $(Rm == Rcl)\")"
   ]
  },
  {
   "cell_type": "markdown",
   "metadata": {},
   "source": [
    "### Assignment 1.3 [1 pt]\n",
    "\n",
    "It is known that the columns of $\\hat{Q}$ constructed by MGS are closer to being orthogonal than those constructed by CLGS.  In this assignment we numerically verify if this is really the case.\n",
    "\n",
    "The quality of orthogonality of the columns of $Q$ can be measured by the error in $\\hat{Q}^* \\hat{Q}$: if it is closer to $I$, the columns of $\\hat{Q}$ are closer to being orthogonal.\n",
    "\n",
    "Complete `compare_gs()` below that measures the errors in $\\hat{Q}^* \\hat{Q}$ for $N$ randomly generated test matrices of size $m$-by-$n$.  Use the matrix 1-norm to measure the errors."
   ]
  },
  {
   "cell_type": "code",
   "execution_count": 8,
   "metadata": {
    "collapsed": false
   },
   "outputs": [
    {
     "data": {
      "text/plain": [
       "compare_gs (generic function with 1 method)"
      ]
     },
     "execution_count": 8,
     "metadata": {},
     "output_type": "execute_result"
    }
   ],
   "source": [
    "function compare_gs(N, m, n)\n",
    "    I = eye(n)\n",
    "    errI_cl = Vector{Float64}(N)\n",
    "    errI_m = Vector{Float64}(N)\n",
    "    \n",
    "    for i = 1:N\n",
    "        A = rand(m,n)\n",
    "        Qcl, ~ = clgs(A)\n",
    "        Qm, ~ = mgs(A)\n",
    "        \n",
    "        errI_cl[i] = norm(Qcl'Qcl - I, 1)\n",
    "        errI_m[i] = norm(Qm'Qm - I, 1)\n",
    "    end\n",
    "    \n",
    "    return errI_cl, errI_m  # two length-N vectors containing errors in Q'Q for Q by clgs(A)\n",
    "end"
   ]
  },
  {
   "cell_type": "markdown",
   "metadata": {},
   "source": [
    "### Validation of your implementation\n",
    "\n",
    "Use the following code block to plot the measured errors.  You will see that the errors for MGS stay always lower than the errors for CLGS for all matrices."
   ]
  },
  {
   "cell_type": "code",
   "execution_count": 9,
   "metadata": {
    "collapsed": false
   },
   "outputs": [
    {
     "data": {
      "image/png": "[encoded data removed]",
      "text/plain": [
       "PyPlot.Figure(PyObject <matplotlib.figure.Figure object at 0x31e268470>)"
      ]
     },
     "metadata": {},
     "output_type": "display_data"
    },
    {
     "data": {
      "text/plain": [
       "PyObject <matplotlib.legend.Legend object at 0x32105edd8>"
      ]
     },
     "execution_count": 9,
     "metadata": {},
     "output_type": "execute_result"
    }
   ],
   "source": [
    "N = 200\n",
    "m, n = 50, 30\n",
    "errI_cl, errI_m = compare_gs(N, m, n)\n",
    "\n",
    "using PyPlot  # if not installed yet, execute Pkg.add(\"PyPlot\") first\n",
    "\n",
    "semilogy(1:N, errI_cl, \"r-\", 1:N, errI_m, \"b-\")\n",
    "title(\"Orthogonality of Q: CLGS vs. MGS for $m×$n Matrices\")\n",
    "xlabel(\"Matrix Number\")\n",
    "ylabel(\"Error in Q* Q\")\n",
    "legend([\"CLGS\", \"MGS\"])"
   ]
  },
  {
   "cell_type": "markdown",
   "metadata": {},
   "source": [
    "## Problem 2.  Intersection of subspaces [3 pts]\n",
    "\n",
    "(Partly taken from Exercise 7.4 of Trefethen and Bau)"
   ]
  },
  {
   "cell_type": "markdown",
   "metadata": {},
   "source": [
    "(a) [1 pt] `mgs()` written in Prob. 1 performs the *reduced* QR factorization for a skinny matrix $A$.  Explain how to perform the *full* QR factorization using mgs() for a skinny matrix $A$."
   ]
  },
  {
   "cell_type": "markdown",
   "metadata": {},
   "source": [
    "*Solution*.\n",
    "\n",
    "Attach random $m-n$ columns to $A$ to make it square, and pass the expanded matrix to `mgs()`.  From the resulting $Q$ and $R$, keep the entire $Q$ but discard the last $m-n$ columns of $R$."
   ]
  },
  {
   "cell_type": "markdown",
   "metadata": {},
   "source": [
    "(b) [2 pts] Consider a subspace of $\\mathbb{R}^3$ spanned by $a_1 = [0.9, 0.3, 0.2]^\\top$ and $a_2 = [0.5, 0.9, 0.6]^\\top$, and another subspace spanned by $b_1 = [0.1, 0.6, 0.1]^\\top$ and $b_2 = [0.7, 0.4, 0.6]^\\top$.  The two subspaces are planes in $\\mathbb{R}^3$ containing the origin, and the intersection between the two is a line passing through the origin.  Complete the code block below that finds the direction of this intersection line by using `mgs()` three times."
   ]
  },
  {
   "cell_type": "markdown",
   "metadata": {},
   "source": [
    "*Solution*.\n",
    "\n",
    "A plane is defined as a set of all lines passing through one point (the origin in the present context) that are orthogonal to a given vector, which is called the normal vector of the plane.  You are given two in-plane directions for each plane.  If you construct a $3\\times 2$ matrix $A$ using these in-plane directions as columns and perform the full QR factorization $A = Q R$, the first two columns of $Q$ are still in-plane directions, but the third column of $Q$ is the direction orthogonal to the first two columns of $Q$, so it is the direction normal to the plane.  Therefore, you can find the normal vector of a plane by performing the full QR factorization.\n",
    "\n",
    "Once you find the normal vectors of the two planes this way, you can use them to find the intersection between the two planes.  From the previous definition of a plane, we realize that the intersection between two planes is the line that is *simultaneously* orthogonal to the normal vectors of the two planes.  We have already explained how to find the direction orthogonal to two vectors (which happen to be the normal vectors of the two planes now) by performing the full QR factorization.\n",
    "\n",
    "The following is the implementation of the above procedure in Julia:"
   ]
  },
  {
   "cell_type": "code",
   "execution_count": 10,
   "metadata": {
    "collapsed": false
   },
   "outputs": [
    {
     "name": "stdout",
     "output_type": "stream",
     "text": [
      "Intersection is along v = [0.534673,0.703132,0.468754].\n"
     ]
    }
   ],
   "source": [
    "a₁ = [0.9, 0.3, 0.2]\n",
    "a₂ = [0.5, 0.9, 0.6]\n",
    "\n",
    "b₁ = [0.1, 0.6, 0.1]\n",
    "b₂ = [0.7, 0.4, 0.6]\n",
    "\n",
    "A = [a₁ a₂]\n",
    "B = [b₁ b₂]\n",
    "\n",
    "Qa, ~ = mgs([A rand(3)])\n",
    "Qb, ~ = mgs([B rand(3)])\n",
    "\n",
    "a₃ = @view Qa[:,3]  # direction normal to first plane\n",
    "b₃ = @view Qb[:,3]  # direction normal to second plane\n",
    "\n",
    "Qv, Rv = mgs([a₃ b₃ rand(3)])\n",
    "\n",
    "v = @view Qv[:,3]\n",
    "\n",
    "println(\"Intersection is along v = $v.\")"
   ]
  },
  {
   "cell_type": "markdown",
   "metadata": {},
   "source": [
    "## Problem 3.  Rank and QR factorization [2 pts]\n",
    "\n",
    "(Partly taken from Exercise 7.5 of Trefethen and Bau)\n",
    "\n",
    "Let $A$ be an $m \\times n$ matrix ($m \\ge n$), and let $A = \\hat{Q} \\hat{R}$ be a reduced QR factorization."
   ]
  },
  {
   "cell_type": "markdown",
   "metadata": {},
   "source": [
    "(a) [1 pt] Show that $\\mathrm{rank}(A)=n$ if and only if all the diagonal entries of $\\hat{R}$ are nonzero."
   ]
  },
  {
   "cell_type": "markdown",
   "metadata": {},
   "source": [
    "*Proof*.\n",
    "\n",
    "(\"if\" part) Because $\\hat{R}$ is square upper triangular, $\\det(\\hat{R})$ is the product of the diagonal entries of $\\hat{R}$, which is nonzero because all the diagonal entries of $\\hat{R}$ are nonzero.  This means $\\hat{R}$ is invertible.  An invertible matrix preserves the rank of the matrix it is multiplied with.  Therefore, $\\mathrm{rank}(A) = \\mathrm{rank}(\\hat{Q}\\hat{R}) = \\mathrm{rank}(\\hat{Q})$.  Because all the columns of $\\hat{Q}$ are orthogonal to each other, $\\mathrm{rank}(\\hat{Q}) = n$, which proves $\\mathrm{rank}(A) = n$.\n",
    "\n",
    "(\"only if\" part)  This is obvious from the Gram–Schmidt procedure."
   ]
  },
  {
   "cell_type": "markdown",
   "metadata": {},
   "source": [
    "(b) [1 pt] Suppose $\\hat{R}$ has $k$ nonzero diagonal entries for some $k$ with $0 \\le k \\le n-1$.  Show that $\\mathrm{rank}(A) \\ge k$ but the equality does not always hold (i.e., $\\mathrm{rank}(A)$ could be greater than $k$ for some $A$)."
   ]
  },
  {
   "cell_type": "markdown",
   "metadata": {},
   "source": [
    "*Proof*.\n",
    "\n",
    "This time, consider the full QR factorization $A = Q R$ instead of the reduced QR factorization $A = \\hat{Q} \\hat{R}$ for a moment.  Because $Q$ is invertible, it preserves the rank of the matrix it is multiplied with.  Therefore, $\\mathrm{rank}(A) = \\mathrm{rank}(Q R) = \\mathrm{rank}(R)$.  Here, notice $R = \\left[\n",
    "\\begin{array}{c}\n",
    " \\hat{R} \\\\\n",
    " 0 \\\\\n",
    "\\end{array}\n",
    "\\right]$ has the same number of nonzero diagonal entries as $\\hat{R}$.  Therefore, $R$ has $k$ nonzero diagonal entries, and its *rows* corresponding to those nonzero diagonal entries are linearly independent.  Theferore, $R$ has at least $k$ linearly independent rows, which proves $\\mathrm{rank}(R) \\ge k$, and hence $\\mathrm{rank}(A) \\ge k$.\n",
    "\n",
    "\n",
    "To show that $\\mathrm{rank}(A)$ is not always equal to $k$ but is greater than $k$ for some $A$, it suffices to construct such $A$.  Consider\n",
    "$$\n",
    "A=\\left[\n",
    "\\begin{array}{ccc}\n",
    " 1 & 1 & 0 \\\\\n",
    " 0 & 0 & 1 \\\\\n",
    " 0 & 0 & 0 \\\\\n",
    "\\end{array}\n",
    "\\right].\n",
    "$$\n",
    "This is already upper-triangular, so its reduced QR factorization is $\\hat{Q} = I$ and $\\hat{R} = A$.  Notice $\\hat{R}$ has only 1 nonzero diagonal entry while $\\mathrm{rank}(A) = 2 > 1$."
   ]
  },
  {
   "cell_type": "markdown",
   "metadata": {},
   "source": [
    "## Bonus problem.  QR factorization with column pivoting [3 pts]\n",
    "\n",
    "(Note: the score of this bonus problem will be added to your total problem set score at the end of the semester.  However, your total problem set score cannot exceed the perfect problem set score without bonus problems.  In other words, \n",
    "$$\n",
    "\\text{your total p-set score} = \\min\\left\\{\\sum_n\\text{your $n$th p-set score $with$ bonus problems}, \\sum_n\\text{perfect $n$th p-set score $without$ bonus problems}\\right\\}.\n",
    "$$\n",
    "So solve bonus problems to compensate for the deducted points in your problem sets.)\n",
    "\n",
    "Consider a skinny or square matrix $A \\in \\mathbb{C}^{m\\times n}$ ($m\\ge n$).  For a full-rank $A$, the reduced QR factorization $A = \\hat{Q} \\hat{R}$ is a nice way to construct an orthonormal basis of $\\mathrm{range}(A)$: the columns of $\\hat{Q}$ are the orthonormal basis vectors.\n",
    "\n",
    "However, for a rank-deficient $A$, the reduced QR factorization does not provide useful information about the basis of $\\mathrm{range}(A)$.  Problem 3b states that $\\mathrm{rank}(A)$ is the number of nonzero diagonal entries of $\\hat{R}$ or *more*, so we know simply picking the columns of $\\hat{Q}$ corresponding to the nonzero diagonal entries of $\\hat{R}$ does not provide enough number of vectors to form a basis of $\\mathrm{range}(A)$.  Moreover, when some diagonal entry $r_{j_0j_0}$ of $\\hat{R}$ turns out to be zero during the Gram–Schmidt procedure, we throw in a random vector to construct $q_{j_0}$.  This $q_{j_0}$ is not necessarily within $\\mathrm{range}(A)$, but it is still subtracted from the columns of $A$ when constructing the columns of $\\hat{Q}$ after $q_{j_0}$.  Therefore, all the columns of $\\hat{Q}$ constructed after $q_{j_0}$ are also outside $\\mathrm{range}(A)$.\n",
    "\n",
    "One way to construct an orthonormal basis of $\\mathrm{range}(A)$ by the Gram–Schmidt procedure is to incorporate column pivoting.  The resulting reduced QR factorization is of the form\n",
    "$$\n",
    "A P = \\hat{Q}\\hat{R},\n",
    "$$\n",
    "where $P$ is a column permutation matrix.  In Julia notation, this can be written \n",
    "$$\n",
    "A_{:,p} = \\hat{Q} \\hat{R},\n",
    "$$\n",
    "where $p$ is a vector indicating the permuted column indices of $A$.\n",
    "\n",
    "The column permutation is carried out to keep the diagonal entries of $\\hat{R}$ nonincreasing in magnitude, i.e., \n",
    "$$\n",
    "\\left|r_{11}\\right| \\ge \\cdots \\ge \\left|r_{kk}\\right| > 0 = \\left|r_{k+1,k+1}\\right| = \\cdots = \\left|r_{nn}\\right|.  \n",
    "$$"
   ]
  },
  {
   "cell_type": "markdown",
   "metadata": {},
   "source": [
    "### Assignment B.1 [2 pts]\n",
    "\n",
    "Complete `qrp()` below that performs the reduced QR factorization with column pivoting.  \n",
    "\n",
    "Hint 1.  The procedure is simiar to MGS than CLGS.  In other words, as soon as you obtain $q_j$, subtract the $q_j$ components from all the remaining columns of $A$.\n",
    "\n",
    "Hint 2.  Do not attempt to figure out the entire permutation first and then perform the reduced QR factorization.  You can construct the permutation gradually on the fly.  It is pretty obvious which column of $A$ needs to be put into the first column.  Perform the first permutation for such arrangement of columns, and then carry out MGS with the first column.  Think about which column of $A$ to put into the second column.  Repeat the procedure."
   ]
  },
  {
   "cell_type": "markdown",
   "metadata": {},
   "source": [
    "*Solution*.\n",
    "\n",
    "Suppose the step $i = k$ of MGS with column pivoting is just finished and the column permutation accumulated up to this point is $p^{(k)}$.  Then, the matrix looks like\n",
    "$$\n",
    "A_{:,p^{(k)}} = \\left[\n",
    "\\begin{array}{cc}\n",
    "\\underbrace{q_1 \\cdots  q_k}_{\\hat{Q}_{:,1:k}} & \\underbrace{v_{k+1}^{(k+1)} \\cdots  v_n^{(k+1)}}_{V^{(k+1)}}\n",
    "\\end{array}\n",
    "\\right] \n",
    "\\left[\n",
    "\\begin{array}{cc}\n",
    "\\hat{R}_{1:k,1:k} & S^{(k+1)}\\\\\n",
    " 0 & I\n",
    "\\end{array}\n",
    "\\right]\n",
    "$$\n",
    "\n",
    "Now, at the beginning of the step $i = k+1$ of MGS with column pivoting, we choose one of the columns $v_{k+1}^{(k+1)}, \\ldots,v_n^{(k+1)}$ and normalize it to produce the next orthogonal direction $q_{k+1}$.  Because the norm of the chosen column becomes the next diagonal entry $r_{k+1,k+1}$ of $\\hat{R}$, we choose the column with the largest norm among $v_{k+1}^{(k+1)}, \\ldots,v_n^{(k+1)}$ and normalize it.  Therefore, the column permutation to perform at the beginning of the step $i = k+1$ is the one that brings the chosen column to the $(k+1)$th column of the column-permuted matrix $A$.\n",
    "\n",
    "Note that this column permutation operator, which is denoted by $P_{k+1}$, is multiplied to the right of $A_{:,p^{(k)}}$ on the left-hand side of the above equation.  What this permutation operator does on the right-hand side of the equation is interesting.  It permutes the columns of $\\left[\n",
    "\\begin{array}{c}\n",
    "S^{(k+1)}\\\\\n",
    "I\n",
    "\\end{array}\n",
    "\\right]$, but then the lower block $I$ becomes no longer an identity matrix.  However, the identy matrix is recovered once we permute the columns $v_{k+1}^{(k+1)}, \\ldots,v_n^{(k+1)}$ with the same column permutation operator, because\n",
    "$$\n",
    "A_{:,p^{(k)}} P_{k+1} = \\left(\\left[\n",
    "\\begin{array}{cc}\n",
    "q_1 \\cdots  q_k & v_{k+1}^{(k+1)} \\cdots  v_n^{(k+1)}\n",
    "\\end{array}\n",
    "\\right] P_{k+1} \\right)\n",
    "\\left(P_{k+1}\n",
    "\\left[\n",
    "\\begin{array}{cc}\n",
    "\\hat{R}_{1:k,1:k} & S^{(k+1)}\\\\\n",
    " 0 & I\n",
    "\\end{array}\n",
    "\\right] P_{k+1} \\right).\n",
    "$$\n",
    "Therefore, permuting the last $n-k$ columns of $A_{:,p^{(k)}}$ with $P_{k+1}$ is equivalent to permuting the columns $v_{k+1}^{(k+1)}, \\ldots,v_n^{(k+1)}$ while maintaining the identity matrix at the lower-right block of the second parenthesized matrix above.  Then, when the $(k+1)$th column of the first parenthesized matrix is normalized, the norm of the column before normalization becomes the new diagonal entry $r_{k+1,k+1}$ in the second parenthesized matrix.  We can repeat this procedure until factorization is done.\n",
    "\n",
    "`qrp` below implements the above explained procedure."
   ]
  },
  {
   "cell_type": "code",
   "execution_count": 25,
   "metadata": {
    "collapsed": false,
    "scrolled": true
   },
   "outputs": [
    {
     "name": "stderr",
     "output_type": "stream",
     "text": [
      "WARNING: Method definition qrp(Any) in module Main at In[23]:2 overwritten at In[25]:2.\n"
     ]
    },
    {
     "data": {
      "text/plain": [
       "qrp (generic function with 1 method)"
      ]
     },
     "execution_count": 25,
     "metadata": {},
     "output_type": "execute_result"
    }
   ],
   "source": [
    "function qrp(A)\n",
    "    n = size(A, 2)\n",
    "    T = eltype(A)\n",
    "    FT = float(T)\n",
    "    \n",
    "    Q = similar(A, FT)\n",
    "    copy!(Q, A)\n",
    "    R = zeros(FT, n, n)\n",
    "    \n",
    "    r = Vector{Float64}(n)  # storage for norms of columns\n",
    "    r0 = Vector{Float64}(n)  # storage for norms of initial columns; used to determine numerically rank-deficient case\n",
    "    for j = 1:n\n",
    "        a = @view A[:,j]\n",
    "        r0[j] = norm(a)\n",
    "    end\n",
    "\n",
    "    p = collect(1:n)  # permuted column indices\n",
    "    \n",
    "    for i = 1:n\n",
    "        for j = 1:n\n",
    "            a = @view Q[:,j]\n",
    "            r[j] = norm(a)\n",
    "        end\n",
    "        \n",
    "        # Among the column i through n, find the one to be brought to the ith column.\n",
    "        ~, ip = findmax(@view r[i:n])\n",
    "        ip += i-1\n",
    "        \n",
    "        # If the found column is not already the ith column, do the permutation to bring it to the ith column.\n",
    "        if ip ≠ i\n",
    "            p[i], p[ip] = p[ip], p[i]\n",
    "            r[i], r[ip] = r[ip], r[i]\n",
    "            r0[i], r0[ip] = r0[ip], r0[i]\n",
    "            R[:,i], R[:,ip] = R[:,ip], R[:,i]\n",
    "            Q[:,i], Q[:,ip] = Q[:,ip], Q[:,i]\n",
    "        end\n",
    "\n",
    "        R[i,i] = r[i]\n",
    "\n",
    "        # Handle rank-deficient cases.\n",
    "        q = @view Q[:,i]\n",
    "        if R[i,i] < 1e-10r0[i]  # numerically rank-deficient\n",
    "            rand!(q)\n",
    "            ortho_against!(q, q, i-1, Q)\n",
    "            normalize!(q)\n",
    "        else\n",
    "            q ./= R[i,i]\n",
    "        end\n",
    "\n",
    "        # Perform the inner loop of MGS.\n",
    "        for j = i+1:n\n",
    "            v = @view Q[:,j]\n",
    "            R[i,j] = q⋅v\n",
    "            v .-= R[i,j]*q\n",
    "        end\n",
    "    end\n",
    "    \n",
    "    return Q, R, p  # A[:,p] = Q*R\n",
    "end"
   ]
  },
  {
   "cell_type": "markdown",
   "metadata": {},
   "source": [
    "### Validation of your implementation\n",
    "\n",
    "Use the following code block to validate your implementation.  Check if the last three rows of $\\hat{R}$ are nearly zero.  They may not be completely zero due to round-off errors, but as long as they are significantly smaller than the entries of the rows above, your implementation is fine."
   ]
  },
  {
   "cell_type": "code",
   "execution_count": 26,
   "metadata": {
    "collapsed": false,
    "scrolled": true
   },
   "outputs": [
    {
     "name": "stdout",
     "output_type": "stream",
     "text": [
      "MGS with column pivoting:\n",
      "QR ≈ A[:,p]?  true\n",
      "Decreasing rᵢᵢ?  true\n",
      "Q'Q ≈ I?  true\n",
      "R[4:6,:] ≈ 0? true\n"
     ]
    }
   ],
   "source": [
    "# Construct a rank-deficient A.\n",
    "m, n = 10, 6\n",
    "A = zeros(m, n)\n",
    "rand!(@view A[:, [1,2,6]])\n",
    "for j = 3:5\n",
    "    A[:,j] .+= rand() .* (@view A[:,1])\n",
    "    A[:,j] .+= rand() .* (@view A[:,2])\n",
    "end\n",
    "\n",
    "# Perform the reduced QR factorization with column pivoting.\n",
    "Q, R, p = qrp(A)\n",
    "\n",
    "println(\"MGS with column pivoting:\")\n",
    "println(\"QR ≈ A[:,p]?  $(Q*R ≈ A[:,p])\")\n",
    "println(\"Decreasing rᵢᵢ?  $(issorted(diag(R), rev=true))\")\n",
    "println(\"Q'Q ≈ I?  $(Q'Q ≈ eye(n))\")\n",
    "println(\"R[4:6,:] ≈ 0? $(isapprox(R[4:6,:], zeros(3,6), atol = 10eps()))\")"
   ]
  },
  {
   "cell_type": "markdown",
   "metadata": {},
   "source": [
    "### Assignment B.2 [1 pt]\n",
    "\n",
    "(a) Show that the permutation used in the reduced QR factorization ensures that the rows of $\\hat{R}$ below the $k$th row are completely zero in exact arithmetic (i.e., ignoring round-off errors).  In other words, $A_{:,p}$ is of the form\n",
    "$$\n",
    "A_{:,p} = \\hat{Q} \\left[\n",
    "\\begin{array}{c}\n",
    " \\hat{R}_{1:k,:} \\\\\n",
    " 0 \\\\\n",
    "\\end{array}\n",
    "\\right].\n",
    "$$\n",
    "\n",
    "Also, find $\\mathrm{rank}(A)$ and an orthonormal basis of $\\mathrm{range}(A)$ from this result."
   ]
  },
  {
   "cell_type": "markdown",
   "metadata": {},
   "source": [
    "*Proof and answers*.\n",
    "\n",
    "The permutation ensures \n",
    "$$\n",
    "\\left|r_{ii}\\right| \\ge \\left\\|\\hat{R}_{i:j,j}\\right\\| \\;\\text{for}\\; j > i,\n",
    "$$  \n",
    "because otherwise we would have $\\left|r_{ii}\\right| < \\left\\|\\hat{R}_{i:j,j}\\right\\|$ for some $j > i$ and swapping the $j$th and $i$th columns would produce a greater $\\left|r_{ii}\\right|$.  The above inequality can be written with slightly relaxed condition on $j$ as\n",
    "$$\n",
    "\\left|r_{ii}\\right| \\ge \\left\\|\\hat{R}_{i:j,j}\\right\\| \\;\\text{for}\\; j \\ge i,\n",
    "$$  \n",
    "because the inequality holds obviously for $j = i$.\n",
    "\n",
    "When combined with $\\left|r_{k+1,k+1}\\right| = 0$, the inequality implies $\\left\\|\\hat{R}_{k+1:j,j}\\right\\| = 0$ for $j \\ge k+1$.  Because $\\hat{R}_{j+1:m,j} = 0$ due to the upper-triangular shape of $\\hat{R}$, we can further write $\\left\\|\\hat{R}_{k+1:m,j}\\right\\| = 0$ for $j \\ge k+1$, which implies $r_{ij} = 0$ for all $i, j \\ge k+1$.  Therefore, the rows of $\\hat{R}$ below the $k$th row are completely zero.\n",
    "\n",
    "From this result, we have $A_{:,p} = \\hat{Q}_{:,1:k} \\hat{R}_{1:k,:}$.  We can use this to prove that the first $k$ columns of $\\hat{Q}$ form an orthonormal basis of $\\mathrm{range}(A)$.  First, notice $\\mathrm{range}(\\hat{R}_{1:k,:}) = \\mathbb{C}^k$ because $\\hat{R}_{1:k,:}$ is fat and full-rank.  Therefore, $\\mathrm{range}(A) = \\mathrm{range}(A_{:,p}) = \\mathrm{range}(\\hat{Q}_{:,1:k} \\hat{R}_{1:k,:}) = \\mathrm{range}(\\hat{Q}_{:,1:k})$.  In addition to this, because the columns of $\\hat{Q}_{:,1:k}$ are orthonormal, we conclude they, or the first $k$ columns of $\\hat{Q}$, form an orthonormal basis $\\mathrm{range}(A)$.  Accordingly, $\\mathrm{rank}(A) = k$, the number of columns of $\\hat{Q}_{:,1:k}$.\n",
    "\n",
    "This proves the usefulness of the QR factorization with column pivoting: you can easily find out the rank of $A$ and an orthonormal basis of the range of $A$ using the QR factorization with column pivoting."
   ]
  }
 ],
 "metadata": {
  "anaconda-cloud": {},
  "kernelspec": {
   "display_name": "Julia 0.5.2-pre",
   "language": "julia",
   "name": "julia-0.5"
  },
  "language_info": {
   "file_extension": ".jl",
   "mimetype": "application/julia",
   "name": "julia",
   "version": "0.5.2"
  }
 },
 "nbformat": 4,
 "nbformat_minor": 0
}
