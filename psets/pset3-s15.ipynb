{
 "metadata": {
  "language": "Julia",
  "name": "",
  "signature": "sha256:72923556657c68fbed42eae0fe9771a9b5fbb22a634f07b7056c38fc8103332c"
 },
 "nbformat": 3,
 "nbformat_minor": 0,
 "worksheets": [
  {
   "cells": [
    {
     "cell_type": "heading",
     "level": 1,
     "metadata": {},
     "source": [
      "18.335 Problem Set 3"
     ]
    },
    {
     "cell_type": "heading",
     "level": 2,
     "metadata": {},
     "source": [
      "Problem 1(a): QR, RQ"
     ]
    },
    {
     "cell_type": "code",
     "collapsed": false,
     "input": [
      "X = rand(5,5)\n",
      "A = X + X'\n",
      "display(A)\n",
      "for n = 0:10\n",
      "    Q,R = qr(A)\n",
      "    A = R*Q\n",
      "    display(A)\n",
      "end"
     ],
     "language": "python",
     "metadata": {},
     "outputs": []
    },
    {
     "cell_type": "markdown",
     "metadata": {},
     "source": [
      "You might find it interesting to compare the results above with the eigenvalues of the starting matrix $X+X^*$:"
     ]
    },
    {
     "cell_type": "code",
     "collapsed": false,
     "input": [
      "eigvals(X + X')"
     ],
     "language": "python",
     "metadata": {},
     "outputs": []
    },
    {
     "cell_type": "heading",
     "level": 2,
     "metadata": {},
     "source": [
      "Problem 3: Matrix addition and the CPU"
     ]
    },
    {
     "cell_type": "markdown",
     "metadata": {},
     "source": [
      "Here we compute matrix addition $C = A + B$ for $m \\times n$ matrices, which is trivial to implement: just two loops over $i$ and $j$ to compute $c_{ij} = a_{ij} + b_{ij}$ for each entry.  There is no possibility of temporal locality in this problem, because each matrix element is used exactly once.  However, the ordering of the operations still matters because of *spatial locality* (primarily because of *cache lines*).   In particular, we will look at the influence of the loop order: does it matter (for performance) if we perform the $i$ loop first (outermost), then the $j$ loop, or vice versa?"
     ]
    },
    {
     "cell_type": "heading",
     "level": 3,
     "metadata": {},
     "source": [
      "Two matrix-addition implementations"
     ]
    },
    {
     "cell_type": "markdown",
     "metadata": {},
     "source": [
      "Here are two simple matrix-addition implementations in Julia that differ only in their loop ordering.  In both cases we have used the `@inbounds` macro to avoid the overhead of bounds-checking array accesses (which makes a slight performance difference in inner loops), and we implement \"mutating\" variants that require the output array `C` to be pre-allocated (to avoid the overhead of array allocation during benchmarking)."
     ]
    },
    {
     "cell_type": "code",
     "collapsed": false,
     "input": [
      "function matadd1!(C, A, B)\n",
      "    m,n = size(A)\n",
      "    (m,n) == size(B) || error(\"matrix sizes must match\")\n",
      "    for i = 1:m\n",
      "        for j = 1:n\n",
      "            @inbounds C[i,j] = A[i,j] + B[i,j]\n",
      "        end\n",
      "    end\n",
      "    return C\n",
      "end\n",
      "matadd1(A,B) = matadd1!(similar(A, promote_type(eltype(A),eltype(B))), A,B)\n",
      "\n",
      "# same as matadd1 except the loop order is reversed\n",
      "function matadd2!(C, A, B)\n",
      "    m,n = size(A)\n",
      "    (m,n) == size(B) || error(\"matrix sizes must match\")\n",
      "    for j = 1:n\n",
      "        for i = 1:m\n",
      "            @inbounds C[i,j] = A[i,j] + B[i,j]\n",
      "        end\n",
      "    end\n",
      "    return C\n",
      "end\n",
      "matadd2(A,B) = matadd2!(similar(A, promote_type(eltype(A),eltype(B))), A,B)"
     ],
     "language": "python",
     "metadata": {},
     "outputs": []
    },
    {
     "cell_type": "code",
     "collapsed": false,
     "input": [
      "# correctness check:\n",
      "A = rand(5,7)\n",
      "B = rand(5,7)\n",
      "norm(matadd1(A,B) - (A+B)), norm(matadd2(A,B) - (A+B))"
     ],
     "language": "python",
     "metadata": {},
     "outputs": []
    },
    {
     "cell_type": "markdown",
     "metadata": {},
     "source": [
      "You can also use the `?` command in Julia to look at how the built-in `A+B` is implemented, since `?A+B` will give a link to the source code of the `+` function that is used for these argument types:"
     ]
    },
    {
     "cell_type": "code",
     "collapsed": false,
     "input": [
      "?A+B"
     ],
     "language": "python",
     "metadata": {},
     "outputs": []
    },
    {
     "cell_type": "heading",
     "level": 3,
     "metadata": {},
     "source": [
      "Benchmarking matrix addition"
     ]
    },
    {
     "cell_type": "markdown",
     "metadata": {},
     "source": [
      "Now, let's benchmark `matadd1!` and `matadd2!`, along with the built-in `A+B` (which allocates a new array as output each time you call it), for a variety of $n\\times n$ matrix sizes:"
     ]
    },
    {
     "cell_type": "code",
     "collapsed": false,
     "input": [
      "N = round(Int, linspace(10, 1000, 200))\n",
      "t0 = Float64[]\n",
      "t1 = Float64[]\n",
      "t2 = Float64[]\n",
      "for n in N\n",
      "    A = rand(n,n)\n",
      "    B = rand(n,n)\n",
      "    C = similar(A)\n",
      "    push!(t0, @elapsed A+B) # note: does not preallocate output\n",
      "    push!(t1, @elapsed matadd1!(C,A,B))\n",
      "    push!(t2, @elapsed matadd2!(C,A,B))\n",
      "end"
     ],
     "language": "python",
     "metadata": {},
     "outputs": []
    },
    {
     "cell_type": "markdown",
     "metadata": {},
     "source": [
      "and plot the results as gigaflops ($n^2$ divided by time in nanoseconds) vs. $n$:"
     ]
    },
    {
     "cell_type": "code",
     "collapsed": false,
     "input": [
      "using PyPlot\n",
      "\n",
      "plot(N, N.^2 ./ t0 * 1e-9, \"k.-\")\n",
      "plot(N, N.^2 ./ t1 * 1e-9, \"bo-\")\n",
      "plot(N, N.^2 ./ t2 * 1e-9, \"rs-\")\n",
      "xlabel(L\"n\")\n",
      "ylabel(L\"gflops ($n^2/t$)\")\n",
      "legend([\"A+B\",\"matmul1!\",\"matmul2!\"])"
     ],
     "language": "python",
     "metadata": {},
     "outputs": []
    },
    {
     "cell_type": "markdown",
     "metadata": {},
     "source": [
      "Can you (roughly) explain the results?  Hint: google for [row-major and column-major order](https://en.wikipedia.org/wiki/Row-major_order) and think about how that impacts loop ordering."
     ]
    }
   ],
   "metadata": {}
  }
 ]
}