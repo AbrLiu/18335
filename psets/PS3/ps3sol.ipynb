{
 "cells": [
  {
   "cell_type": "markdown",
   "metadata": {},
   "source": [
    "# <div style=\"text-align: center\">18.335/6.337 Problem Set 3 - Orthogonal Triangularization and Projectors</div>\n",
    "## <div style=\"text-align: center\">Solution</div>\n",
    "### <div style=\"text-align: center\">Created by Wonseok Shin</div>"
   ]
  },
  {
   "cell_type": "markdown",
   "metadata": {},
   "source": [
    "$\\newcommand{\\Cmat}[2]{\\mathbb{C}^{#1\\times#2}}\\newcommand{\\Cvec}[1]{\\mathbb{C}^{#1}}\\newcommand{\\Rmat}[2]{\\mathbb{R}^{#1\\times#2}}\\newcommand{\\Rvec}[1]{\\mathbb{R}^{#1}}\\newcommand{\\null}{\\mathrm{null}}\\newcommand{\\range}{\\mathrm{range}}\\newcommand{\\rank}{\\mathrm{rank}}\\newcommand{\\nullity}{\\mathrm{nullity}}\\newcommand{\\sign}{\\mathrm{sign}}\\newcommand{\\norm}[1]{\\left\\|#1\\right\\|}\\newcommand{\\abs}[1]{\\left|#1\\right|}\\newcommand{\\epsmach}{\\epsilon_\\mathrm{machine}}\\newcommand{\\log}{\\mathrm{log}}\\newcommand{\\tanh}{\\mathrm{tanh}}\\newcommand{\\l}{\\lambda}\\newcommand{\\d}{\\delta}$"
   ]
  },
  {
   "cell_type": "markdown",
   "metadata": {},
   "source": [
    "## Problem 1.  Householder QR factorization [5 pts]\n",
    "\n",
    "(Partly taken from Exercise 10.2 of T&B)\n",
    "\n",
    "In this problem, we will implement the Householder QR factorization (modification of Alg. 10.1).  In addition, we will implement a function to apply $Q$ or $Q^*$ on a given matrix implicitly (modification of Algs. 10.2 and 10.3).\n",
    "\n",
    "Continuing our practice from the previous problem set, we will implement these functions in \"in-place\" style.  For example, we will write the Householder QR factorization such that it triangularizes $A$ into $R$ \"in-place\" without creating a separate matrix for $R$.  In fact, all the Algs. 10.1–3 in the textbook are written in in-place style.  Remember Julia's convention of [appending `!` to function names](http://docs.julialang.org/en/stable/manual/style-guide/#append-to-names-of-functions-that-modify-their-arguments) for functions modifying the contents of the input arguments."
   ]
  },
  {
   "cell_type": "markdown",
   "metadata": {},
   "source": [
    "### Assignment 1.1.  house! [2 pts]\n",
    "\n",
    "Complete `house!` below that performs the Householder QR factorization described in Alg. 10.1 of T&B.  Unlike Alg. 10.1, the function must handle rank-deficient $A$ as well.\n",
    "\n",
    "The function takes two input arguments `V` and `A`: \n",
    "- `V` is a matrix of the same size as `A`, and\n",
    "- `A` is square or skinny.\n",
    "\n",
    "After execution of `house!(V, A)`, \n",
    "- the lower-triangular portion of `V` stores the unit vectors $\\hat{v}$ used to construct Householder reflectors, i.e., $V_{k:m,k} = \\hat{v}_k$, and\n",
    "- `A` stores the $R$ factor of the full QR factorization of $A$.\n",
    "\n",
    "Do not create any $m\\times n$ matrices inside `house!(V, A)`; avoiding creation of large arrays is the whole purpose of in-place style implementation.\n",
    "\n",
    "You will receive 1 pt for handling full-rank $A$ correctly, and additional 1 pt for handling rank-deficient $A$ correctly."
   ]
  },
  {
   "cell_type": "code",
   "execution_count": 1,
   "metadata": {},
   "outputs": [
    {
     "data": {
      "text/plain": [
       "house! (generic function with 1 method)"
      ]
     },
     "execution_count": 1,
     "metadata": {},
     "output_type": "execute_result"
    }
   ],
   "source": [
    "function house!(V, A)\n",
    "    m, n = size(A)\n",
    "    assert(size(V)==(m,n))\n",
    "\n",
    "    V .= 0  # initialize\n",
    "\n",
    "    for k = 1:n\n",
    "        x = @view A[k:m, k]\n",
    "        \n",
    "        # Construct sign(x₁) for exp(iθ) = -sign(x₁).\n",
    "        s = sign(x[1])\n",
    "        if s == 0\n",
    "            s = 1.0\n",
    "        end\n",
    "\n",
    "        # Construct the kth Houreholder reflection vector.\n",
    "        v = @view V[k:m, k]\n",
    "        copy!(v, x)\n",
    "        lx = norm(x)\n",
    "        slx = s * lx\n",
    "        v[1] += slx\n",
    "        \n",
    "        # Perform the Householder reflection to triangularize the kth column of A.\n",
    "        lv = norm(v)\n",
    "        if lv ≠ 0\n",
    "            v ./= lv\n",
    "            \n",
    "            # Take care of the kth column of A.\n",
    "            A[k+1:m, k] .= 0\n",
    "            A[k,k] = -slx\n",
    "            \n",
    "            # Take care of the remaining columns of A.\n",
    "            if k < n\n",
    "                A[k:m, k+1:n] .-= v .* (2(v'*@view(A[k:m, k+1:n])))\n",
    "            end\n",
    "        end\n",
    "    end\n",
    "    \n",
    "    return nothing\n",
    "end"
   ]
  },
  {
   "cell_type": "markdown",
   "metadata": {},
   "source": [
    "### Validation of your implementation\n",
    "\n",
    "Use the following code blocks to validate your implementation of `house!`:"
   ]
  },
  {
   "cell_type": "code",
   "execution_count": 2,
   "metadata": {},
   "outputs": [
    {
     "name": "stdout",
     "output_type": "stream",
     "text": [
      "V lower-triangular?  true\n",
      "R upper-triangular?  true\n",
      "\n",
      "‖V[:,1]‖ ≈ 1?  true\n",
      "‖V[:,2]‖ ≈ 1?  true\n",
      "‖V[:,3]‖ ≈ 1?  true\n",
      "\n",
      "‖A[:,1]‖ ≈ ‖R[:,1]‖?  true\n",
      "‖A[:,2]‖ ≈ ‖R[:,2]‖?  true\n",
      "‖A[:,3]‖ ≈ ‖R[:,3]‖?  true\n"
     ]
    }
   ],
   "source": [
    "# For full-rank A\n",
    "m, n = 5, 3\n",
    "A = rand(Complex128, m, n)\n",
    "\n",
    "R = copy(A)\n",
    "V = similar(A)\n",
    "\n",
    "house!(V, R)\n",
    "\n",
    "println(\"V lower-triangular?  $(istril(V))\")\n",
    "println(\"R upper-triangular?  $(istriu(R))\")\n",
    "println()\n",
    "\n",
    "for j = 1:n\n",
    "    println(\"‖V[:,$j]‖ ≈ 1?  $(norm(V[:,j]) ≈ 1)\")\n",
    "end\n",
    "println()\n",
    "\n",
    "for j = 1:n\n",
    "    println(\"‖A[:,$j]‖ ≈ ‖R[:,$j]‖?  $(norm(A[:,j]) ≈ norm(R[:,j]))\")\n",
    "end"
   ]
  },
  {
   "cell_type": "code",
   "execution_count": 3,
   "metadata": {},
   "outputs": [
    {
     "name": "stdout",
     "output_type": "stream",
     "text": [
      "V lower-triangular?  true\n",
      "R upper-triangular?  true\n",
      "\n",
      "‖V[:,1‖ ≈ 1?  true\n",
      "‖V[:,2‖ ≈ 0?  true\n",
      "‖V[:,3‖ ≈ 1?  true\n",
      "\n",
      "‖A[:,1]‖ ≈ ‖R[:,1]‖?  true\n",
      "‖A[:,2]‖ ≈ ‖R[:,2]‖?  true\n",
      "‖A[:,3]‖ ≈ ‖R[:,3]‖?  true\n"
     ]
    }
   ],
   "source": [
    "# For rank-deficient A\n",
    "A = Float64[\n",
    "    1 2 3\n",
    "    1 2 3\n",
    "    1 2 3\n",
    "    0 0 3\n",
    "]\n",
    "\n",
    "m, n = size(A)\n",
    "\n",
    "R = copy(A)\n",
    "V = similar(A)\n",
    "\n",
    "house!(V, R)\n",
    "\n",
    "println(\"V lower-triangular?  $(istril(V))\")\n",
    "println(\"R upper-triangular?  $(istriu(R))\")\n",
    "println()\n",
    "\n",
    "println(\"‖V[:,1‖ ≈ 1?  $(norm(V[:,1]) ≈ 1)\")\n",
    "println(\"‖V[:,2‖ ≈ 0?  $(norm(V[:,2]) ≈ 0)\")\n",
    "println(\"‖V[:,3‖ ≈ 1?  $(norm(V[:,3]) ≈ 1)\")\n",
    "println()\n",
    "\n",
    "for j = 1:n\n",
    "    println(\"‖A[:,$j]‖ ≈ ‖R[:,$j]‖?  $(norm(A[:,j]) ≈ norm(R[:,j]))\")\n",
    "end"
   ]
  },
  {
   "cell_type": "code",
   "execution_count": 4,
   "metadata": {},
   "outputs": [
    {
     "data": {
      "text/plain": [
       "4×3 Array{Float64,2}:\n",
       " -1.73205  -3.4641  -5.19615    \n",
       "  0.0       0.0     -4.44089e-16\n",
       "  0.0       0.0      3.0        \n",
       "  0.0       0.0      0.0        "
      ]
     },
     "execution_count": 4,
     "metadata": {},
     "output_type": "execute_result"
    }
   ],
   "source": [
    "R"
   ]
  },
  {
   "cell_type": "markdown",
   "metadata": {},
   "source": [
    "### Assignment 1.2.  `applyQhouse!` [1 pts]\n",
    "\n",
    "Complete `applyQhouse!` below that multiplies $Q$ or $Q^*$ implicitly to a given matrix $X$.  The function generalizes the column vector $x$ or $b$ of Algs. 10.2 and 10.3 of T&B to a matrix $X$, so that we can use the function to multiply $Q$ to $R$, which is a matrix, to form $A$.  Also, we will implement Algs. 10.2 and 10.3 in this single function because the two algorithms are very simialr.\n",
    "\n",
    "The function takes two mandatory input arguments `V` and `X`:\n",
    "- `V` is populated by `house!`, and\n",
    "- `X` has the same number of rows as `V` and any number of columns (i.e., $X \\in \\Cmat{m}{p}$ for $V \\in \\Cmat{m}{n}$).\n",
    "\n",
    "In addition, the function takes the third, optional argument `isconj`.  This argument controls which of $Q$ and $Q^*$ to apply: $Q$ for `isconj = false` (the default value), and $Q^*$ otherwise.\n",
    "\n",
    "\n",
    "After execution of `applyQhouse!(V, X, isconj)`,\n",
    "- `V` remains the same as before, and\n",
    "- `X` stores $Q X$ or $Q^* X$ depending on the value of `isconj`."
   ]
  },
  {
   "cell_type": "code",
   "execution_count": 4,
   "metadata": {},
   "outputs": [
    {
     "data": {
      "text/plain": [
       "applyQhouse! (generic function with 2 methods)"
      ]
     },
     "execution_count": 4,
     "metadata": {},
     "output_type": "execute_result"
    }
   ],
   "source": [
    "function applyQhouse!(V, X, isconj=false)\n",
    "    m, n = size(V)\n",
    "    assert(size(X,1) == m)\n",
    "\n",
    "    ks = isconj ? (1:n) : (n:-1:1)  # change application order depending on isconj\n",
    "\n",
    "    for k = ks\n",
    "        v = @view V[k:m, k]\n",
    "        X[k:m,:] .-= v .* (2(v'@view(X[k:m,:])))\n",
    "    end\n",
    "    \n",
    "    return nothing\n",
    "end"
   ]
  },
  {
   "cell_type": "markdown",
   "metadata": {},
   "source": [
    "### Validation of your implementation\n",
    "\n",
    "Use the following code block to validate you implementation of `applyQhouse!`:"
   ]
  },
  {
   "cell_type": "code",
   "execution_count": 5,
   "metadata": {},
   "outputs": [
    {
     "name": "stdout",
     "output_type": "stream",
     "text": [
      "QR ≈ A?  true\n",
      "Qc ≈ Q*?  true\n",
      "Qc Q ≈ I?  true\n"
     ]
    }
   ],
   "source": [
    "m, n = 10, 7\n",
    "A = rand(Complex128, m, n)\n",
    "\n",
    "R = copy(A)\n",
    "V = similar(A)\n",
    "\n",
    "house!(V, R)\n",
    "\n",
    "QR = copy(R)\n",
    "applyQhouse!(V, QR)\n",
    "println(\"QR ≈ A?  $(QR ≈ A)\")\n",
    "\n",
    "Q = eye(Complex128, m)\n",
    "Qc = eye(Complex128, m)\n",
    "applyQhouse!(V, Q)\n",
    "applyQhouse!(V, Qc, true)\n",
    "println(\"Qc ≈ Q*?  $(Qc ≈ Q')\")\n",
    "println(\"Qc Q ≈ I?  $(Qc * Q ≈ eye(m))\")"
   ]
  },
  {
   "cell_type": "markdown",
   "metadata": {},
   "source": [
    "### Assignment 1.3.  `applyQhouse!` vs. direct multiplication of $Q$ [2 pts]\n",
    "\n",
    "Not producing $Q$ explicitly may seem like one of the disadvantages of the Householder QR factorization compared to the QR factorization based on the Gram–Schmidt procedure.  This is an advantage on the contrary, because `applyQhouse!` is in general a faster way to multiply $Q$ to a vector than direct multiplication of explicitly constructed $Q$.  Let's see why this is the case."
   ]
  },
  {
   "cell_type": "markdown",
   "metadata": {},
   "source": [
    "**(a) [1 pt]** Let's compare the costs for the two procedures in terms of the number of flops.  As shown in class, the asymptotic numbers of flops needed for executing `applyQhouse!` and evaluating $Q x$ for a vector $x$ are $2n (2m-n)$ and $2m^2$, respectively.\n",
    "\n",
    "- How much speedup do you expect to get by using `applyQhouse!(V, x)` instead of $Q x$ for sufficiently large $m$ and $n$?  Answer this question with your speedup factor as a function of $n/m$.  Complete the Julia function `spdup_flop_applyQ(rnm)` below that returns this speedup factor, where `rnm` is the ratio $n/m$.\n",
    "- In what condition is the speedup factor *minimized* to what value?"
   ]
  },
  {
   "cell_type": "markdown",
   "metadata": {},
   "source": [
    "***Solution.***\n",
    "\n",
    "By comparing the numbers of flops required by the two operations, we expect a speedup factor of\n",
    "\n",
    "$$\n",
    "\\frac{2m^2}{2n(2m-n)} = \\frac{1}{\\frac{n}{m}\\left(2-\\frac{n}{m}\\right)}\n",
    "$$\n",
    "\n",
    "by using `applyQhouse!` instead of $Qx$.\n",
    "\n",
    "Because $0 < \\frac{n}{m} \\le 1$, the two factors in the denominator of the above expression are both positive, so we can use the [AM–GM inequality](https://en.wikipedia.org/wiki/Inequality_of_arithmetic_and_geometric_means) to find the maximum of the denominator:\n",
    "\n",
    "$$\n",
    "\\frac{n}{m}\\left(2-\\frac{n}{m}\\right) \\le \\left[\\frac{\\frac{n}{m} + \\left(2-\\frac{n}{m}\\right)}{2}\\right]^2 = 1,\n",
    "$$\n",
    "\n",
    "where the equality holds when $\\frac{n}{m} = 2-\\frac{n}{m}$, or $m = n$ equivalently.  Therefore, the speedup factor is minimized to $1$ when $m = n$.\n"
   ]
  },
  {
   "cell_type": "code",
   "execution_count": 6,
   "metadata": {
    "scrolled": true
   },
   "outputs": [
    {
     "data": {
      "text/plain": [
       "spdup_flop_applyQ (generic function with 1 method)"
      ]
     },
     "execution_count": 6,
     "metadata": {},
     "output_type": "execute_result"
    }
   ],
   "source": [
    "spdup_flop_applyQ(rnm) = 1 / (rnm * (2-rnm))"
   ]
  },
  {
   "cell_type": "markdown",
   "metadata": {},
   "source": [
    "**(b) [0.5 pts]** Complete `spdup_time_applyQ` below that measures the speedup factor for a given $V$ by numerical experiment.  \n",
    "- To measure the actual speedup factor, take the ratio between the times taken for `applyQhouse!` and $Q x$.  (Use `@elapsed`.)\n",
    "- To perform $Q x$, you will need to construct $Q$ explicitly first using `applyQhouse!`.  \n",
    "- Because computation time fluctuates wildly from execution to execution, perform $N = 20$ measurments of this ratio and return the median value to ignore outliers."
   ]
  },
  {
   "cell_type": "code",
   "execution_count": 7,
   "metadata": {},
   "outputs": [
    {
     "data": {
      "text/plain": [
       "spdup_time_applyQ (generic function with 1 method)"
      ]
     },
     "execution_count": 7,
     "metadata": {},
     "output_type": "execute_result"
    }
   ],
   "source": [
    "function spdup_time_applyQ(V, x)\n",
    "    N = 20\n",
    "    rt = Vector{Float64}(N)\n",
    "\n",
    "    # Construct Q explicitly.\n",
    "    m = size(V, 1)    \n",
    "    Q = similar(V, (m,m))\n",
    "    Q .= 0\n",
    "    Q[diagind(Q)] = 1        \n",
    "    applyQhouse!(V, Q)\n",
    "    \n",
    "    # Perform measurements.\n",
    "    y = similar(x)\n",
    "    for k = 1:N\n",
    "        t_mult = @elapsed A_mul_B!(y, Q, x)\n",
    "        copy!(y, x)\n",
    "        t_apply = @elapsed applyQhouse!(V, y)\n",
    "\n",
    "        rt[k] = t_mult / t_apply\n",
    "    end\n",
    "    \n",
    "    return median(rt)\n",
    "end    "
   ]
  },
  {
   "cell_type": "markdown",
   "metadata": {},
   "source": [
    "**(c) [0.5 pts]** The code block below plots the actual speedup factors measured by `spdup_time` for $V \\in \\Rmat{m}{n}$ with $m = 50$ for $n$ between $1$ and $m$, and compare them with the theoretical speedup factors estimated by `spdup_flop`.  However, you will notice a huge mismatch between the expected theoretical speedup and the actual measurment.  Explain why this is the case.  \n",
    "\n",
    "Also, modify one line of the code block to fix the mismatch and explain why it fixes the mismatch.\n",
    "\n",
    "Note: even after the fix, you don't have to get a perfect agreement between the theory and measurment, because \n",
    "- our flop estimation is only asymptotic,\n",
    "- the number of flops is an inaccurate measure of computational cost that does not distinguish different arithmetic operations,\n",
    "- actual performance depends on not only flops, but also other aspects of computation (e.g., memory bandwidth),\n",
    "- the measurment overestimates the computation time because it does not exclude the time taken for initialization,\n",
    "\n",
    "and so on."
   ]
  },
  {
   "cell_type": "markdown",
   "metadata": {},
   "source": [
    "***Solution.***\n",
    "\n",
    "The initial plot produced by the code block below shows that the measured speedup factors are not as great as what we expected from comparing the numbers of flops.  We can suspect that this happens because $Q x$, which is a built-in function of Julia, is a highly optimized piece of code.  Then, each flop in $Q x$ could be much faster than each flop in `applyQhouse!`.  As a result, even though $Q x $ took more flops than `applyQhouse!`, it could take less time.  \n",
    "\n",
    "Therefore, for a fair comparison between the measurement and theory, we would need to compensate this difference in single flop's execution time.  In other words, we would need to \"normalize\" the output of `spdup_time` appropriately.\n",
    "\n",
    "To figure out how to obtain the normalization factor, suppose `applyQhouse!` and `Q*x` take $f(m,n)$ and $g(m,n)$ flops, respectively.  The theoretical speedup factor is then $r_\\mathrm{theory}(m,n) = \\frac{g(m,n)}{f(m,n)}$.  However, because the code implementing the algorithm for `Q*x` is more optimized than the code implementing the algorithm for `applyQhouse!`, a single flop takes different amounts of time in the two pieces of code.  Suppose that a single flop takes $\\alpha$ and $\\beta$ seconds in the codes for `applyQhouse!` and `Q*x`, respectively.  Then the measured speedup factor is $r_\\mathrm{measurment}(m,n) = \\frac{\\beta\\, g(m,n)}{\\alpha\\, f(m,n)} = \\frac{\\beta}{\\alpha} r_\\mathrm{theory}(m,n)$.  Therefore, to get an agreement between the theoretical and measured speedup factors, we need to divide $r_\\mathrm{measurement}(m,n)$ by $\\frac{\\beta}{\\alpha}$.  \n",
    "\n",
    "$\\frac{\\beta}{\\alpha}$ can be easily obtained by comparing $r_\\mathrm{theory}$ and $r_\\mathrm{measurement}$ at specific values of $m$ and $n$.  The values we choose is the largest values of $m$ and $n$, because our $r_\\mathrm{theory}$ is an asymptotic expression that becomes more accurate for larger $m$ and $n$.  Because $m$ is fixed, the largest $n$ is $n = m$.  Incidentally, from the previous question we know $r_\\mathrm{theory} = 1$ for $n = m$. Therefore, $r_\\mathrm{measurment}(m,m) = \\frac{\\beta}{\\alpha} r_\\mathrm{theory}(m,m) = \\frac{\\beta}{\\alpha}$.  In other words, $\\frac{\\beta}{\\alpha}$ is nothing but $r_\\mathrm{measurment}$ measured for $n = m$, which is the last entry of `st` (the output of `stdup_time`) in the code below.\n",
    "\n",
    "Indeed, dividing each entry of `st` by `st[end]`, we recover an excellent agreement between the theory and measurement as shown below.\n",
    "\n",
    "An important implication of this result: even though `Q*x` won the speed race against `applyQhouse!`, it did not win the race by defying the required number of flops.  (If it had, we wouldn't have been able to match the two curves so well by simple normalization.)  Therefore, this result demonstrates that the operation count is the fundamental constraint imposed on a given algorithm, and extra speedup of the algorithm can be achieved only by making a single flop faster, not by reducing the operation count.  To reduce the operation count, you need to replace the algorithm (e.g., replace `Q*x` with `applyQhouse!`)."
   ]
  },
  {
   "cell_type": "code",
   "execution_count": 8,
   "metadata": {
    "scrolled": false
   },
   "outputs": [
    {
     "data": {
      "image/png": "[encoded data removed]",
      "text/plain": [
       "PyPlot.Figure(PyObject <matplotlib.figure.Figure object at 0x11fd97898>)"
      ]
     },
     "metadata": {},
     "output_type": "display_data"
    },
    {
     "data": {
      "text/plain": [
       "PyObject <matplotlib.legend.Legend object at 0x11f7fc4e0>"
      ]
     },
     "execution_count": 8,
     "metadata": {},
     "output_type": "execute_result"
    }
   ],
   "source": [
    "m = 50\n",
    "nmax = m\n",
    "\n",
    "A = rand(m, nmax)\n",
    "V = zeros(size(A))\n",
    "house!(V, A)\n",
    "x = rand(m)\n",
    "\n",
    "st = Vector{Float64}(nmax)\n",
    "for n = 1:nmax\n",
    "    st[n] = spdup_time_applyQ(@view(V[:,1:n]), x)\n",
    "end\n",
    "\n",
    "using PyPlot\n",
    "rnm = (1:nmax) ./ m\n",
    "\n",
    "plot(rnm, spdup_flop_applyQ.(rnm), \"b-\", rnm, st./st[end], \"rx\")  # change: st -> st./st[end]\n",
    "title(\"Speedup by applyQhouse! with respect to Q*x\\nfor m×n matrices (m = $m, n ≤ m)\")\n",
    "xlabel(\"n/m\")\n",
    "ylabel(\"cost(Q*x) / cost(applyQhouse!)\")\n",
    "legend([\"Theroy (cost = flops)\", \"Experiment (cost = time)\"], loc=\"upper right\")"
   ]
  },
  {
   "cell_type": "markdown",
   "metadata": {},
   "source": [
    "## Problem 2.  Givens QR factorization [3 pts]\n",
    "\n",
    "The Givens QR factorization is another way to perform the QR factorization.  It is also an orthogonal triangularization method like the Householder QR factorization, but it shines when performing the QR factorization on [upper Hessenberg matrices](https://en.wikipedia.org/wiki/Hessenberg_matrix) as discussed in class.\n",
    "\n",
    "In this problem. we will implement the Givens QR factorization for $(n+1)\\times n$ upper Hessenberg matrices.  Later in this course, we will see a situation where the QR factorization of such upper Hessenberg matrices is needed.  Especially, the upper Hessenberg matrices in that situation will not be given at once, but be constructed gradually by appending columns (i.e., we start with the first column of $H$, and new columns will be appended one-by-one until we have $n$ columns).  The Givens QR factorization implemented in this problem is a version that is applicable to such a situation.\n",
    "\n",
    "Suppose we have the first $k-1$ columns of an $(n+1)\\times n$ upper Hessenberg matrix $H$.  Even though the full matrix is yet to be given, we can still find the $k-1$ Givens rotations that triangularize this partial matrix.  When the $k$th column is appended, we apply these already found $k-1$ rotations to the new column and then find an additional Givens rotation to complete triangularization of the expanded matrix.  By repeating this procedure from $k=1$ to $k = n$, we find the QR factorization of $H$.\n",
    "\n",
    "The last step of the above procedure is illustrated below for a $5\\times4$ upper Hessenberg matrix $H$.  Let's say we have found the 3 Givens rotations $G_1$, $G_2$, $G_3$ that triangularize the first three columns of $H$.  These rotations transform $H_{:,1:3}$ as\n",
    "$$\n",
    "H_{:,1:3} = \\left[\\begin{array}{cccc}\n",
    "\\times & \\times & \\times \\\\\n",
    "\\times & \\times & \\times \\\\\n",
    "       & \\times & \\times \\\\\n",
    "       &        & \\times \\\\\n",
    "       &        &        \\\\\n",
    "\\end{array}\\right]\\overset{G_1}{\\longrightarrow}\n",
    "\\left[\\begin{array}{cccc}\n",
    "\\triangle & \\triangle & \\triangle \\\\\n",
    "       & \\triangle & \\triangle \\\\\n",
    "       & \\times & \\times \\\\\n",
    "       &        & \\times \\\\\n",
    "       &        &        \\\\\n",
    "\\end{array}\\right]\\overset{G_2}{\\longrightarrow}\n",
    "\\left[\\begin{array}{cccc}\n",
    "\\triangle & \\triangle & \\triangle \\\\\n",
    "       & \\square & \\square \\\\\n",
    "       &        & \\square \\\\\n",
    "       &        & \\times \\\\\n",
    "       &        &        \\\\\n",
    "\\end{array}\\right]\\overset{G_3}{\\longrightarrow}\n",
    "\\left[\\begin{array}{cccc}\n",
    "\\triangle & \\triangle & \\triangle \\\\\n",
    "       & \\square & \\square \\\\\n",
    "       &        & \\star \\\\\n",
    "       &        &        \\\\\n",
    "       &        &        \\\\\n",
    "\\end{array}\\right]\n",
    "$$\n",
    "Now, the last column $h_4$, indicated by bold entries below, is appended to complete $H$.  If $h_4$ had been present from the start, the Givens rotations $G_1$, $G_2$, $G_3$ that triangularized the first three columns of $H$ would have also transforemd $h_4$ as\n",
    "$$\n",
    "H = [H_{:,1:3}\\;\\; h_4] = \\left[\\begin{array}{ccccc}\n",
    "\\times & \\times & \\times & \\pmb{\\times} \\\\\n",
    "\\times & \\times & \\times & \\pmb{\\times} \\\\\n",
    "       & \\times & \\times & \\pmb{\\times} \\\\\n",
    "       &        & \\times & \\pmb{\\times} \\\\\n",
    "       &        &        & \\pmb{\\times} \\\\\n",
    "\\end{array}\\right]\\overset{G_1}{\\longrightarrow}\n",
    "\\left[\\begin{array}{ccccc}\n",
    "\\triangle & \\triangle & \\triangle & \\pmb{\\triangle} \\\\\n",
    "       & \\triangle & \\triangle & \\pmb{\\triangle} \\\\\n",
    "       & \\times & \\times & \\pmb{\\times} \\\\\n",
    "       &        & \\times & \\pmb{\\times} \\\\\n",
    "       &        &        & \\pmb{\\times} \\\\\n",
    "\\end{array}\\right]\\overset{G_2}{\\longrightarrow}\n",
    "\\left[\\begin{array}{ccccc}\n",
    "\\triangle & \\triangle & \\triangle & \\pmb{\\triangle} \\\\\n",
    "       & \\square & \\square & \\pmb{\\square} \\\\\n",
    "       &        & \\square & \\pmb{\\square} \\\\\n",
    "       &        & \\times & \\pmb{\\times} \\\\\n",
    "       &        &        & \\pmb{\\times} \\\\\n",
    "\\end{array}\\right]\\overset{G_3}{\\longrightarrow}\n",
    "\\left[\\begin{array}{ccccc}\n",
    "\\triangle & \\triangle & \\triangle & \\pmb{\\triangle} \\\\\n",
    "       & \\square & \\square & \\pmb{\\square} \\\\\n",
    "       &        & \\star & \\pmb{\\star} \\\\\n",
    "       &        &       & \\pmb{\\star} \\\\\n",
    "       &        &       & \\pmb{\\times} \\\\\n",
    "\\end{array}\\right]\n",
    "$$\n",
    "Therefore, to complete the QR factorization of the full $H$, we just need to apply $G_1$, $G_2$, $G_3$ to the newly appended column $h_4$, and then find and apply one more Givens rotation $G_4$ to take care of the last remaining subdiagonal entry $h_{54}$.\n",
    "\n"
   ]
  },
  {
   "cell_type": "markdown",
   "metadata": {},
   "source": [
    "### Assignment 2.1.  `givens_h!` [2 pts]\n",
    "\n",
    "Considering the above description, complete `givens_h!` below that finds and applies $G_k$ to the newly appended $k$th column of an $(n+1)\\times n$ upper Hessenber matrix $H$.\n",
    "\n",
    "The function takes four input arguments `k`, `c`, `s`, and `h`:\n",
    "\n",
    "- `k` is the index of the newly appended column of $H$ ($1 \\le k \\le n$),\n",
    "- `c` and `s` are length-$n$ vectors whose initial $k-1$ entries are already filled respectively with the cosine and sine factors of $G_1, \\ldots, G_{k-1}$, and\n",
    "- `h` is the newly appended $k$th column $h_k$ of $H$.\n",
    "\n",
    "\n",
    "After execution of `givens_h!(k, c, s, h)`, \n",
    "- the first $k$ entries of `c` and `s` are the cosine and sine factors of $G_1, \\ldots, G_k$, and \n",
    "- `h` is the $k$th column of the $R$ factor of the QR factorization of $H$.\n",
    "\n",
    "Once `givens_h!` is completed, the QR factorization of $H$ can be performed simply by applying `givens_h!` to the column $1$ through $n$ of $H$, like the following `givens!` function does:"
   ]
  },
  {
   "cell_type": "code",
   "execution_count": 9,
   "metadata": {},
   "outputs": [
    {
     "data": {
      "text/plain": [
       "givens! (generic function with 1 method)"
      ]
     },
     "execution_count": 9,
     "metadata": {},
     "output_type": "execute_result"
    }
   ],
   "source": [
    "function givens!(c, s, H)\n",
    "    m, n = size(H)\n",
    "    assert(m == n+1)\n",
    "    \n",
    "    for k = 1:n\n",
    "        givens_h!(k, c, s, @view(H[:,k]))\n",
    "    end\n",
    "    \n",
    "    return nothing\n",
    "end"
   ]
  },
  {
   "cell_type": "markdown",
   "metadata": {},
   "source": [
    "After execution of `givens!(c, s, H)` for length-$n$ vectors $c$ and $s$ and $(n+1)\\times n$ upper Hessenberg matrix $H$,\n",
    "\n",
    "- `c` and `s` respectively store the cosine and sine factors of the Givens rotations $G_1, \\ldots, G_n$, and \n",
    "- `H` stores the $R$ factor of the QR factorization of originally supplied $H$.\n",
    "\n",
    "You will receive 1 pt for handling full-rank $H$ correctly, and additional 1 pt for handling rank-deficient $H$ correctly."
   ]
  },
  {
   "cell_type": "code",
   "execution_count": 10,
   "metadata": {},
   "outputs": [
    {
     "data": {
      "text/plain": [
       "givens_h! (generic function with 1 method)"
      ]
     },
     "execution_count": 10,
     "metadata": {},
     "output_type": "execute_result"
    }
   ],
   "source": [
    "function givens_h!(k, c, s, h)\n",
    "    # Apply the previously constructed Givens rotations to h.\n",
    "    for i = 1:k-1\n",
    "        x, y = h[i], h[i+1]\n",
    "        h[i] = c[i]'*x + s[i]'*y\n",
    "        h[i+1] = -s[i]*x + c[i]*y\n",
    "    end\n",
    "\n",
    "    # Construct a new Givens rotation to nullify the last entry of h.\n",
    "    x, y = h[k], h[k+1]\n",
    "    d = hypot(x, y)\n",
    "    if d == 0  # rank-deficient case\n",
    "        c[k] = 1\n",
    "        s[k] = 0\n",
    "    else\n",
    "        c[k] = x / d\n",
    "        s[k] = y / d\n",
    "    \n",
    "        # Nullify the last entry of h using the Givens rotation.\n",
    "        h[k] = c[k]'*x + s[k]'*y\n",
    "        h[k+1] = 0\n",
    "    end\n",
    "    \n",
    "    return nothing\n",
    "end"
   ]
  },
  {
   "cell_type": "markdown",
   "metadata": {},
   "source": [
    "### Validation of your implementation\n",
    "\n",
    "Use the following code block to validate your implementation of `givens_h!`:"
   ]
  },
  {
   "cell_type": "code",
   "execution_count": 11,
   "metadata": {},
   "outputs": [
    {
     "name": "stdout",
     "output_type": "stream",
     "text": [
      "R upper-triangular?  true\n",
      "\n",
      "‖H[:,1]‖ ≈ ‖R[:,1]‖?  true\n",
      "‖H[:,2]‖ ≈ ‖R[:,2]‖?  true\n",
      "‖H[:,3]‖ ≈ ‖R[:,3]‖?  true\n",
      "‖H[:,4]‖ ≈ ‖R[:,4]‖?  true\n"
     ]
    }
   ],
   "source": [
    "# For full-rank H\n",
    "n = 4\n",
    "H = rand(Complex128, n+1, n)\n",
    "H = triu(H, -1)\n",
    "\n",
    "R = copy(H)\n",
    "c = similar(H, n)\n",
    "s = similar(H, n)\n",
    "\n",
    "givens!(c, s, R)\n",
    "\n",
    "println(\"R upper-triangular?  $(istriu(R))\")\n",
    "println()\n",
    "\n",
    "for j = 1:n\n",
    "    println(\"‖H[:,$j]‖ ≈ ‖R[:,$j]‖?  $(norm(H[:,j]) ≈ norm(R[:,j]))\")\n",
    "end"
   ]
  },
  {
   "cell_type": "code",
   "execution_count": 12,
   "metadata": {
    "scrolled": true
   },
   "outputs": [
    {
     "name": "stdout",
     "output_type": "stream",
     "text": [
      "R upper-triangular?  true\n",
      "\n",
      "‖H[:,1]‖ ≈ ‖R[:,1]‖?  true\n",
      "‖H[:,2]‖ ≈ ‖R[:,2]‖?  true\n",
      "‖H[:,3]‖ ≈ ‖R[:,3]‖?  true\n"
     ]
    }
   ],
   "source": [
    "# For rank-deficient H\n",
    "H = Float64[\n",
    "    1 2 3\n",
    "    1 2 3\n",
    "    0 0 3\n",
    "    0 0 3\n",
    "]\n",
    "~, n = size(H)\n",
    "\n",
    "R = copy(H)\n",
    "c = similar(H, n)\n",
    "s = similar(H, n)\n",
    "\n",
    "givens!(c, s, R)\n",
    "\n",
    "println(\"R upper-triangular?  $(istriu(R))\")\n",
    "println()\n",
    "\n",
    "for j = 1:n\n",
    "    println(\"‖H[:,$j]‖ ≈ ‖R[:,$j]‖?  $(norm(H[:,j]) ≈ norm(R[:,j]))\")\n",
    "end"
   ]
  },
  {
   "cell_type": "markdown",
   "metadata": {},
   "source": [
    "### Assignment 2.2.  `applyQgivens!` [1 pt]\n",
    "\n",
    "Complete `applyQgivens!` below that multiplies $Q$ or $Q^*$ implicitly to a given matrix $X$.\n",
    "\n",
    "The function takes three mandatory input arguments `c`, `s`, and `X`:\n",
    "- `c` and `s` are length-$n$ vectors populated by `givens!`, and\n",
    "- `X` has $n+1$ rows and any number of columns (i.e., $X \\in \\Cmat{(n+1)}{p}$ for any $p$).\n",
    "\n",
    "In addition, the function takes the fourth, optional argument `isconj`.  This argument controls which of $Q$ and $Q^*$ to apply: $Q$ for `isconj = false` (the default value), and $Q^*$ otherwise.\n",
    "\n",
    "\n",
    "After execution of `applyQgivens!(c, s, X, isconj)`,\n",
    "- `c` and `s` remain the same as before, and\n",
    "- `X` stores $Q X$ or $Q^* X$ depending on the value of `isconj`."
   ]
  },
  {
   "cell_type": "markdown",
   "metadata": {},
   "source": [
    "***Solution.***\n",
    "\n",
    "The tricky part here compared to `applyQhouse!` is that unlike the Householder reflector $F$, the Givens rotation $G$ is not Hermitian ($F^* = F$ but $G^* \\neq G$).  Therefore, when applying $Q$, you do not only have to reverse the order of the rotation matrices $G$, but also have to take the conjugate transpose of them."
   ]
  },
  {
   "cell_type": "code",
   "execution_count": 13,
   "metadata": {},
   "outputs": [
    {
     "data": {
      "text/plain": [
       "applyQgivens! (generic function with 2 methods)"
      ]
     },
     "execution_count": 13,
     "metadata": {},
     "output_type": "execute_result"
    }
   ],
   "source": [
    "function applyQgivens!(c, s, X, isconj=false)\n",
    "    n = length(c)\n",
    "    G = similar(c, 2, 2)  # placeholder for Givens rotation\n",
    "    \n",
    "    ks = isconj ? (1:n) : (n:-1:1)  # change application order depending on isconj\n",
    "\n",
    "    for k = ks\n",
    "        ck, sk = c[k], s[k]\n",
    "        G[1,1], G[1,2], G[2,1], G[2,2] = isconj ? (ck', sk', -sk, ck) : (ck, -sk', sk, ck')\n",
    "        X[k:k+1, :] = G * @view(X[k:k+1, :])\n",
    "    end\n",
    "    \n",
    "    return nothing\n",
    "end"
   ]
  },
  {
   "cell_type": "markdown",
   "metadata": {},
   "source": [
    "### Validation of your implementation\n",
    "\n",
    "Use the following code block to validate your implementation of `applyQgivens!`:"
   ]
  },
  {
   "cell_type": "code",
   "execution_count": 14,
   "metadata": {},
   "outputs": [
    {
     "name": "stdout",
     "output_type": "stream",
     "text": [
      "QR ≈ H?  true\n",
      "Qc ≈ Q*?  true\n",
      "Qc Q ≈ I?  true\n"
     ]
    }
   ],
   "source": [
    "n = 10\n",
    "m = n+1\n",
    "H = rand(Complex128, m, n)\n",
    "H = triu(H, -1)\n",
    "\n",
    "R = copy(H)\n",
    "c = similar(H, n)\n",
    "s = similar(H, n)\n",
    "\n",
    "givens!(c, s, R)\n",
    "\n",
    "QR = copy(R)\n",
    "applyQgivens!(c, s, QR)\n",
    "println(\"QR ≈ H?  $(QR ≈ H)\")\n",
    "\n",
    "Q = eye(Complex128, m)\n",
    "Qc = eye(Complex128, m)\n",
    "applyQgivens!(c, s, Q)\n",
    "applyQgivens!(c, s, Qc, true)\n",
    "println(\"Qc ≈ Q*?  $(Qc ≈ Q')\")\n",
    "println(\"Qc Q ≈ I?  $(Qc * Q ≈ eye(m))\")"
   ]
  },
  {
   "cell_type": "markdown",
   "metadata": {},
   "source": [
    "## Problem 3.  Projectors [2 pts]"
   ]
  },
  {
   "cell_type": "markdown",
   "metadata": {},
   "source": [
    "**(a) [1 pt]** Find all the eigenvalues of an arbitrary projector $P$ and their multiplicities."
   ]
  },
  {
   "cell_type": "markdown",
   "metadata": {},
   "source": [
    "***Solution.***\n",
    "\n",
    "Suppose $\\lambda$ is an eigenvalue of a projector $P \\in \\Cmat{m}{m}$ corresponding to an eigenvector $x$, i.e., $P x = \\lambda x$.  Then, because $P^2 = P$, we have\n",
    "$$\n",
    "\\lambda x = P x = P^2 x = \\lambda (P x) = \\lambda^2 x.\n",
    "$$\n",
    "Because eigenvectors are nonzero, this means $\\lambda = \\lambda^2$, and thus $\\lambda$ is either $1$ or $0$.\n",
    "\n",
    "Now, observe that\n",
    "- $P x = 1\\cdot x$ for $x \\in \\range(P)$, and\n",
    "- $P x = 0\\cdot x$ for $x \\in \\null(P)$.\n",
    "\n",
    "Therefore, we can choose $\\rank(P)$ linearly independent $x$'s such that $P x = 1\\cdot x$, and $\\null(P)$ linearly independent $x$'s such that $P x = 0\\cdot x$.  This means the geometric multiplicities of $\\lambda = 1$ and $\\lambda = 0$ are at least $\\rank(P)$ and $\\nullity(P)$, respectively.  Because $\\rank(P) + \\nullity(P) = m$, the total number of eigenvalues, we have counted all the multiplicities (meaning the algebraic multiplicities are the same as the geometric multiplicities).\n"
   ]
  },
  {
   "cell_type": "markdown",
   "metadata": {},
   "source": [
    "**(b) [1 pt]** (Taken from Exercise 6.5 of T&B) Let $P \\in \\Cmat{m}{m}$ be a nonzero projector.  Show that $\\norm{P}_2 \\ge 1$, with equality if and only if $P$ is an orthogonal projector."
   ]
  },
  {
   "cell_type": "markdown",
   "metadata": {},
   "source": [
    "***Proof.***\n",
    "\n",
    "By definition, $\\norm{P}_2 = \\max_{x \\neq 0} \\frac{\\norm{P x}_2}{\\norm{x}_2}$.  Because $P \\neq 0$, the dimension of $\\range(P)$ is at least $1$, so there exists nonzero $z$ in $\\range(P)$.  For such $z$, $P z = z$, and thus $\\frac{\\norm{P z}_2}{\\norm{z}_2} = 1$.  Therefore, the maximum of the quotient $\\frac{\\norm{P x}_2}{\\norm{x}_2}$ is at least $1$, which proves $\\norm{P}_2 \\ge 1$.\n",
    "\n",
    "To show $\\norm{P}_2 = 1$ if $P$ is an orthogonal projector, note that the SVD of an orthogonal projector is written $P = Q \\Sigma Q^*$ for a unitary matrix $Q$ and a diagonal matrix $\\Sigma$ with only $1$ and $0$ on the diagonal.  Furthermore, $\\Sigma$ must have at least one $1$ on the diagonal for $P \\neq 0$.  Therefore, $\\norm{P}_2 = \\sigma_\\max(P) = 1$.\n",
    "\n",
    "Conversely, to show $P$ is an orthogonal projector if $\\norm{P}_2 = 1$, suppose that $P \\in \\Cmat{m}{m}$ is *not* an orthogonal projector.  Our aim is to show that there exists $r \\in \\Cvec{m}$ whose shadow $P r$ is longer than $r$ for this non-orthogonal projector $P$.  (If you draw an non-orthogonal projector in 2D, you will realize that this claim is pretty obvious.  Still, we need to prove it rigorously.)  This implies $\\norm{P}_2 > 1$, which proves by contraposition that $P$ is an orthogonal projector if $\\norm{P}_2 = 1$.\n",
    "\n",
    "For convenience, define the set of shadows $S = \\range(P)$ and the set of projection directions $D = \\null(P)$.  Because $P$ is not an orthogonal projector, $S$ is not orthogonal to $D$.  However, we can easily find a subspace $D^\\bot$ orthogonal to $D$.  ($D^\\bot$ is called the [orthogonal complement](https://en.wikipedia.org/wiki/Orthogonal_complement) of $D$.)  Then, we can construct an *orthogonal* projector $R \\in \\Cmat{m}{m}$ onto $D^\\bot$ along $D$.  The two projectors $P$ and $R$ share $D$ as the set of projection directions, but their sets of shadows ($S$ and $D^\\bot$) are different.  Note that $\\dim(S) = m - \\dim(D) = \\dim(D^\\bot)$.\n",
    "\n",
    "We know there exists $s \\in S$ such that $s \\notin D^\\bot$.  (If all $s \\in S$ satisfy $s \\in D^\\bot$, then $S = D^\\bot$ because $\\dim(S) = \\dim(D^\\bot)$, but this is impossible because $S$ is not orthogonal to $D$.)  For such $s$, consider $r = R s$.  Because $R (r-s) = R^2 s - R s = 0$, we have $r - s \\in D$, which implies $P(r - s) = 0$.  Therefore, $P r = P s = s$.  Note that $\\norm{R s}_2 < \\norm{s}_2$ because $s \\notin \\range(R)$ for an orthogonal projector $R$.  Therefore, we have found $r$ such that $\\norm{r}_2 = \\norm{R s}_2 < \\norm{s}_2 = \\norm{P r}$ as we originally aimed, which completes the proof."
   ]
  },
  {
   "cell_type": "markdown",
   "metadata": {},
   "source": [
    "## Bonus Problem.  `formQhouse!` [2 pts]\n",
    "\n",
    "Above, we used `applyQhouse!` to form $Q$ of the Householder QR factorization explicitly by multiplying $Q$ to $I$ implicitly.  However, it is possible to form $Q$ faster than that.  The goal of this assignment is to create `formQhouse!` that implements this faster method."
   ]
  },
  {
   "cell_type": "markdown",
   "metadata": {},
   "source": [
    "**(a) [1 pt]** The second argument $X$ of `applyQhouse!` can be any matrix as long as it has the same number of rows as the first argument $V$.  However, $X = I$ passed to `applyQhouse!` to form $Q$ is not an arbitrary matrix, but a special matrix with a very sparse structure.  \n",
    "\n",
    "Devise an algorithm that exploits this sparsity of $I$ to form $Q$ faster than naively using `applyQhouse!` on $I$.  Complete `formQhouse!` below that implements this new algorithm.  You do not need to explain your algorithm because the code speaks for itself.\n",
    "\n",
    "`formQhouse!` takes two input arguments `V` and `Q`:\n",
    "- `V` is populated by `house!`, and\n",
    "- `Q` is assumed to be the square identity matrix with the same number of rows as `V` (i.e., $Q = I \\in \\Cmat{m}{m}$ for $V \\in \\Cmat{m}{n}$).\n",
    "\n",
    "After execution of `formQhouse!(V, Q)`,\n",
    "- `V` remains the same as before, and\n",
    "- `Q` stores the explicitly formed $Q$ factor of the Householder QR factorization."
   ]
  },
  {
   "cell_type": "markdown",
   "metadata": {},
   "source": [
    "***Solution.***\n",
    "\n",
    "In `applyQhouse!`, $Q X = Q_1 \\cdots Q_n X$ is calculated by executing\n",
    "\n",
    "$$\n",
    "X_{k:m,:} = X_{k:m,:} - \\hat{v}_k (2(\\hat{v}_k^* * X_{k:m,:}))\n",
    "$$\n",
    "\n",
    "in the order of $k = n, \\ldots, 1$.  \n",
    "\n",
    "`formQ!` also needs to calculate $Q_1 \\cdots Q_n X$ using the above formula, but this time $X = I$.  This allows us to replace $X_{k:m,:}$ with $X_{k:m,k:m}$ in the above formula, because starting with $X = I$ ensures $X_{k:m,1:k-1} = 0$ at each step $k$.  For example, for $m = 4$ and $n = 3$, $X$ changes as follows:\n",
    "\n",
    "$$\n",
    "\\left[\\begin{array}{cccc}\n",
    "1 &   &   &  \\\\\n",
    "  & 1 &   &  \\\\\n",
    "  &   & 1 &  \\\\\n",
    "  &   &   & 1\\\\\n",
    "\\end{array}\\right]\\overset{Q_3}{\\longrightarrow}\n",
    "\\left[\\begin{array}{cccc}\n",
    "1 &   &   &  \\\\\n",
    "  & 1 &   &  \\\\\n",
    "  &   & \\times & \\times\\\\\n",
    "  &   & \\times & \\times\\\\\n",
    "\\end{array}\\right]\\overset{Q_2}{\\longrightarrow}\n",
    "\\left[\\begin{array}{cccc}\n",
    "1 &   &   &  \\\\\n",
    "  & \\times & \\times & \\times\\\\\n",
    "  & \\times & \\times & \\times\\\\\n",
    "  & \\times & \\times & \\times\\\\\n",
    "\\end{array}\\right]\\overset{Q_1}{\\longrightarrow}\n",
    "\\left[\\begin{array}{cccc}\n",
    "\\times & \\times & \\times & \\times\\\\\n",
    "\\times & \\times & \\times & \\times\\\\\n",
    "\\times & \\times & \\times & \\times\\\\\n",
    "\\times & \\times & \\times & \\times\\\\\n",
    "\\end{array}\\right]\n",
    "$$\n",
    "\n",
    "Considering this, `formQhouse!` can be implemented as follows:"
   ]
  },
  {
   "cell_type": "code",
   "execution_count": 15,
   "metadata": {},
   "outputs": [
    {
     "data": {
      "text/plain": [
       "formQhouse! (generic function with 1 method)"
      ]
     },
     "execution_count": 15,
     "metadata": {},
     "output_type": "execute_result"
    }
   ],
   "source": [
    "function formQhouse!(V, Q)\n",
    "    m, n = size(V)\n",
    "    assert(size(Q) == (m,m))\n",
    "    \n",
    "    for k = n:-1:1\n",
    "        v = @view V[k:m,k]\n",
    "        Q[k:m,k:m] .-= v .* (2(v'@view(Q[k:m,k:m])))\n",
    "    end\n",
    "    \n",
    "    return nothing\n",
    "end"
   ]
  },
  {
   "cell_type": "markdown",
   "metadata": {},
   "source": [
    "**(b) [0.5 pts]** Now, let's compare the costs for `formQhouse!` and `applyQhouse!` in terms of the number of flops.\n",
    "\n",
    "- Derive the asymptotic numbers of flops needed for executing `formQhouse!` for $V \\in \\Rmat{m}{n}$ and `applyQhouse!` for the same $V$ and $X=I \\in \\Rmat{m}{m}$.  (We consider real matrices here, because we will perform numerical experiments for them later.)  \n",
    "- How much speedup do you expect to get by using `formQhouse!` instead of `applyQhouse!`?  Answer this question with your speedup factor as a function of $n/m$.  Complete the Julia function `spdup_flop_formQ(rnm)` below that returns this speedup factor, where `rnm` is the ratio $n/m$.\n",
    "- In what condition is the speedup factor *maximized* to what value?"
   ]
  },
  {
   "cell_type": "markdown",
   "metadata": {},
   "source": [
    "***Solution.***\n",
    "\n",
    "For each $k$, for each column $q$ of $Q_{k:m,k:m}$, `formQhouse!` spends\n",
    "\n",
    "- $m-k+1$ multiplications and $m-k$ additions for $\\alpha = \\hat{v}_k^* q$,\n",
    "- $1$ scalar multiplication for $\\beta = 2\\alpha$, \n",
    "- $m-k+1$ multiplications for $w = \\hat{v}_k \\beta$,\n",
    "- $m-k+1$ subtractions for $q = q-w$,\n",
    "\n",
    "which are $4(m-k+1)$ flops in total.  Because $Q_{k:m,k:m}$ has $m-k+1$ columns and $k$ runs from $n$ down to $1$, the total number of flops taken by `formQhouse!` is\n",
    "\n",
    "$$\n",
    "\\sum_{k=n}^1 4(m-k+1)^2 = \\sum_{j=m-n+1}^m 4j^2 \\sim \\frac{4}{3} \\left[m^3 - (m-n)^3\\right].\n",
    "$$\n",
    "\n",
    "`applyQhouse!` also spends $4(m-k+1)$ flops for each column $x$ of $X_{k:m,:}$ for each $k$.  Because $X = I$, $X_{k:m,:}$ has $m$ colums.  Therefore, the total number of flops taken by `applyQ!` is\n",
    "\n",
    "$$\n",
    "\\sum_{k=n}^1 4(m-k+1)m = \\sum_{j=m-n+1}^m 4mj \\sim 2 m \\left[m^2 - (m-n)^2\\right].\n",
    "$$\n",
    "\n",
    "Comparing the two results, we expect a speedup factor of\n",
    "\n",
    "$$\n",
    "\\frac{2 m \\left[m^2 - (m-n)^2\\right]}{\\frac{4}{3} \\left[m^3 - (m-n)^3\\right]} = \\frac{3}{2} \\left[\\frac{1 - (1-\\frac{n}{m})^2}{1 - (1-\\frac{n}{m})^3}\\right]\n",
    "$$\n",
    "\n",
    "by using `formQhouse!` instead of `applyQhouse!`.\n",
    "\n",
    "To find out when the speedup factor is maximized, define $s = 1-n/m$.  Then, the above speedup factor satisfies\n",
    "\n",
    "$$\n",
    "\\frac{3}{2} \\left(\\frac{1 - s^2}{1 - s^3}\\right) = \\frac{3}{2} \\frac{1 + s}{1 + s + s^2}= \\frac{3}{2} \\frac{1}{\\left[(1 + s) + \\frac{1}{1+s}\\right] - 1} \\le \\frac{3}{2} \\frac{1}{2 - 1} = 1.5\n",
    "$$\n",
    "\n",
    "from the [AM–GM inequality](https://en.wikipedia.org/wiki/Inequality_of_arithmetic_and_geometric_means), and the equality holds when $1 + s = \\frac{1}{1+s}$, or $n = m$ equivalently.  Therefore, we get the maximum speedup factor of $1.5$ when $n = m$."
   ]
  },
  {
   "cell_type": "code",
   "execution_count": 16,
   "metadata": {},
   "outputs": [
    {
     "data": {
      "text/plain": [
       "spdup_flop_formQ (generic function with 1 method)"
      ]
     },
     "execution_count": 16,
     "metadata": {},
     "output_type": "execute_result"
    }
   ],
   "source": [
    "spdup_flop_formQ(rnm) = 1.5 * (1-(1-rnm)^2) / (1-(1-rnm)^3)"
   ]
  },
  {
   "cell_type": "markdown",
   "metadata": {},
   "source": [
    "**(c) [0.5 pts]** Complete `spdup_time_formQ` below that measures the actual speedup factor for a given $V$ by numerical experiment.  \n",
    "\n",
    "- To measure the actual speedup factor, take the ratio between the times taken for `formQhouse!` and `applyQhouse!`.  (Use `@elapsed`.)\n",
    "- Because computation time fluctuates wildly from execution to execution, perform $N = 20$ measurments of this ratio and return the median value to ignore outliers.\n",
    "\n",
    "You can compare the theoretical speedup factor obtained in Part (b) with the actual measurement by `spdup_time_formQ` using the subsequent code block.  (This time, you don't have to change anything in the code block.)  Again, you don't have to get a perfect agreement between the theory and measurment."
   ]
  },
  {
   "cell_type": "code",
   "execution_count": 17,
   "metadata": {},
   "outputs": [
    {
     "data": {
      "text/plain": [
       "spdup_time_formQ (generic function with 1 method)"
      ]
     },
     "execution_count": 17,
     "metadata": {},
     "output_type": "execute_result"
    }
   ],
   "source": [
    "function spdup_time_formQ(V)\n",
    "    N = 20\n",
    "    rt = Vector{Float64}(N)\n",
    "\n",
    "    Q = similar(V, (m,m))\n",
    "    for k = 1:N\n",
    "        Q .= 0\n",
    "        Q[diagind(Q)] = 1\n",
    "        t_apply = @elapsed applyQhouse!(V, Q)\n",
    "\n",
    "        Q .= 0\n",
    "        Q[diagind(Q)] = 1\n",
    "        t_form = @elapsed formQhouse!(V, Q)\n",
    "        \n",
    "        rt[k] = t_apply / t_form\n",
    "    end\n",
    "    \n",
    "    return median(rt)\n",
    "end"
   ]
  },
  {
   "cell_type": "code",
   "execution_count": 18,
   "metadata": {},
   "outputs": [
    {
     "data": {
      "image/png": "[encoded data removed]",
      "text/plain": [
       "PyPlot.Figure(PyObject <matplotlib.figure.Figure object at 0x12a894828>)"
      ]
     },
     "metadata": {},
     "output_type": "display_data"
    },
    {
     "data": {
      "text/plain": [
       "PyObject <matplotlib.legend.Legend object at 0x12df1b908>"
      ]
     },
     "execution_count": 18,
     "metadata": {},
     "output_type": "execute_result"
    }
   ],
   "source": [
    "m = 50\n",
    "nmax = m\n",
    "\n",
    "A = rand(m, nmax)\n",
    "V = zeros(size(A))\n",
    "house!(V, A)\n",
    "\n",
    "st = Vector{Float64}(nmax)\n",
    "for n = 1:nmax\n",
    "    st[n] = spdup_time_formQ(@view(V[:,1:n]))\n",
    "end\n",
    "\n",
    "using PyPlot\n",
    "rnm = (1:nmax) ./ m\n",
    "\n",
    "plot(rnm, spdup_flop_formQ.(rnm), \"b-\", rnm, st, \"rx\")\n",
    "title(\"Speedup by formQ! with respect to applyQ!\\nfor m×n matrices (m = $m, n ≤ m)\")\n",
    "xlabel(\"n/m\")\n",
    "ylabel(\"cost(applyQ!) / cost(formQ!)\")\n",
    "legend([\"Theroy (cost = flops)\", \"Experiment (cost = time)\"], loc=\"lower right\")"
   ]
  }
 ],
 "metadata": {
  "anaconda-cloud": {},
  "kernelspec": {
   "display_name": "Julia 0.6.3-pre",
   "language": "julia",
   "name": "julia-0.6"
  },
  "language_info": {
   "file_extension": ".jl",
   "mimetype": "application/julia",
   "name": "julia",
   "version": "0.6.3"
  }
 },
 "nbformat": 4,
 "nbformat_minor": 1
}
