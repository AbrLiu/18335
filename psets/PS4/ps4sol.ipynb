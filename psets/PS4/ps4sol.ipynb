{
 "cells": [
  {
   "cell_type": "markdown",
   "metadata": {},
   "source": [
    "# <div style=\"text-align: center\">18.335/6.337 Problem Set 4 - Least Squares and GMRES</div>\n",
    "## <div style=\"text-align: center\">Solution</div>\n",
    "### <div style=\"text-align: center\">Created by Wonseok Shin</div>"
   ]
  },
  {
   "cell_type": "markdown",
   "metadata": {},
   "source": [
    "$\\newcommand{\\Cmat}[2]{\\mathbb{C}^{#1\\times#2}}\\newcommand{\\Cvec}[1]{\\mathbb{C}^{#1}}\\newcommand{\\Rmat}[2]{\\mathbb{R}^{#1\\times#2}}\\newcommand{\\Rvec}[1]{\\mathbb{R}^{#1}}\\newcommand{\\null}{\\mathrm{null}}\\newcommand{\\range}{\\mathrm{range}}\\newcommand{\\rank}{\\mathrm{rank}}\\newcommand{\\nullity}{\\mathrm{nullity}}\\newcommand{\\sign}{\\mathrm{sign}}\\newcommand{\\norm}[1]{\\left\\|#1\\right\\|}\\newcommand{\\abs}[1]{\\left|#1\\right|}\\newcommand{\\epsmach}{\\epsilon_\\mathrm{machine}}\\newcommand{\\log}{\\mathrm{log}}\\newcommand{\\tanh}{\\mathrm{tanh}}\\newcommand{\\l}{\\lambda}\\newcommand{\\d}{\\delta}$"
   ]
  },
  {
   "cell_type": "markdown",
   "metadata": {},
   "source": [
    "## Problem 1.  Algorithms for least squares problems [3 pts]\n",
    "\n",
    "(Partly taken from Exercise 11.3 of T&B)\n",
    "\n",
    "In this problem, we will implement the various algorithms to solve least squares problems.  The least squares problem we would like to solve is the polynomial fitting problem. "
   ]
  },
  {
   "cell_type": "markdown",
   "metadata": {},
   "source": [
    "### Assignment 1.1.  Vandermonde matrix [0.5 pts]\n",
    "\n",
    "As discussed in class, we need a Vandermonde matrix for polynomial fitting.  Complete `vander` below that returns the $m\\times n$ Vandermonde matrix for a vector $x$ of $m$ measurement points and polynomial degree $n-1$."
   ]
  },
  {
   "cell_type": "code",
   "execution_count": 1,
   "metadata": {},
   "outputs": [
    {
     "data": {
      "text/plain": [
       "vander (generic function with 1 method)"
      ]
     },
     "execution_count": 1,
     "metadata": {},
     "output_type": "execute_result"
    }
   ],
   "source": [
    "function vander(x, n)\n",
    "    m = length(x)\n",
    "    V = similar(x, m, n)\n",
    "    \n",
    "    V[:,1] = 1\n",
    "    for j = 2:n\n",
    "        V[:,j] .= x .* @view(V[:,j-1])\n",
    "    end\n",
    "    \n",
    "    return V\n",
    "end"
   ]
  },
  {
   "cell_type": "markdown",
   "metadata": {},
   "source": [
    "### Validation of your implementation\n",
    "\n",
    "Use the following code block to validate your implementation of `vander`."
   ]
  },
  {
   "cell_type": "code",
   "execution_count": 2,
   "metadata": {},
   "outputs": [
    {
     "name": "stdout",
     "output_type": "stream",
     "text": [
      "Vandermonde? true\n"
     ]
    }
   ],
   "source": [
    "m = 10\n",
    "x = rand(m)\n",
    "\n",
    "V = [ones(m) x x.^2 x.^3 x.^4]\n",
    "n = size(V,2)\n",
    "\n",
    "println(\"Vandermonde? $(V ≈ vander(x, n))\")"
   ]
  },
  {
   "cell_type": "markdown",
   "metadata": {},
   "source": [
    "### Assignment 1.2.  Forward and back substitution [0.5 pts]\n",
    "\n",
    "The algorithms for solving least squares problems often require solving triangular systems of linear equations.  Triangular systems of linear equations are solved by forward or back substitution depending on whether the matrix is upper or lower triangular.  Complete `subs!` below that solves a triangular system of linear equations $T x = b$.  The back substitution algorithm is described in Alg. 17.1 of T&B, and the forward substitution algorithm is not much different.\n",
    "\n",
    "The function takes two mandatory input arguments `T` and `b`:\n",
    "- `T` stores an upper or lower triangular matrix, and\n",
    "- `b` is the right-hand-side vector.\n",
    "\n",
    "In addition, the function takes an optional argument `isfwd`.  If `isfwd = true`, use forward substitution for the upper triangular portion of `T`; otherwise, use back substitution for the lower triangular portion of `T`.\n",
    "\n",
    "After execution of `subs!(T, b, isfwd)`,\n",
    "- `T` remains the same as before, and\n",
    "- `b` stores the solutino $x$ of $T x = b$."
   ]
  },
  {
   "cell_type": "code",
   "execution_count": 3,
   "metadata": {},
   "outputs": [
    {
     "data": {
      "text/plain": [
       "subs! (generic function with 1 method)"
      ]
     },
     "execution_count": 3,
     "metadata": {},
     "output_type": "execute_result"
    }
   ],
   "source": [
    "function subs!(T, b, isfwd)\n",
    "    m = length(b)\n",
    "\n",
    "    x = b  # reference copy\n",
    "    ivec = isfwd ? (1:m) : (m:-1:1)\n",
    "    \n",
    "    i = 1\n",
    "    r = ivec[i]\n",
    "    x[r] /= T[r,r]\n",
    "    \n",
    "    for i = 2:m\n",
    "        r = ivec[i]\n",
    "        for j = i-1:-1:1\n",
    "            c = ivec[j]\n",
    "            x[r] -= T[r,c] * x[c]\n",
    "        end\n",
    "        x[r] /= T[r,r]\n",
    "    end\n",
    "    \n",
    "    return nothing\n",
    "end"
   ]
  },
  {
   "cell_type": "markdown",
   "metadata": {},
   "source": [
    "### Validation of your implementation\n",
    "\n",
    "Use the following code block to validate your implementation of `subs!`."
   ]
  },
  {
   "cell_type": "code",
   "execution_count": 4,
   "metadata": {},
   "outputs": [
    {
     "name": "stdout",
     "output_type": "stream",
     "text": [
      "x ≈ L\\b?  true\n",
      "x ≈ U\\b?  true\n"
     ]
    }
   ],
   "source": [
    "m = 5\n",
    "b = rand(Complex128, m)\n",
    "\n",
    "# Forward substitution\n",
    "L = tril(rand(Complex128, m, m))\n",
    "x = copy(b)\n",
    "subs!(L, x, true)\n",
    "println(\"x ≈ L\\\\b?  $(x ≈ L\\b)\")\n",
    "\n",
    "\n",
    "# Back substitution\n",
    "U = triu(rand(Complex128, m, m))\n",
    "x = copy(b)\n",
    "subs!(U, x, false)\n",
    "println(\"x ≈ U\\\\b?  $(x ≈ U\\b)\")"
   ]
  },
  {
   "cell_type": "markdown",
   "metadata": {},
   "source": [
    "### Assignment 1.3.  Least squares solution [2 pts]\n",
    "\n",
    "Complete `solve_lsp` that returns the solution $x$ of the least squares problem specified by a full-rank skinny matrix $A \\in \\Cmat{m}{n}$ and a column vector $b \\in \\Cvec{m}$ using a specific algorithm.\n",
    "\n",
    "The function takes three arguments `A`, `b`, and `alg`:\n",
    "\n",
    "- `A` stores the matrix $A$,\n",
    "- `b` stores the vector $b$, and\n",
    "- `alg` is a string specifying the algorithm to use.\n",
    "\n",
    "The seven possible string values of `alg` and the corresponding algorithms to use are as follows:\n",
    "\n",
    "- `\"nrm\"`: least squares via a normal equation (Alg. 11.1)\n",
    "- `\"clgs\"`: least squares via QR factorization using CLGS (Alg. 11.2)\n",
    "- `\"mgs\"`: least squares via QR factorization using MGS or MGSC (your choice) (Alg. 11.2)\n",
    "- `\"hh\"`: least squares via QR factorization using Householder triangularization (Alg. 11.2)\n",
    "- `\"qr\"`: least squares via QR factorization using Julia's `qr` function (Alg. 11.2)\n",
    "- `\"svd\"`: least squares via SVD (Alg. 11.3)\n",
    "- `\"ldiv\"`: least squares via Julia's backslash operator `\\`\n",
    "\n",
    "After executing `solve_lsa(A, b, alg)`, \n",
    "\n",
    "- `A` and `b` remain the same as before, and \n",
    "- the solution vector `x` is returned.\n",
    "\n",
    "The function will need to use `subs!` and many other helper functions written in the previous problem sets.  You are welcome to copy and paste either your or posted solutions' version of those functions in this notebook.  Alternatively, if you don't want to clutter this notebook, you can put those function in a separate Julia file named `lsp_helpers.jl` and include the file (see the code block below)."
   ]
  },
  {
   "cell_type": "code",
   "execution_count": 5,
   "metadata": {},
   "outputs": [
    {
     "data": {
      "text/plain": [
       "solve_lsp (generic function with 1 method)"
      ]
     },
     "execution_count": 5,
     "metadata": {},
     "output_type": "execute_result"
    }
   ],
   "source": [
    "include(\"lsp_helpers.jl\")  # uncomment to include file\n",
    "\n",
    "function solve_lsp(A, b, alg)\n",
    "    m, n = size(A)\n",
    "\n",
    "    if alg == \"nrm\"  # normal equation\n",
    "        AA, x = A'A, A'b\n",
    "        U = chol(AA)\n",
    "        subs!(U', x, true)\n",
    "        subs!(U, x, false)\n",
    "    elseif alg == \"clgs\"  # QR by CLGS\n",
    "        R = similar(A, n, n)\n",
    "        Q = copy(A)\n",
    "        clgs!(Q, R)\n",
    "        x = Q'b\n",
    "        subs!(R, x, false)\n",
    "    elseif alg == \"mgs\"  # QR by MGS or MGSC\n",
    "        R = similar(A, n, n)\n",
    "        Q = copy(A)\n",
    "        mgsc!(Q, R)  # A is Q\n",
    "        x = Q'b\n",
    "        # Replace the above line with the following commented lines for Bonus Problem.\n",
    "#         x = similar(b, n)\n",
    "#         v = copy(b)\n",
    "#         for j = 1:n\n",
    "#             x[j] = ortho_against!(v, v, @view(Q[:,j]))\n",
    "#         end\n",
    "        subs!(R, x, false)\n",
    "    elseif alg == \"hh\"  # QR by Householder\n",
    "        V = similar(A)\n",
    "        R = copy(A)\n",
    "        house!(V, R)\n",
    "        x = copy(b)\n",
    "        applyQhouse!(V, x, true)\n",
    "        x = x[1:n]\n",
    "        subs!(R, x, false)\n",
    "    elseif alg == \"qr\"  # QR by Julia's qr\n",
    "        Q, R = qr(A)\n",
    "        x = (Q'b)[1:n]\n",
    "        subs!(R, x, false)\n",
    "    elseif alg == \"svd\"  # SVD\n",
    "        U, σ, V = svd(A)\n",
    "        x = V * ((U'b)./σ)\n",
    "    elseif alg == \"ldiv\"  # backslash operator\n",
    "        x = A\\b\n",
    "    else\n",
    "        throw(ArgumentError(\"alg = $alg is invalid.\"))\n",
    "    end\n",
    "    \n",
    "    return x\n",
    "end"
   ]
  },
  {
   "cell_type": "markdown",
   "metadata": {},
   "source": [
    "### Validation of your implementation\n",
    "\n",
    "Use the following code block to validate your implementation of `lsp_solve`.  It fits a degree-11 polynomial to $\\cos(t)$ for $t \\in \\left[0, 1\\right]$ using all the algorithms implemented in `lsp_solve` and plots the fitted curves.  It also displays the calculated polynomial coefficients and relative residual error of each algorithm.  See which algorithms produce loosely fitted results."
   ]
  },
  {
   "cell_type": "code",
   "execution_count": 6,
   "metadata": {},
   "outputs": [
    {
     "name": "stdout",
     "output_type": "stream",
     "text": [
      "\tnrm\t\tclgs\t\tmgs\t\thh\t\tqr\t\tsvd\t\tldiv\n",
      "-------------------------------------------------------------------------------------------------------------------\n",
      "error\t1.2205e-08\t8.5318e-06\t4.1837e-09\t1.5053e-09\t1.5053e-09\t1.5053e-09\t1.5053e-09\t\n",
      "-------------------------------------------------------------------------------------------------------------------\n",
      "coeff\t1.0000e+00\t1.0000e+00\t1.0000e+00\t1.0000e+00\t1.0000e+00\t1.0000e+00\t1.0000e+00\t\n",
      "\t4.1801e-06\t-2.3626e-03\t9.1021e-07\t-4.2274e-07\t-4.2274e-07\t-4.2274e-07\t-4.2274e-07\t\n",
      "\t-8.0001e+00\t-7.9350e+00\t-8.0000e+00\t-8.0000e+00\t-8.0000e+00\t-8.0000e+00\t-8.0000e+00\t\n",
      "\t2.1025e-03\t-7.1040e-01\t4.1970e-04\t-3.1876e-04\t-3.1876e-04\t-3.1876e-04\t-3.1876e-04\t\n",
      "\t1.0651e+01\t1.4686e+01\t1.0664e+01\t1.0669e+01\t1.0669e+01\t1.0669e+01\t1.0669e+01\t\n",
      "\t6.7010e-02\t-1.3234e+01\t1.1713e-02\t-1.3820e-02\t-1.3820e-02\t-1.3820e-02\t-1.3820e-02\t\n",
      "\t-5.8731e+00\t2.1103e+01\t-5.7195e+00\t-5.6471e+00\t-5.6471e+00\t-5.6471e+00\t-5.6471e+00\t\n",
      "\t3.3371e-01\t-3.3855e+01\t5.7343e-02\t-7.5316e-02\t-7.5316e-02\t-7.5316e-02\t-7.5316e-02\t\n",
      "\t1.2154e+00\t2.7717e+01\t1.5368e+00\t1.6936e+00\t1.6936e+00\t1.6936e+00\t1.6936e+00\t\n",
      "\t3.5468e-01\t-1.1285e+01\t1.2147e"
     ]
    },
    {
     "data": {
      "image/png": "[encoded data removed]",
      "text/plain": [
       "PyPlot.Figure(PyObject <matplotlib.figure.Figure object at 0x123277828>)"
      ]
     },
     "metadata": {},
     "output_type": "display_data"
    },
    {
     "name": "stdout",
     "output_type": "stream",
     "text": [
      "-01\t6.0321e-03\t6.0321e-03\t6.0321e-03\t6.0321e-03\t\n",
      "\t-5.1841e-01\t1.8322e+00\t-4.2240e-01\t-3.7424e-01\t-3.7424e-01\t-3.7424e-01\t-3.7424e-01\t\n",
      "\t1.1386e-01\t2.9609e-02\t9.6732e-02\t8.8041e-02\t8.8041e-02\t8.8041e-02\t8.8041e-02\t\n"
     ]
    }
   ],
   "source": [
    "using PyPlot\n",
    "\n",
    "# Construct the least squares problem.\n",
    "m, n = 50, 12\n",
    "\n",
    "t = linspace(0, 1, m);\n",
    "A = vander(t, n)\n",
    "b = cos.(4*t);\n",
    "\n",
    "# Solve the least squares problem by various algorithms.\n",
    "x_nrm = solve_lsp(A, b, \"nrm\")\n",
    "x_clgs = solve_lsp(A, b, \"clgs\")\n",
    "x_mgs = solve_lsp(A, b, \"mgs\")\n",
    "x_hh = solve_lsp(A, b, \"hh\")\n",
    "x_qr = solve_lsp(A, b, \"qr\")\n",
    "x_svd = solve_lsp(A, b, \"svd\")\n",
    "x_ldiv = solve_lsp(A, b, \"ldiv\")\n",
    "\n",
    "# Plot the fitted curves.\n",
    "plot(t, b, \"-\", \n",
    "    t, A*x_nrm, \"o\", \n",
    "    t, A*x_clgs, \"x\", \n",
    "    t, A*x_mgs, \"+\", \n",
    "    t, A*x_hh, \"^\", \n",
    "    t, A*x_qr, \"s\", \n",
    "    t, A*x_svd, \"p\", \n",
    "    t, A*x_ldiv, \"*\")\n",
    "\n",
    "legend([L\"\\cos(t)\", \"Normal\", \"CLGS\", \"MGS\", \"Householder\", \"Julia's qr\", \"SVD\", \"Backslash\"])\n",
    "title(L\"Least squares fitting to $\\cos(t)$\")\n",
    "xlabel(L\"t\")\n",
    "\n",
    "# Prepare the solutions to print.\n",
    "X = [x_nrm x_clgs x_mgs x_hh x_qr x_ldiv x_svd]\n",
    "\n",
    "# Prepare the errors to print.\n",
    "norm_b = norm(b)\n",
    "R = b .- A*X\n",
    "relerr = sqrt.(sum(abs2, R, 1)) ./ norm_b\n",
    "\n",
    "# Print the errors and solutions.\n",
    "println(\"\\tnrm\\t\\tclgs\\t\\tmgs\\t\\thh\\t\\tqr\\t\\tsvd\\t\\tldiv\")\n",
    "for i = 1:115; print(\"-\"); end; println()\n",
    "\n",
    "print(\"error\\t\")\n",
    "for j = 1:7\n",
    "    @printf \"%1.4e\\t\" relerr[j]\n",
    "end\n",
    "println()\n",
    "\n",
    "for i = 1:115; print(\"-\"); end; println()\n",
    "\n",
    "print(\"coeff\")\n",
    "for i = 1:n\n",
    "    print(\"\\t\")\n",
    "    for j = 1:7\n",
    "        @printf \"%1.4e\\t\" X[i,j]\n",
    "    end\n",
    "    println()\n",
    "end"
   ]
  },
  {
   "cell_type": "markdown",
   "metadata": {},
   "source": [
    "## Problem 2.  Point with the least root-mean-square distance from affine subspaces [4 pts]\n",
    "\n",
    "For given $A \\in \\Cmat{m}{n}$ and $p \\in \\Cvec{m}$, consider the following set of points:\n",
    "\n",
    "$$\n",
    "F = \\{p + A x \\mid x \\in \\Cvec{n} \\}\n",
    "$$\n",
    "\n",
    "$F$ is called an affine subspace of $\\Cvec{m}$, and it is nothing but a subspace $\\range(A)$ translated by some vector $p$.  Unlike subspaces, affine subspaces do not necessarily contain the origin.  For example, a plane away from the origin is an affine subspace in 3D.\n",
    "\n",
    "Like you measure the distance from a point to a plane in 3D, you can measure the distance from a point to an affine subspace.  The distance from $z \\in \\Cvec{m}$ to an affine subspace $F$ is defined by the distance between $z$ and the closest point in $F$, i.e.,\n",
    "\n",
    "$$\n",
    "d = \\min_{f \\in F} \\norm{z - f},\n",
    "$$\n",
    "\n",
    "where $\\norm{\\cdot}$ is the 2-norm.\n",
    "\n",
    "Now, suppose that we have $k$ affine subspaces $F_1, \\ldots, F_k$ of $\\Cvec{m}$ defined by points $p_1, \\ldots, p_k \\in \\Cvec{m}$ and matrices $A_1, \\ldots, A_k$.  (all the $A_i$'s have $m$ rows, but they do not necessarily have the same number of columns, i.e., $A_1 \\in \\Cmat{m}{n_1}, \\ldots, A_k \\in \\Cmat{m}{n_k}$.)  The goal of this problem is to find the point $z$ that minimizes the root-mean-square (RMS) distance  to these affine spaces.  In other words, we want to find $z$ minimizing\n",
    "\n",
    "$$\n",
    "d_\\mathrm{rms} = \\sqrt{\\frac{1}{k}\\sum_{i=1}^k d_i^2},\n",
    "$$\n",
    "\n",
    "where $d_i = \\min_{f \\in F_i} \\norm{z - f}$."
   ]
  },
  {
   "cell_type": "markdown",
   "metadata": {},
   "source": [
    "**(a) [2 pts]** For given $p_1, \\ldots, p_k$ and $A_1, \\ldots, A_k$, explain how to find such $z$ and corresponding $d_\\mathrm{rms}$ by solving a least squares problem.  For simplicity, assume that the columns of each $A_i$ are orthonormal."
   ]
  },
  {
   "cell_type": "markdown",
   "metadata": {},
   "source": [
    "***Solution.***\n",
    "\n",
    "We can derive the closed-form formula for each $d_i$.  For given $z$, \n",
    "\n",
    "$$\n",
    "d_i = \\min_{f \\in F_i} \\norm{z - f} = \\min_{x \\in \\Cvec{n}} \\norm{(z - p_i) - A_i x},\n",
    "$$\n",
    "\n",
    "where $x$ minimizing the last expression is the solution to a least squares problem and therefore is $x = (A_i^* A_i)^{-1} A_i^* (z-p_i) = A_i^* (z-p_i)$.  Hence,\n",
    "\n",
    "$$\n",
    "d_i = \\norm{(z-p_i) - A_i A_i^* (z-p_i)} = \\norm{(I - A_i A_i^*) (z-p_i)}.\n",
    "$$\n",
    "\n",
    "This makes sense geometrically.  $A_i A_i^*$ is the orthogonal projector *onto* $\\range(A_i)$, so $I - A_i A_i^*$, which is the complementary projector of $A_i A_i^*$, is the orthogonal projector *along* $\\range(A_i)$.  Because $z-p_i$ is the vector connecting $z$ and a point $p_i$ on the affine space, $(I - A_i A_i^*) (z-p_i)$ is the component of $z-p_i$ perpendicular to the affine space, and thus its length is the distance from $z$ to the affine space.\n",
    "\n",
    "Using the above formula for $d_i$, we can write\n",
    "\n",
    "$$\n",
    "k^2 d_\\mathrm{rms} = \\sum_{i=1}^k d_i^2 = \\norm{\\left[\n",
    "\\begin{array}{c}\n",
    " (I - A_1 A_1^*) (z-p_1) \\\\\n",
    " \\vdots  \\\\\n",
    " (I - A_k A_k^*) (z-p_k) \\\\\n",
    "\\end{array}\n",
    "\\right]}^2 =\n",
    "\\norm{\\left[\n",
    "\\begin{array}{c}\n",
    " I - A_1 A_1^* \\\\\n",
    " \\vdots  \\\\\n",
    " I - A_k A_k^* \\\\\n",
    "\\end{array}\n",
    "\\right] z - \\left[\n",
    "\\begin{array}{c}\n",
    " (I - A_1 A_1^*) p_1 \\\\\n",
    " \\vdots  \\\\\n",
    " (I - A_k A_k^*) p_k \\\\\n",
    "\\end{array}\n",
    "\\right]}^2.\n",
    "$$\n",
    "\n",
    "$z$ minimizing the last expression can be obtained by solving the least squares problem whose matrix $A$ and right-hand side vector $b$ are\n",
    "\n",
    "$$\n",
    "A = \\left[\n",
    "\\begin{array}{c}\n",
    " I - A_1 A_1^* \\\\\n",
    " \\vdots  \\\\\n",
    " I - A_k A_k^* \\\\\n",
    "\\end{array}\n",
    "\\right],\\quad b = \\left[\n",
    "\\begin{array}{c}\n",
    " (I - A_1 A_1^*) p_1 \\\\\n",
    " \\vdots  \\\\\n",
    " (I - A_k A_k^*) p_k \\\\\n",
    "\\end{array}\n",
    "\\right],\n",
    "$$\n",
    "\n",
    "and the minimim $d_\\mathrm{rms}$ can be easily obtained using this $z$."
   ]
  },
  {
   "cell_type": "markdown",
   "metadata": {},
   "source": [
    "**(b) [1 pt]** When does the matrix of your least squares problem in Part (a) become rank-deficient that you need to solve it via SVD?  Describe the condition in terms of $A_1, \\ldots, A_k$."
   ]
  },
  {
   "cell_type": "markdown",
   "metadata": {},
   "source": [
    "***Solution.***\n",
    "\n",
    "The matrix $A$ in the solution to Part (a) is skinny.  Therefore, it becomes rank-deficient when its nullspace has a nonzero vector as an element.\n",
    "\n",
    "$A$ has $v \\neq 0$ in its nullspace if and only if $(I - A_i A_i^*) v = 0$ for all $i = 1, \\ldots, k$.  Therefore, $A$ becomes rank-deficient if and only if there is a nonzero vector shared by the nullspaces of all $I - A_i A_i^*$'s.\n",
    "\n",
    "Note that $I - A_i A_i^*$ is an orthogonal projector *along* $\\range(A_i)$, so its nullspace is nothing but $\\range(A_i)$.  Therefore, we conclude that $A$ becomes rank-deficient if and only if there is a nonzero vector shared between $\\range(A_i)$'s."
   ]
  },
  {
   "cell_type": "markdown",
   "metadata": {},
   "source": [
    "**(c) [1 pt]** Assuming the given $A_1, \\ldots, A_k$ do not fall into the case described in Part (b), complete `pt_min_drms` below that takes an array of $p_i$'s and an array of $A_i$'s and returns $z$ and $d_\\mathrm{rms}$.  You are welcome to use the backslash operator (`\\`) for the least squares solution. \n",
    "\n",
    "Execute the subsequent code block to check if your function runs without errors.  (This is just to detect syntax errors.)"
   ]
  },
  {
   "cell_type": "code",
   "execution_count": 7,
   "metadata": {},
   "outputs": [
    {
     "data": {
      "text/plain": [
       "pt_min_drms (generic function with 1 method)"
      ]
     },
     "execution_count": 7,
     "metadata": {},
     "output_type": "execute_result"
    }
   ],
   "source": [
    "function pt_min_drms(p, A)\n",
    "    # p[1], p[2], ... are pᵢ's, and A[1], A[2], ..., are Aᵢ's.\n",
    "    \n",
    "    k = length(p)\n",
    "    assert(length(A) == k)\n",
    "    m = size(A[1], 1)\n",
    "    \n",
    "    T = eltype(p[1])\n",
    "    \n",
    "    # Construct the matrix (Atot) and vector (btot) of the least squares problem.\n",
    "    I = eye(T, m)\n",
    "    Atot = Matrix{T}(k*m, m)\n",
    "    btot = Vector{T}(k*m)\n",
    "    for i = 1:k\n",
    "        P = I - A[i]*A[i]'  # individual orthogonal projector\n",
    "\n",
    "        ind0 = 1+(i-1)*m\n",
    "        ind1 = i*m\n",
    "        \n",
    "        Atot[ind0:ind1, :] = P\n",
    "        btot[ind0:ind1] = P * p[i]\n",
    "    end\n",
    "    \n",
    "    # Find the d_rms-minimizing point z and the corresponding d_rms.\n",
    "    z = Atot \\ btot\n",
    "    drms = norm(btot - Atot*z) / sqrt(k)\n",
    "    \n",
    "    return z, drms\n",
    "end"
   ]
  },
  {
   "cell_type": "code",
   "execution_count": 8,
   "metadata": {},
   "outputs": [
    {
     "name": "stdout",
     "output_type": "stream",
     "text": [
      "z = [\n",
      "\t0.42946161321334936 + 0.41552749863761124im\n",
      "\t0.528634090375491 + 0.4211799505562526im\n",
      "\t0.4699021253109107 + 0.4322522670737496im\n",
      "\t0.4918664675439409 + 0.5012237014956257im\n",
      "]\n",
      "\n",
      "d_rms = 0.5631677852242845\n",
      "\n"
     ]
    }
   ],
   "source": [
    "using JLD\n",
    "@load \"pA.jld\"\n",
    "\n",
    "z, drms = pt_min_drms(p, A)\n",
    "\n",
    "println(\"z = [\")\n",
    "for zi = z\n",
    "    println(\"\\t$zi\")\n",
    "end\n",
    "println(\"]\\n\")\n",
    "println(\"d_rms = $drms\\n\")"
   ]
  },
  {
   "cell_type": "markdown",
   "metadata": {},
   "source": [
    "## Problem 3.  GMRES [3 pts]\n",
    "\n",
    "In this problem, we will implement GMRES ourselves.  Throughout this problem, assume $A \\in \\Cmat{m}{m}$ is full-rank."
   ]
  },
  {
   "cell_type": "markdown",
   "metadata": {},
   "source": [
    "### Assignment 1.1.  `arnoldi!` [1 pt]\n",
    "\n",
    "In Step $n$ of GMRES, the Arnoldi iteration orthogonalizes $A q_n$ against the already constructed $n$ Arnoldi vectors $q_1, \\ldots, q_n$ to construct a new Arnoldi vector $q_{n+1}$.  \n",
    "\n",
    "Complete `arnoldi!` below that performs a single Step $n$ of the Arnoldi iteration.  (You can perform the entire Arnoldi iteration by executing `arnoldi!` successively for $n = 1, 2, 3, ...$.)\n",
    "\n",
    "Here are the descriptions of the four arguments of the function: `n`, `A`, `Q`, and `h`.\n",
    "\n",
    "- `n` indicates that you are about to execute Step $n$ of the Arnoldi iteration.\n",
    "- `A` is the $m\\times m$ matrix that generates the Krylov subspace.\n",
    "- `Q` is an $m\\times (n_\\max+1)$ matrix whose first $n$ ($\\le n_\\max$) columns are filled with the Arnoldi vectors $q_1, \\ldots, q_n$.\n",
    "- `h` is an empty vector with $n_\\max+1$ entries.\n",
    "\n",
    "After execution of the function,\n",
    "\n",
    "- `n` and `A` remain the same,\n",
    "- the $(n+1)$th column of `Q` stores a newly constructed Arnoldi vector $q_{n+1}$, and\n",
    "- `h` stores the $n$th column of $\\tilde{H}_n$ of the Arnoldi iteration; in other words, `h[i]` is the $q_i$-coordinate of $A q_n$ for $i = 1, \\ldots, n+1$, and the remaining entries of `h` are unused.\n",
    "  \n",
    "In the size $m\\times (n_\\max+1)$ of `Q`, $n_\\max$ ($\\le m$) is the maximum number of the Arnoldi iteration steps you intend to perform.  You allocate large enough memory for `Q` to perform $n_\\max$ steps of the Arnoldi iteration.  The Arnoldi iteration constructs $q_{n_\\max+1}$ at Step $n_\\max$.  Hence, to store $q_1, \\ldots, q_{n_\\max}$ and $q_{n_\\max+1}$, you need to allocate an $m\\times (n_\\max+1)$, rather than $m\\times n_\\max$, matrix for `Q`.\n",
    "\n",
    "If $n_\\max = m$, the Arnoldi vector $q_{n_\\max+1}$ constructed in the last Step $n_\\max$ must be zero, because you already have $m$ orthonormal Arnoldi vectors.  However, $q_{n_\\max+1}$ constructed by the Gram–Schmidt orthogonalizaiton inside the Arnoldi iteration is not exactly zero due to rounding errors.  Therefore, you will need to force $q_{n_\\max+1} = 0$ in this case."
   ]
  },
  {
   "cell_type": "code",
   "execution_count": 9,
   "metadata": {},
   "outputs": [
    {
     "data": {
      "text/plain": [
       "arnoldi! (generic function with 1 method)"
      ]
     },
     "execution_count": 9,
     "metadata": {},
     "output_type": "execute_result"
    }
   ],
   "source": [
    "function arnoldi!(n, A, Q, h)\n",
    "    m = size(A, 1)\n",
    "    qₙ = @view Q[:,n]\n",
    "    v = @view Q[:,n+1]\n",
    "\n",
    "    v .= A*qₙ\n",
    "    lv = norm(v)\n",
    "\n",
    "    for j = 1:n\n",
    "        qⱼ = @view Q[:,j]\n",
    "        h[j] = qⱼ⋅v\n",
    "        v .-= h[j]*qⱼ\n",
    "    end\n",
    "    \n",
    "    if n < m\n",
    "        h[n+1] = norm(v)\n",
    "        v ./= h[n+1]\n",
    "    else\n",
    "        h[n+1] = 0\n",
    "        fill!(v, 0)\n",
    "    end\n",
    "    \n",
    "    return nothing\n",
    "end"
   ]
  },
  {
   "cell_type": "markdown",
   "metadata": {},
   "source": [
    "### Validation of your implementation\n",
    "\n",
    "Validate your implementation of `arnoldi!` using the following code block.  It performs the Arnoldi iteration for the entire $m$ steps.  "
   ]
  },
  {
   "cell_type": "code",
   "execution_count": 10,
   "metadata": {},
   "outputs": [
    {
     "name": "stdout",
     "output_type": "stream",
     "text": [
      "Hₙ upper-Hessenberg?  true\n",
      "Qₙ* Qₙ ≈ I?  true\n",
      "AQₙ ≈ Qₙ₊₁H̃ₙ?  true\n"
     ]
    }
   ],
   "source": [
    "m = 10\n",
    "nmax = 10\n",
    "\n",
    "A = rand(Complex128, m, m)\n",
    "Q = zeros(Complex128, m, nmax+1)\n",
    "H = zeros(Complex128, nmax+1, nmax)\n",
    "\n",
    "b = rand(Complex128, m)\n",
    "x₀ = rand(Complex128, m)\n",
    "r₀ = b - A * x₀\n",
    "\n",
    "ρ = norm(r₀)\n",
    "q₁ = r₀ / ρ\n",
    "\n",
    "Q[:,1] = q₁\n",
    "\n",
    "for n = 1:nmax\n",
    "    h = @view H[:,n]\n",
    "    arnoldi!(n, A, Q, h)\n",
    "end\n",
    "\n",
    "println(\"Hₙ upper-Hessenberg?  $(H == triu(H, -1))\")\n",
    "println(\"Qₙ* Qₙ ≈ I?  $(Q[:,1:nmax]' * Q[:,1:nmax] ≈ eye(nmax))\")\n",
    "println(\"AQₙ ≈ Qₙ₊₁H̃ₙ?  $(A*Q[:,1:nmax] ≈ Q*H)\")"
   ]
  },
  {
   "cell_type": "markdown",
   "metadata": {},
   "source": [
    "### Assignment 1.2.  `gmres!` [2 pts]\n",
    "\n",
    "Now, using `arnoldi!` as well as `subs!` written in Prob. 1 and `givens_h!` written in the previous problem set, complete `gmres!` that solves a system of linear equations $A x = b$ by GMRES.  The last validation code block already implements the heart of the GMRES iteration, so it should be a good starting point for full-fledged implementation.  For this assignment, copy the code for `givens_h!` from the previous problem set.  You can use either your version or the version in the posted solution.\n",
    "\n",
    "The function `gmres` takes five arguments `A`, `b`, `x`, `tol`, and `nmax`:\n",
    "\n",
    "- `A` and `b` are $A \\in \\Cmat{m}{m}$ and $b \\in \\Cvec{m}$ of the equation $A x = b$.\n",
    "- `x` is an initial guess $x_0$ of the solution.\n",
    "- `tol` is the tolerance $\\tau$ of the stopping criterion $\\norm{r_n} / \\norm{b} \\le \\tau$.  Its default value is $10^{-6}$.\n",
    "- `nmax` is the maximum number $n_\\max$ of iteration steps you allow in GMRES.  Theoretically, all Krylov subspace methods find the exact solution in at most $m$ steps in exact arithmetic, but in practice they don't finish even after $m$ steps in the presence of rounding errors if the matrix has an unfavorable eigenvalue spectrum.  `nmax` is needed to terminate iteration in such hopless cases.\n",
    "\n",
    "Execution of the function changes only `x` among all arguments.  After execution of the function, `x` stores either a converged solution satisfying the stopping criterion $\\norm{r_n} / \\norm{b} \\le \\tau$, or an unconverged solution obtained as a result of premature termination by reaching `nmax` steps.\n",
    "\n",
    "Additionally, `gmres!` returns two more parameters:\n",
    "\n",
    "- `n`, the number of iteration steps taken until reaching `x` (i.e., $n$ of $x_n$ stored in `x`), and\n",
    "- `relres`, a vector with $n_\\max+1$ entries whose first $n+1$ entries store the relative residual errors $\\frac{\\norm{r_0}}{\\norm{b}}, \\ldots, \\frac{\\norm{r_n}}{\\norm{b}}$.\n",
    "\n",
    "These two parameters are used to plot the convergence behavior.  Note that `relres[1]` is not $\\frac{\\norm{r_1}}{\\norm{b}}$, but $\\frac{\\norm{r_0}}{\\norm{b}}$."
   ]
  },
  {
   "cell_type": "code",
   "execution_count": 11,
   "metadata": {},
   "outputs": [
    {
     "data": {
      "text/plain": [
       "givens_h! (generic function with 1 method)"
      ]
     },
     "execution_count": 11,
     "metadata": {},
     "output_type": "execute_result"
    }
   ],
   "source": [
    "function givens_h!(k, c, s, h)\n",
    "    # Apply the previously constructed Givens rotations to h.\n",
    "    for i = 1:k-1\n",
    "        x, y = h[i], h[i+1]\n",
    "        h[i] = c[i]'*x + s[i]'*y\n",
    "        h[i+1] = -s[i]*x + c[i]*y\n",
    "    end\n",
    "\n",
    "    # Construct a new Givens rotation to nullify the last entry of h.\n",
    "    x, y = h[k], h[k+1]\n",
    "    d = hypot(x, y)\n",
    "    if d == 0  # rank-deficient case\n",
    "        c[k] = 1\n",
    "        s[k] = 0\n",
    "    else\n",
    "        c[k] = x / d\n",
    "        s[k] = y / d\n",
    "    \n",
    "        # Nullify the last entry of h using the Givens rotation.\n",
    "        h[k] = c[k]'*x + s[k]'*y\n",
    "        h[k+1] = 0\n",
    "    end\n",
    "    \n",
    "    return nothing\n",
    "end"
   ]
  },
  {
   "cell_type": "code",
   "execution_count": 12,
   "metadata": {},
   "outputs": [
    {
     "data": {
      "text/plain": [
       "gmres! (generic function with 3 methods)"
      ]
     },
     "execution_count": 12,
     "metadata": {},
     "output_type": "execute_result"
    }
   ],
   "source": [
    "function gmres!(A, b, x, tol=1e-6, nmax=length(b))\n",
    "    m = length(b)\n",
    "\n",
    "    r₀ = b - A * x\n",
    "    β = norm(b)\n",
    "    ρ = norm(r₀)\n",
    "    ρe₁ = similar(A, nmax+1); ρe₁ .= 0\n",
    "    ρe₁[1] = ρ\n",
    "\n",
    "    Q = similar(A, m, nmax+1); Q .= 0  # need space for one more column qₙ₊₁ constructed by Arnoldi\n",
    "    R = similar(A, nmax+1, nmax); R .= 0\n",
    "    G = similar(A, 2, 2)  # placeholder for Givens rotation    \n",
    "    c = similar(A, nmax)\n",
    "    s = similar(A, nmax)\n",
    "    relres = zeros(nmax+1)  # one more space to store ‖r₀‖ / ‖b‖\n",
    "\n",
    "    Q[:,1] = r₀ / ρ\n",
    "    r2b = ρ / β\n",
    "    relres[1] = r2b\n",
    "    n = 0\n",
    "    while n < nmax && r2b > tol\n",
    "        n += 1\n",
    "        # Construct one more columns of Q and H̃.\n",
    "        h = @view R[:,n]\n",
    "        arnoldi!(n, A, Q, h)\n",
    "\n",
    "        # QR-factorize H̃ into U R using the Givens rotation.\n",
    "        givens_h!(n, c, s, h)\n",
    "\n",
    "        # Apply Uₙ* to ρe₁.\n",
    "        z₁, z₂ = ρe₁[n], ρe₁[n+1]\n",
    "        ρe₁[n] = c[n]'*z₁ + s[n]'*z₂\n",
    "        ρe₁[n+1] = -s[n]*z₁ + c[n]*z₂\n",
    "\n",
    "        r2b = abs(ρe₁[n+1]) / β  # ρe₁[n+1] = σₙ and |σₙ| = ‖rₙ‖\n",
    "        relres[n+1] = r2b\n",
    "    end\n",
    "\n",
    "    subs!((@view R[1:n,1:n]), (@view ρe₁[1:n]), false)\n",
    "    x .+= (@view Q[:,1:n]) * (@view ρe₁[1:n])\n",
    "\n",
    "    return n, relres\n",
    "end"
   ]
  },
  {
   "cell_type": "markdown",
   "metadata": {},
   "source": [
    "### Validation of your implementation\n",
    "\n",
    "The following code block solves $A x = b$ with your `gmres!` for benchmark $A$ and $b$, and compares its convergence curves for $\\tau$- and $n_\\max$-terminated cases with the reference convergence curve obtained by a separate GMRES implementation.\n",
    "\n",
    "If your `gmres!` is implemented correctly, the two sets of convergence data points (`relres1` and `relres2`) obtained by your `gmres!` must lie on the reference curve.  In addition, the convergence data points for the $n_\\max$-terminated case (`relres2`) must stop at $n = 30$.\n",
    "\n",
    "Validate your implementation of `gmres!` using this code block."
   ]
  },
  {
   "cell_type": "code",
   "execution_count": 13,
   "metadata": {},
   "outputs": [
    {
     "data": {
      "image/png": "[encoded data removed]",
      "text/plain": [
       "PyPlot.Figure(PyObject <matplotlib.figure.Figure object at 0x12d950240>)"
      ]
     },
     "metadata": {},
     "output_type": "display_data"
    },
    {
     "data": {
      "text/plain": [
       "PyObject <matplotlib.legend.Legend object at 0x136c74358>"
      ]
     },
     "execution_count": 13,
     "metadata": {},
     "output_type": "execute_result"
    }
   ],
   "source": [
    "using JLD\n",
    "\n",
    "# Load A, b, and reference relres.\n",
    "@load \"bench_gmres.jld\"\n",
    "n = findlast(relres .> 0) - 1\n",
    "\n",
    "m = size(b)\n",
    "\n",
    "tol = 1e-6\n",
    "x = zeros(Complex128, m)\n",
    "n1, relres1 = gmres!(A, b, x, tol)\n",
    "\n",
    "nmax = 30\n",
    "x = zeros(Complex128, m)\n",
    "n2, relres2 = gmres!(A, b, x, tol, nmax)\n",
    "\n",
    "using PyPlot\n",
    "semilogy(0:n, relres[1:n+1], \"b-\", 0:n1, relres1[1:n1+1], \"go\", 0:n2, relres2[1:n2+1], \"rx\")\n",
    "title(\"GMRES Convergence Test\")\n",
    "xlabel(\"n\")\n",
    "ylabel(\"‖rₙ‖ / ‖b‖\")\n",
    "legend([\"Reference\", \"τ-terminated\", \"nmax-terminated\"], loc=\"upper right\")"
   ]
  },
  {
   "cell_type": "markdown",
   "metadata": {},
   "source": [
    "## Bonus Problem.  Solution to least squares problems via MGS [2 pts]\n",
    "\n",
    "In Prob. 1, you might have noticed that `alg = \"mgs\"` produces a poorer least squares solution than `alg = \"hh\"` or `alg = \"qr\"`.  In fact, there is a way to use MGS (or MGSC) to get an equally accurate solution."
   ]
  },
  {
   "cell_type": "markdown",
   "metadata": {},
   "source": [
    "**(a) [1 pt]**  When solving a least squares problem $\\min_{x} \\norm{b - A x}_2$ via QR factorization using MGS, we calculate the reduced QR factorization $A = \\hat{Q} \\hat{R}$ and then construct a linear system $\\hat{R} x = \\hat{Q}^* b$.  What is done poorly here is not the factorization, but the evaluation of $\\hat{Q}^* b$.  Devise a way to perform $\\hat{Q}^* b$ better.  (Hint: can you do it \"MGS\" way?)"
   ]
  },
  {
   "cell_type": "markdown",
   "metadata": {},
   "source": [
    "***Solution.***\n",
    "\n",
    "From the least squares problem, we construct an orthogonal projector $P = \\hat{Q} \\hat{Q}^*$ and construct a linear system $\\hat{Q} \\hat{R} x = A x = P b = \\hat{Q} (\\hat{Q}^* b)$, from which we get $\\hat{R} x = \\hat{Q}^* b$.  Here, the entries of the $j$th column of $\\hat{R}$ are the coefficients of the linear combination of $q_i$'s to form $a_j$.  Similarly, the entries of the vector $\\hat{Q}^* b$ are the coefficients of the linear combination of $q_i$'s to form $b$.  For consistency, these two sets of coefficients must be calculated in the same manner.  Let's see if that is the case.\n",
    "\n",
    "When the QR factorization is performed by MGS(C), the entries of the $j$th column of $\\hat{R}$ are constructed as $q_i^* v$ ($v$ keeps changing) that appears in the MGS procedure $v \\leftarrow v - (q_i^* v) q_i$ with the initial $v = a_j$.  In contrast, the entries of the vector $\\hat{Q}^* b$ are constructed as $q_i^* b$ ($b$ remains the same) that appears in the CLGS procedure $v \\leftarrow v - (q_i^* b) q_i$.  Therefore, the two sets of coefficients are not constructed in the same manner, and hence leading to inconsistency.\n",
    "\n",
    "Therefore, for consistency, we have to evaluate the entries of the vector $\\hat{Q}^* b$ as $q_i^* v$ while updating $v$ as $v \\leftarrow v - (q_i^* v) q_i$ with the initial $v = b$."
   ]
  },
  {
   "cell_type": "markdown",
   "metadata": {},
   "source": [
    "**(b) [1 pt]** Update the `alg = \"mgs\"` portion of `solve_lsp` in Assignment 1.3 using your idea discovered in Part (a) and evaluate the validation code block.  Check if you get a better solution for `alg = \"mgs\"`."
   ]
  }
 ],
 "metadata": {
  "anaconda-cloud": {},
  "kernelspec": {
   "display_name": "Julia 0.6.3-pre",
   "language": "julia",
   "name": "julia-0.6"
  },
  "language_info": {
   "file_extension": ".jl",
   "mimetype": "application/julia",
   "name": "julia",
   "version": "0.6.3"
  }
 },
 "nbformat": 4,
 "nbformat_minor": 1
}
