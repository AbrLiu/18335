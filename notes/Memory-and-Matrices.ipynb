{
 "cells": [
  {
   "cell_type": "markdown",
   "metadata": {},
   "source": [
    "# Experiments with Memory Access and Matrices\n",
    "\n",
    "In many problems, especially problems accessing lots of data and doing relatively simple computations on each datum, the performance bottleneck is memory rather than computational speed.  Because memory is arranged into a **memory hierarchy** of larger/slower and smaller/faster memories, it turns out that *changing the order* of memory access can have a huge impact on performance.\n",
    "\n",
    "In this notebook, we'll explore these performance issues with a few typical matrix algorithms, implemented in Julia."
   ]
  },
  {
   "cell_type": "code",
   "execution_count": 19,
   "metadata": {},
   "outputs": [
    {
     "name": "stdout",
     "output_type": "stream",
     "text": [
      "Julia Version 1.1.0\n",
      "Commit 80516ca202 (2019-01-21 21:24 UTC)\n",
      "Platform Info:\n",
      "  OS: macOS (x86_64-apple-darwin14.5.0)\n",
      "  CPU: Intel(R) Core(TM) i7-6820HQ CPU @ 2.70GHz\n",
      "  WORD_SIZE: 64\n",
      "  LIBM: libopenlibm\n",
      "  LLVM: libLLVM-6.0.1 (ORCJIT, skylake)\n",
      "Environment:\n",
      "  JULIA_EDITOR = code\n"
     ]
    }
   ],
   "source": [
    "using BenchmarkTools # a useful package of benchmarking utilities\n",
    "versioninfo() # a useful function to print out information about the machine"
   ]
  },
  {
   "cell_type": "markdown",
   "metadata": {},
   "source": [
    "## Benchmarking Matrix Multiplication\n",
    "\n",
    "One of the most basic building blocks of numerical linear algebra is the computation of matrix multiplication: given an $m \\times n$ matrix $A$ and an $n \\times p$ matrix $B$, compute the $m \\times p$ matrix $C = AB$.   The entries of $C$ are given by the exact formula:\n",
    "$$\n",
    "C_{ik} = \\sum_{j=1}^n A_{ij} B_{jk}\n",
    "$$\n",
    "but there are many ways to implement this computation.   $\\approx 2mnp$ flops (floating-point additions and multiplications) are required, but they can re-ordered arbitrarily, leading to $\\sim (mnp)!$ possible orderings.\n",
    "\n",
    "It turns out that the ordering of the operations in the matrix multiplication has a *huge* impact on performance, along with low-level details of the inner loops.  Basically, three factors make the implementation of efficient matrix multiplication highly nontrivial:\n",
    "\n",
    "* [Caches](https://en.wikipedia.org/wiki/CPU_cache): the matrix accesses must be reordered to obtain [temporal locality](https://en.wikipedia.org/wiki/Locality_of_reference) and hence efficient memory (cache) usage.\n",
    "* [Registers](https://en.wikipedia.org/wiki/Processor_register): at the lowest level, the CPU registers form a kind of ideal cache.  The innermost loops of the matrix multiplication need to be unrolled in order to load many values into registers and perform as much work with them as possible (essentially a small submatrix multiplication).  It turns out that a [lot of tricks](http://cscads.rice.edu/workshops/july2007/autotune-slides-07/Frigo.pdf) are required to do this well.\n",
    "* [SIMD instructions](https://en.wikipedia.org/wiki/SIMD): modern CPUs include special instructions that can perform several arithmetic operations at once (e.g. 2, 4, or even 8 `Float64` operations), and to get the full benefit of these operations typically requires hand coding. \n",
    "\n",
    "As a consequence, there is a huge performance gap between the most obvious three-loop matrix-multiplication code and highly optimized code.  This gap has become the central factor in the design of dense linear-algebra libraries for several decades, especially the industry-standard free/open-source the [LAPACK](https://en.wikipedia.org/wiki/LAPACK) library: nearly all dense linear algebra is now organized around highly optimized [BLAS](https://en.wikipedia.org/wiki/Basic_Linear_Algebra_Subprograms) libraries.\n",
    "\n",
    "Because Julia benefits from fast compilers, we can illustrate this performance gap fairly with simple Julia code.  (In contrast, similar implementation in Matlab or Python would be orders of magnitude slower, and would demonstrate mostly language rather than the algorithmic effects.)"
   ]
  },
  {
   "cell_type": "markdown",
   "metadata": {},
   "source": [
    "### Naive algorithm"
   ]
  },
  {
   "cell_type": "markdown",
   "metadata": {},
   "source": [
    "The following is the simplest, most obvious, matrix-multiplication algorithm: just three nested loops, implementing a dot product for each output $C_{ik}$.\n",
    "\n",
    "The only concessions we have made to performance concerns here are (1) we implement an in-place `matmul!` variant that operates on a pre-existing `C` array, to avoid benchmarking the memory allocation/deallocation and (2) we use the `@inbounds` macro to turn off array bounds-checking in Julia for the inner loop.   Together, these make less than a factor of two difference in speed."
   ]
  },
  {
   "cell_type": "code",
   "execution_count": 1,
   "metadata": {},
   "outputs": [
    {
     "data": {
      "text/plain": [
       "matmul (generic function with 1 method)"
      ]
     },
     "execution_count": 1,
     "metadata": {},
     "output_type": "execute_result"
    }
   ],
   "source": [
    "# compute C = A * B, using naive matrix-multiplication algorithm,\n",
    "# with a pre-allocated output array C.  (\"!\" is a Julia convention\n",
    "# for functions that modify their arguments.)\n",
    "function matmul!(C, A, B)\n",
    "    m,n = size(A)\n",
    "    n,p = size(B)\n",
    "    size(C) == (m,p) || error(\"incorrect dimensions \", size(C), \" ≠ $m × $p\")\n",
    "    for i = 1:m\n",
    "        for k = 1:p\n",
    "            c = zero(eltype(C))\n",
    "            for j = 1:n\n",
    "                @inbounds c += A[i,j] * B[j,k]\n",
    "            end\n",
    "            @inbounds C[i,k] = c\n",
    "        end\n",
    "    end\n",
    "    return C\n",
    "end\n",
    "\n",
    "# a wrapper that allocates C of an appropriate type\n",
    "matmul(A, B) = matmul!(Array{promote_type(eltype(A), eltype(B))}(undef,\n",
    "                             size(A,1), size(B,2)),\n",
    "                       A, B)"
   ]
  },
  {
   "cell_type": "code",
   "execution_count": 2,
   "metadata": {},
   "outputs": [
    {
     "data": {
      "text/plain": [
       "7.850462293418876e-16"
      ]
     },
     "execution_count": 2,
     "metadata": {},
     "output_type": "execute_result"
    }
   ],
   "source": [
    "# correctness check:\n",
    "A = rand(5,6)\n",
    "B = rand(6,7)\n",
    "using LinearAlgebra\n",
    "norm(matmul(A,B) - A * B)"
   ]
  },
  {
   "cell_type": "markdown",
   "metadata": {},
   "source": [
    "#### Benchmarking naive `matmul`"
   ]
  },
  {
   "cell_type": "markdown",
   "metadata": {},
   "source": [
    "Here, we will benchmark our naive `matmul` implementation against the highly optimized [OpenBLAS library](http://www.openblas.net/) that Julia uses for its built-in matrix multiplication.   Like `matmul!`, we will call OpenBLAS with pre-allocated output via `mul!(C, A, B)` instead of the simpler `A * B`.  By default, OpenBLAS uses multiple CPU cores, which gives it an \"unfair\" parallel speedup, but we can disable this for benchmarking purposes:"
   ]
  },
  {
   "cell_type": "code",
   "execution_count": 3,
   "metadata": {},
   "outputs": [],
   "source": [
    "# for benchmarking, use only single-threaded BLAS:\n",
    "BLAS.set_num_threads(1)"
   ]
  },
  {
   "cell_type": "markdown",
   "metadata": {},
   "source": [
    "We will benchmark $n \\times n$ matrix multiplications for various $n$ from 10 to 1000.  Julia's `@elapsed ...code...` macro is useful for benchmarking: it times the code and returns the time in seconds.   As we go, we will print the ratio of the naive time to the optimized time, to see the slowdown of our naive code."
   ]
  },
  {
   "cell_type": "code",
   "execution_count": 4,
   "metadata": {},
   "outputs": [
    {
     "name": "stdout",
     "output_type": "stream",
     "text": [
      "finished n = 10: slowdown of 0.007835952511002333\n",
      "finished n = 11: slowdown of 0.5407678244972578\n",
      "finished n = 12: slowdown of 0.9910481163744872\n",
      "finished n = 13: slowdown of 1.1469098277608916\n",
      "finished n = 15: slowdown of 1.3363834422657952\n",
      "finished n = 16: slowdown of 1.2491420727522307\n",
      "finished n = 18: slowdown of 1.7147505422993494\n",
      "finished n = 20: slowdown of 3.10800283286119\n",
      "finished n = 22: slowdown of 2.6403125000000003\n",
      "finished n = 24: slowdown of 0.4613533707628013\n",
      "finished n = 26: slowdown of 3.140889591329871\n",
      "finished n = 29: slowdown of 3.5693867375768655\n",
      "finished n = 32: slowdown of 3.0392392392392393\n",
      "finished n = 35: slowdown of 5.230943037222024\n",
      "finished n = 39: slowdown of 5.4626268540202965\n",
      "finished n = 43: slowdown of 3.833130637478463\n",
      "finished n = 47: slowdown of 4.8330377147124715\n",
      "finished n = 52: slowdown of 6.777450257921886\n",
      "finished n = 57: slowdown of 5.776100659903477\n",
      "finished n = 63: slowdown of 8.21405650778743\n",
      "finished n = 69: slowdown of 7.740701381509033\n",
      "finished n = 76: slowdown of 9.92692334182795\n",
      "finished n = 84: slowdown of 9.278112052357955\n",
      "finished n = 92: slowdown of 10.032517245733045\n",
      "finished n = 102: slowdown of 10.282046813735198\n",
      "finished n = 112: slowdown of 13.392161197612355\n",
      "finished n = 123: slowdown of 14.438797873218947\n",
      "finished n = 136: slowdown of 15.18567244533331\n",
      "finished n = 150: slowdown of 15.36694956195201\n",
      "finished n = 165: slowdown of 16.597717518641282\n",
      "finished n = 182: slowdown of 17.188233869738838\n",
      "finished n = 200: slowdown of 18.27071757871854\n",
      "finished n = 221: slowdown of 19.019484874277182\n",
      "finished n = 243: slowdown of 18.03097939021709\n",
      "finished n = 268: slowdown of 24.82882568672613\n",
      "finished n = 295: slowdown of 20.328996379892025\n",
      "finished n = 325: slowdown of 26.272637067052045\n",
      "finished n = 358: slowdown of 24.976342095741458\n",
      "finished n = 394: slowdown of 21.899338253572314\n",
      "finished n = 434: slowdown of 23.349892800293933\n",
      "finished n = 478: slowdown of 25.133216359412568\n",
      "finished n = 526: slowdown of 20.788049420645674\n",
      "finished n = 580: slowdown of 27.900723004191573\n",
      "finished n = 639: slowdown of 29.9668180014739\n",
      "finished n = 704: slowdown of 38.472101397962746\n",
      "finished n = 775: slowdown of 25.41127301945524\n",
      "finished n = 854: slowdown of 28.165043895758256\n",
      "finished n = 940: slowdown of 27.643192870594746\n",
      "finished n = 1036: slowdown of 30.988398562889426\n",
      "finished n = 1141: slowdown of 37.9018987481904\n",
      "finished n = 1257: slowdown of 29.478448612850556\n",
      "finished n = 1384: slowdown of 48.79282174556458\n",
      "finished n = 1525: slowdown of 49.1719493137247\n",
      "finished n = 1680: slowdown of 87.67126731101764\n",
      "finished n = 1850: slowdown of 100.24177360395242\n",
      "finished n = 2038: slowdown of 121.19353907479118\n",
      "finished n = 2245: slowdown of 114.0497292141139\n",
      "finished n = 2473: slowdown of 103.27542648050256\n",
      "finished n = 2724: slowdown of 134.06083715641344\n",
      "finished n = 3000: slowdown of 137.11685868455535\n"
     ]
    }
   ],
   "source": [
    "N = round.(Int, 10 .^ range(1, log10(3000), length=60))  # 60 sizes from 10 to 3000\n",
    "# alternatively, use N = 10:1000 to see some interesting patterns due to cache associativity etc.\n",
    "t = Float64[]\n",
    "t0 = Float64[]\n",
    "for n in N\n",
    "    A = zeros(n,n)\n",
    "    B = zeros(n,n)\n",
    "    # preallocate output C so that allocation is not included in timing\n",
    "    C = zeros(n,n)\n",
    "    push!(t, @elapsed matmul!(C,A,B))\n",
    "    push!(t0, @elapsed mul!(C,A,B))\n",
    "    println(\"finished n = $n: slowdown of \", t[end]/t0[end])\n",
    "end"
   ]
  },
  {
   "cell_type": "code",
   "execution_count": 5,
   "metadata": {},
   "outputs": [],
   "source": [
    "using PyPlot # a plotting library based on Python's Matplotlib"
   ]
  },
  {
   "cell_type": "markdown",
   "metadata": {},
   "source": [
    "Now, we will plot the results.  Since the number of flops is $2n^3$, we will plot $2n^3 / t$ for time $t$ in microseconds in order to plot the **gigaflops rate** (billions of flops per second).  If you naively think of a CPU as a box that performs floating-point instructions at a fixed rate, with all other instructions being negligible (a picture that *may* have been true circa 1985), this would be a flat horizontal line independent of $n$, but we will see that reality is quite different.\n",
    "\n",
    "The OpenBLAS library gets an \"unfair\" factor of 8 speedup on typical modern Intel processors thanks to hand-coded support for [AVX-512](https://en.wikipedia.org/wiki/Advanced_Vector_Extensions) SIMD instructions, which perform 8 double-precision floating-point operations simultaneously, so we will divide the BLAS performance by 8 for comparison purposes."
   ]
  },
  {
   "cell_type": "code",
   "execution_count": 6,
   "metadata": {},
   "outputs": [
    {
     "data": {
      "image/png": "[encoded data removed]",
      "text/plain": [
       "Figure(PyObject <Figure size 640x480 with 1 Axes>)"
      ]
     },
     "metadata": {},
     "output_type": "display_data"
    },
    {
     "data": {
      "text/plain": [
       "PyObject <matplotlib.legend.Legend object at 0x1464d7320>"
      ]
     },
     "execution_count": 6,
     "metadata": {},
     "output_type": "execute_result"
    }
   ],
   "source": [
    "plot(N, 2N.^3 ./ t * 1e-9, \"rs-\")\n",
    "plot(N, 2N.^3 ./ t0 * 1e-9 / 8, \"b.-\")\n",
    "ylabel(L\"gigaflops $2n^3/t$\")\n",
    "xlabel(L\"matrix size $n$\")\n",
    "legend([\"naive matmul\", \"BLAS matmul / 8\"], loc=\"center right\")"
   ]
  },
  {
   "cell_type": "markdown",
   "metadata": {},
   "source": [
    "#### Naive matmul in C"
   ]
  },
  {
   "cell_type": "markdown",
   "metadata": {},
   "source": [
    "You may be suspicious that the problem is simply that Julia is slow.   We can check this hypothesis by implementing the same algorithm in C, compiling it, and then calling it by Julia's built-in `ccall` instruction that makes it [easy to call C from Julia](http://docs.julialang.org/en/latest/manual/calling-c-and-fortran-code/)."
   ]
  },
  {
   "cell_type": "code",
   "execution_count": 7,
   "metadata": {},
   "outputs": [
    {
     "data": {
      "text/plain": [
       "cmatmul (generic function with 1 method)"
      ]
     },
     "execution_count": 7,
     "metadata": {},
     "output_type": "execute_result"
    }
   ],
   "source": [
    "# C implementation:\n",
    "Cmatmul = \"\"\"\n",
    "void Cmatmul(int m, int n, int p, double *C, double *A, double *B)\n",
    "{\n",
    "    int i, j, k;\n",
    "    for (i = 0; i < m; ++i)\n",
    "        for (j = 0; j < p; ++j) {\n",
    "            double c = 0.0;\n",
    "            for (k = 0; k < n; ++k)\n",
    "                c += A[i + m*k] * B[k + n*j];\n",
    "            C[i + m*j] = c;\n",
    "    }\n",
    "}\n",
    "\"\"\"\n",
    "# compile to a shared library by piping Cmatmul to gcc:\n",
    "# (only works if you have gcc installed)\n",
    "const Clib = tempname()\n",
    "import Libdl\n",
    "open(`gcc -fPIC -O3 -xc -shared -o $(Clib * \".\" * Libdl.dlext) -`, \"w\") do f\n",
    "    print(f, Cmatmul)\n",
    "end\n",
    "\n",
    "# define a Julia cmatmul! function that simply calls the C code in the shared library we compiled\n",
    "function cmatmul!(C, A, B)\n",
    "    m,n = size(A)\n",
    "    n,p = size(B)\n",
    "    size(C) == (m,p) || error(\"incorrect dimensions \", size(C), \" ≠ $m × $p\")\n",
    "    ccall((\"Cmatmul\", Clib), Cvoid, (Cint, Cint, Cint, Ptr{Float64}, Ptr{Float64}, Ptr{Float64}),\n",
    "          m, n, p, C, A, B)\n",
    "    return C\n",
    "end\n",
    "cmatmul(A, B) = cmatmul!(Array{promote_type(eltype(A), eltype(B))}(undef,\n",
    "                               size(A,1), size(B,2)),\n",
    "                         A, B)"
   ]
  },
  {
   "cell_type": "code",
   "execution_count": 8,
   "metadata": {},
   "outputs": [
    {
     "data": {
      "text/plain": [
       "8.15843973306311e-16"
      ]
     },
     "execution_count": 8,
     "metadata": {},
     "output_type": "execute_result"
    }
   ],
   "source": [
    "# correctness check:\n",
    "A = rand(5,6)\n",
    "B = rand(6,7)\n",
    "norm(cmatmul(A,B) - A * B)"
   ]
  },
  {
   "cell_type": "markdown",
   "metadata": {},
   "source": [
    "Now, let's benchmark it and print out the \"speedup\" compared to pure Julia.  We see that it is **about the same speed**.  Julia's main claim to fame is that it is a dynamic language (like Python or Matlab) that stays within a factor of 2 (usually better) of C."
   ]
  },
  {
   "cell_type": "code",
   "execution_count": 9,
   "metadata": {},
   "outputs": [
    {
     "name": "stdout",
     "output_type": "stream",
     "text": [
      "finished n = 10: speedup of 1.4735042735042732\n",
      "finished n = 11: speedup of 0.5609646157313499\n",
      "finished n = 12: speedup of 0.44109898381633417\n",
      "finished n = 13: speedup of 0.7146643109540637\n",
      "finished n = 15: speedup of 0.8676230844473427\n",
      "finished n = 16: speedup of 0.6898351648351649\n",
      "finished n = 18: speedup of 0.7364537212734555\n",
      "finished n = 20: speedup of 0.522501993847556\n",
      "finished n = 22: speedup of 0.726003077287253\n",
      "finished n = 24: speedup of 0.7255924604263886\n",
      "finished n = 26: speedup of 0.7288476745021926\n",
      "finished n = 29: speedup of 0.7832565069609349\n",
      "finished n = 32: speedup of 0.7253145379092287\n",
      "finished n = 35: speedup of 0.6866346875213131\n",
      "finished n = 39: speedup of 0.7475929333166611\n",
      "finished n = 43: speedup of 0.7434660180056317\n",
      "finished n = 47: speedup of 0.710767507219223\n",
      "finished n = 52: speedup of 0.7110652024210794\n",
      "finished n = 57: speedup of 0.567258791281402\n",
      "finished n = 63: speedup of 0.5850889145093108\n",
      "finished n = 69: speedup of 0.7423596686006255\n",
      "finished n = 76: speedup of 0.6003007722248819\n",
      "finished n = 84: speedup of 0.6864329283468273\n",
      "finished n = 92: speedup of 0.7103549744125995\n",
      "finished n = 102: speedup of 0.6806249648513124\n",
      "finished n = 112: speedup of 0.7356692592138404\n",
      "finished n = 123: speedup of 0.7371298345336718\n",
      "finished n = 136: speedup of 0.7278648352759507\n",
      "finished n = 150: speedup of 0.7438319445695516\n",
      "finished n = 165: speedup of 0.7366909059464984\n",
      "finished n = 182: speedup of 0.7087405689163628\n",
      "finished n = 200: speedup of 0.7222230644962948\n",
      "finished n = 221: speedup of 0.7403030844072496\n",
      "finished n = 243: speedup of 0.9763329124524702\n",
      "finished n = 268: speedup of 1.0415490350389944\n",
      "finished n = 295: speedup of 1.0310000468338105\n",
      "finished n = 325: speedup of 0.9202803334717279\n",
      "finished n = 358: speedup of 1.0977356635716378\n",
      "finished n = 394: speedup of 0.9424080913563433\n",
      "finished n = 434: speedup of 0.9714711459494524\n",
      "finished n = 478: speedup of 0.8850204226606695\n",
      "finished n = 526: speedup of 0.8939759427090753\n",
      "finished n = 580: speedup of 0.9263518274543122\n",
      "finished n = 639: speedup of 1.0081846546390352\n",
      "finished n = 704: speedup of 1.0664248552524225\n",
      "finished n = 775: speedup of 0.9871981881408826\n",
      "finished n = 854: speedup of 1.0421558221485276\n",
      "finished n = 940: speedup of 1.1292485675183037\n"
     ]
    }
   ],
   "source": [
    "tc = Float64[]\n",
    "for n in N[N .<= 1000]\n",
    "    A = zeros(n,n)\n",
    "    B = zeros(n,n)\n",
    "    # preallocate output C so that allocation is not included in timing\n",
    "    C = zeros(n,n)\n",
    "    push!(tc, @elapsed cmatmul!(C,A,B))\n",
    "    println(\"finished n = $n: speedup of \", tc[end]/t[length(tc)])\n",
    "end"
   ]
  },
  {
   "cell_type": "markdown",
   "metadata": {},
   "source": [
    "### Cache-oblivious matrix-multiplication"
   ]
  },
  {
   "cell_type": "markdown",
   "metadata": {},
   "source": [
    "As a first step in the right direction, we'll implement a [cache-oblivious algorithm](https://en.wikipedia.org/wiki/Cache-oblivious_algorithm) for matrix multiplication: divide the matrices into four submatrices which are multiplied *recursively* until a sufficiently large base case is reached (large enough to amortize the recursion overhead).   This strategy erases the steep performance drop-off that occurs for large $n$ where the matrix goes out-of-cache, at the cost of ~25 lines of code rather than ~10 for the naive loops.\n",
    "\n",
    "(It still doesn't match the OpenBLAS performance because it fails to address the other two problems: unrolling and optimizing the base cases to optimize register utilization, and coding for SIMD instructions.)"
   ]
  },
  {
   "cell_type": "code",
   "execution_count": 10,
   "metadata": {},
   "outputs": [
    {
     "data": {
      "text/plain": [
       "matmul_rec (generic function with 1 method)"
      ]
     },
     "execution_count": 10,
     "metadata": {},
     "output_type": "execute_result"
    }
   ],
   "source": [
    "function add_matmul_rec!(m,n,p, i0,j0,k0, C,A,B)\n",
    "    if m+n+p <= 64   # base case: naive matmult for sufficiently large matrices\n",
    "        for i = 1:m\n",
    "            for k = 1:p\n",
    "                c = zero(eltype(C))\n",
    "                for j = 1:n\n",
    "                    @inbounds c += A[i0+i,j0+j] * B[j0+j,k0+k]\n",
    "                end\n",
    "                @inbounds C[i0+i,k0+k] += c\n",
    "            end\n",
    "        end\n",
    "    else\n",
    "        m2 = m ÷ 2; n2 = n ÷ 2; p2 = p ÷ 2\n",
    "        add_matmul_rec!(m2, n2, p2, i0, j0, k0, C, A, B)\n",
    "        \n",
    "        add_matmul_rec!(m-m2, n2, p2, i0+m2, j0, k0, C, A, B)\n",
    "        add_matmul_rec!(m2, n-n2, p2, i0, j0+n2, k0, C, A, B)\n",
    "        add_matmul_rec!(m2, n2, p-p2, i0, j0, k0+p2, C, A, B)\n",
    "        \n",
    "        add_matmul_rec!(m-m2, n-n2, p2, i0+m2, j0+n2, k0, C, A, B)\n",
    "        add_matmul_rec!(m2, n-n2, p-p2, i0, j0+n2, k0+p2, C, A, B)\n",
    "        add_matmul_rec!(m-m2, n2, p-p2, i0+m2, j0, k0+p2, C, A, B)\n",
    "        \n",
    "        add_matmul_rec!(m-m2, n-n2, p-p2, i0+m2, j0+n2, k0+p2, C, A, B)\n",
    "    end\n",
    "    return C\n",
    "end\n",
    "\n",
    "function matmul_rec!(C, A, B)\n",
    "    m,n = size(A)\n",
    "    n,p = size(B)\n",
    "    size(C) == (m,p) || error(\"incorrect dimensions \", size(C), \" ≠ $m × $p\")\n",
    "    fill!(C, 0)\n",
    "    return add_matmul_rec!(m,n,p, 0,0,0, C,A,B)\n",
    "end\n",
    "\n",
    "\n",
    "matmul_rec(A, B) = matmul_rec!(Array{promote_type(eltype(A), eltype(B))}(undef,\n",
    "                                     size(A,1), size(B,2)),\n",
    "                               A, B)"
   ]
  },
  {
   "cell_type": "code",
   "execution_count": 11,
   "metadata": {},
   "outputs": [
    {
     "data": {
      "text/plain": [
       "2.0165366830864427e-13"
      ]
     },
     "execution_count": 11,
     "metadata": {},
     "output_type": "execute_result"
    }
   ],
   "source": [
    "# correctness check:\n",
    "A = rand(50,60)\n",
    "B = rand(60,70)\n",
    "norm(matmul_rec(A,B) - A * B)"
   ]
  },
  {
   "cell_type": "code",
   "execution_count": 12,
   "metadata": {},
   "outputs": [
    {
     "name": "stdout",
     "output_type": "stream",
     "text": [
      "finished n = 10: slowdown of 3.472216971795036\n",
      "finished n = 11: slowdown of 0.32224253503961\n",
      "finished n = 12: slowdown of 0.6669153301007088\n",
      "finished n = 13: slowdown of 1.1225937183383992\n",
      "finished n = 15: slowdown of 1.3642701525054466\n",
      "finished n = 16: slowdown of 1.2522306108442005\n",
      "finished n = 18: slowdown of 1.8582791033984094\n",
      "finished n = 20: slowdown of 2.5223087818696883\n",
      "finished n = 22: slowdown of 3.0793749999999998\n",
      "finished n = 24: slowdown of 0.516526657942505\n",
      "finished n = 26: slowdown of 3.44321517272522\n",
      "finished n = 29: slowdown of 3.426956955293335\n",
      "finished n = 32: slowdown of 2.7860860860860863\n",
      "finished n = 35: slowdown of 4.287430134379831\n",
      "finished n = 39: slowdown of 4.838407494145199\n",
      "finished n = 43: slowdown of 3.5849295631904328\n",
      "finished n = 47: slowdown of 4.208551157580284\n",
      "finished n = 52: slowdown of 5.854089904200442\n",
      "finished n = 57: slowdown of 3.7928937259923177\n",
      "finished n = 63: slowdown of 5.35827398189455\n",
      "finished n = 69: slowdown of 6.34808021069168\n",
      "finished n = 76: slowdown of 6.277274605689097\n",
      "finished n = 84: slowdown of 8.057160953210357\n",
      "finished n = 92: slowdown of 7.7724022359193325\n",
      "finished n = 102: slowdown of 7.148449443542319\n",
      "finished n = 112: slowdown of 9.270023371127184\n",
      "finished n = 123: slowdown of 10.030796399463856\n",
      "finished n = 136: slowdown of 10.305768556344368\n",
      "finished n = 150: slowdown of 10.268835035616025\n",
      "finished n = 165: slowdown of 11.74125955660676\n",
      "finished n = 182: slowdown of 12.008393643292079\n",
      "finished n = 200: slowdown of 11.725274814279652\n",
      "finished n = 221: slowdown of 12.375279380555488\n",
      "finished n = 243: slowdown of 11.468024162949199\n",
      "finished n = 268: slowdown of 16.669658453262432\n",
      "finished n = 295: slowdown of 13.595295644070108\n",
      "finished n = 325: slowdown of 17.89389706746693\n",
      "finished n = 358: slowdown of 19.61946671558425\n",
      "finished n = 394: slowdown of 13.506042007754662\n",
      "finished n = 434: slowdown of 13.450231945182395\n",
      "finished n = 478: slowdown of 12.73488363823279\n",
      "finished n = 526: slowdown of 10.16623205051282\n",
      "finished n = 580: slowdown of 14.596957467555614\n",
      "finished n = 639: slowdown of 15.730137477048045\n",
      "finished n = 704: slowdown of 16.910877874974993\n",
      "finished n = 775: slowdown of 15.16898588595254\n",
      "finished n = 854: slowdown of 15.860416015172655\n",
      "finished n = 940: slowdown of 15.82371122705754\n",
      "finished n = 1036: slowdown of 20.167775040071778\n",
      "finished n = 1141: slowdown of 21.87689940831508\n",
      "finished n = 1257: slowdown of 15.917320007652693\n",
      "finished n = 1384: slowdown of 18.808751668602028\n",
      "finished n = 1525: slowdown of 20.84012615656094\n",
      "finished n = 1680: slowdown of 18.57530730682306\n",
      "finished n = 1850: slowdown of 17.07525646519027\n",
      "finished n = 2038: slowdown of 20.96338275186421\n",
      "finished n = 2245: slowdown of 20.106257837873322\n",
      "finished n = 2473: slowdown of 13.839657471333997\n",
      "finished n = 2724: slowdown of 19.34377741862497\n",
      "finished n = 3000: slowdown of 16.807253693959833\n"
     ]
    }
   ],
   "source": [
    "tco = Float64[]\n",
    "for n in N\n",
    "    A = zeros(n,n)\n",
    "    B = zeros(n,n)\n",
    "    # preallocate output C so that allocation is not included in timing\n",
    "    C = zeros(n,n)\n",
    "    push!(tco, @elapsed matmul_rec!(C,A,B))\n",
    "    println(\"finished n = $n: slowdown of \", tco[end]/t0[length(tco)])\n",
    "end"
   ]
  },
  {
   "cell_type": "code",
   "execution_count": 13,
   "metadata": {},
   "outputs": [
    {
     "data": {
      "image/png": "[encoded data removed]",
      "text/plain": [
       "Figure(PyObject <Figure size 640x480 with 1 Axes>)"
      ]
     },
     "metadata": {},
     "output_type": "display_data"
    },
    {
     "data": {
      "text/plain": [
       "PyObject <matplotlib.legend.Legend object at 0x14909f6a0>"
      ]
     },
     "execution_count": 13,
     "metadata": {},
     "output_type": "execute_result"
    }
   ],
   "source": [
    "plot(N, 2N.^3 ./ t * 1e-9, \"rs-\")\n",
    "plot(N, 2N.^3 ./ tco * 1e-9, \"ko-\")\n",
    "plot(N, 2N.^3 ./ t0 * 1e-9 / 8, \"b.-\")\n",
    "ylabel(L\"gigaflops $2n^3/t$\")\n",
    "xlabel(L\"matrix size $n$\")\n",
    "legend([\"naive matmul\", \"cache-oblivious\", \"BLAS matmul / 8\"], loc=\"upper left\")"
   ]
  },
  {
   "cell_type": "markdown",
   "metadata": {},
   "source": [
    "## Matrix addition\n",
    "\n",
    "Matrix addition is an interesting case because it has no data re-use, so there is no possible temporal locality, but depending on *what order* you use for the loops and *how matrices are stored* in memory, you may or may not get **spatial locality** that takes advantage of **cache lines**.\n",
    "\n",
    "Here let's implement matrix addition in two different ways.  As above, we'll use a pre-allocated output array so that our benchmark does not include the time for memory allocation:"
   ]
  },
  {
   "cell_type": "code",
   "execution_count": 14,
   "metadata": {},
   "outputs": [
    {
     "data": {
      "text/plain": [
       "true"
      ]
     },
     "execution_count": 14,
     "metadata": {},
     "output_type": "execute_result"
    }
   ],
   "source": [
    "function matadd1!(C, A, B)\n",
    "    size(C) == size(A) == size(B) || throw(DimensionMismatchmatch())\n",
    "    m,n = size(A)\n",
    "    for i = 1:m\n",
    "        @simd for j = 1:n\n",
    "            @inbounds C[i,j] = A[i,j] + B[i,j]\n",
    "        end\n",
    "    end\n",
    "    return C\n",
    "end\n",
    "matadd1(A, B) = matadd1!(similar(A, promote_type(eltype(A), eltype(B))), A, B)\n",
    "\n",
    "function matadd2!(C, A, B)\n",
    "    size(C) == size(A) == size(B) || throw(DimensionMismatch())\n",
    "    m,n = size(A)\n",
    "    for j = 1:n\n",
    "        @simd for i = 1:m\n",
    "            @inbounds C[i,j] = A[i,j] + B[i,j]\n",
    "        end\n",
    "    end\n",
    "    return C\n",
    "end\n",
    "matadd2(A, B) = matadd2!(similar(A, promote_type(eltype(A), eltype(B))), A, B)\n",
    "\n",
    "A = rand(5,6)\n",
    "B = rand(5,6)\n",
    "A + B ≈ matadd1(A,B) ≈ matadd2(A,B)"
   ]
  },
  {
   "cell_type": "code",
   "execution_count": 15,
   "metadata": {},
   "outputs": [
    {
     "name": "stdout",
     "output_type": "stream",
     "text": [
      "finished n = 10: ratio t1/t2 of 0.15805825242718446\n",
      "finished n = 11: ratio t1/t2 of 0.3351278600269179\n",
      "finished n = 12: ratio t1/t2 of 0.6876712328767124\n",
      "finished n = 13: ratio t1/t2 of 0.9090909090909092\n",
      "finished n = 15: ratio t1/t2 of 1.1986301369863013\n",
      "finished n = 16: ratio t1/t2 of 1.1702786377708978\n",
      "finished n = 18: ratio t1/t2 of 1.0050632911392405\n",
      "finished n = 20: ratio t1/t2 of 1.0904645476772616\n",
      "finished n = 22: ratio t1/t2 of 1.0836909871244635\n",
      "finished n = 24: ratio t1/t2 of 1.1186770428015564\n",
      "finished n = 26: ratio t1/t2 of 1.1506129597197898\n",
      "finished n = 29: ratio t1/t2 of 1.0486486486486486\n",
      "finished n = 32: ratio t1/t2 of 1.9469387755102043\n",
      "finished n = 35: ratio t1/t2 of 1.721875\n",
      "finished n = 39: ratio t1/t2 of 1.8361581920903953\n",
      "finished n = 43: ratio t1/t2 of 2.2688995215311003\n",
      "finished n = 47: ratio t1/t2 of 2.0538585209003215\n",
      "finished n = 52: ratio t1/t2 of 3.3249097472924185\n",
      "finished n = 57: ratio t1/t2 of 2.8704896907216493\n",
      "finished n = 63: ratio t1/t2 of 2.4670781893004117\n",
      "finished n = 69: ratio t1/t2 of 2.9597207303974225\n",
      "finished n = 76: ratio t1/t2 of 3.7327623126338323\n",
      "finished n = 84: ratio t1/t2 of 4.182059046177139\n",
      "finished n = 92: ratio t1/t2 of 3.7060219519430437\n",
      "finished n = 102: ratio t1/t2 of 2.758006230529595\n",
      "finished n = 112: ratio t1/t2 of 7.370664023785926\n",
      "finished n = 123: ratio t1/t2 of 1.8141901119912593\n",
      "finished n = 136: ratio t1/t2 of 2.6317996129864545\n",
      "finished n = 150: ratio t1/t2 of 2.6632471008028546\n",
      "finished n = 165: ratio t1/t2 of 2.772101288316304\n",
      "finished n = 182: ratio t1/t2 of 3.080758017492711\n",
      "finished n = 200: ratio t1/t2 of 4.2485065710872165\n",
      "finished n = 221: ratio t1/t2 of 2.4792478228059798\n",
      "finished n = 243: ratio t1/t2 of 2.2110259826782146\n",
      "finished n = 268: ratio t1/t2 of 4.9683016838966685\n",
      "finished n = 295: ratio t1/t2 of 2.6400480676574953\n",
      "finished n = 325: ratio t1/t2 of 2.9184341280729726\n",
      "finished n = 358: ratio t1/t2 of 5.128966914247131\n",
      "finished n = 394: ratio t1/t2 of 5.370565346761272\n",
      "finished n = 434: ratio t1/t2 of 8.57092933879127\n",
      "finished n = 478: ratio t1/t2 of 4.552908773267625\n",
      "finished n = 526: ratio t1/t2 of 6.5363296386549194\n",
      "finished n = 580: ratio t1/t2 of 11.500002368904807\n",
      "finished n = 639: ratio t1/t2 of 7.199495346737966\n",
      "finished n = 704: ratio t1/t2 of 21.165214127447303\n",
      "finished n = 775: ratio t1/t2 of 17.223620937499483\n",
      "finished n = 854: ratio t1/t2 of 16.726315090096303\n",
      "finished n = 940: ratio t1/t2 of 16.42796625526003\n",
      "finished n = 1036: ratio t1/t2 of 17.20009548253645\n",
      "finished n = 1141: ratio t1/t2 of 15.704666018406456\n",
      "finished n = 1257: ratio t1/t2 of 15.870783279832432\n",
      "finished n = 1384: ratio t1/t2 of 15.894959942604329\n",
      "finished n = 1525: ratio t1/t2 of 16.823036991419656\n",
      "finished n = 1680: ratio t1/t2 of 17.368157030931\n",
      "finished n = 1850: ratio t1/t2 of 11.941348736831042\n",
      "finished n = 2038: ratio t1/t2 of 11.88603132813835\n",
      "finished n = 2245: ratio t1/t2 of 11.108724783987602\n",
      "finished n = 2473: ratio t1/t2 of 18.168830288405243\n",
      "finished n = 2724: ratio t1/t2 of 11.702118726684756\n",
      "finished n = 3000: ratio t1/t2 of 18.562844813890802\n"
     ]
    }
   ],
   "source": [
    "Na = round.(Int, 10 .^ range(1, log10(3000), length=60))  # 60 sizes from 10 to 3000\n",
    "# alternatively, use N = 10:1000 to see some interesting patterns due to cache associativity etc.\n",
    "t1 = Float64[]\n",
    "t2 = Float64[]\n",
    "for n in Na\n",
    "    A = zeros(n,n)\n",
    "    B = zeros(n,n)\n",
    "    # preallocate output C so that allocation is not included in timing\n",
    "    C = zeros(n,n)\n",
    "    matadd1!(C,A,B) # add once just to make sure we are in cache if A and B are small\n",
    "    push!(t1, @elapsed matadd1!(C,A,B))\n",
    "    push!(t2, @elapsed matadd2!(C,A,B))\n",
    "    println(\"finished n = $n: ratio t1/t2 of \", t1[end]/t2[end])\n",
    "end"
   ]
  },
  {
   "cell_type": "code",
   "execution_count": 16,
   "metadata": {},
   "outputs": [
    {
     "data": {
      "image/png": "[encoded data removed]",
      "text/plain": [
       "Figure(PyObject <Figure size 640x480 with 1 Axes>)"
      ]
     },
     "metadata": {},
     "output_type": "display_data"
    },
    {
     "data": {
      "text/plain": [
       "PyObject <matplotlib.legend.Legend object at 0x11fde3710>"
      ]
     },
     "execution_count": 16,
     "metadata": {},
     "output_type": "execute_result"
    }
   ],
   "source": [
    "plot(Na, Na.^2 ./ t1 * 1e-9, \"rs-\")\n",
    "plot(Na, Na.^2 ./ t2 * 1e-9, \"bo-\")\n",
    "xlabel(L\"matrix size $n$\")\n",
    "ylabel(L\"gigaflops $n^2/t$\")\n",
    "legend([\"by row\", \"by column\"])"
   ]
  },
  {
   "cell_type": "code",
   "execution_count": 17,
   "metadata": {},
   "outputs": [
    {
     "data": {
      "image/png": "[encoded data removed]",
      "text/plain": [
       "Figure(PyObject <Figure size 640x480 with 1 Axes>)"
      ]
     },
     "metadata": {},
     "output_type": "display_data"
    },
    {
     "data": {
      "text/plain": [
       "PyObject Text(0.5, 1.0, 'ratio of matrix-addition algorithms')"
      ]
     },
     "execution_count": 17,
     "metadata": {},
     "output_type": "execute_result"
    }
   ],
   "source": [
    "plot(Na, t1 ./ t2, \"rs-\")\n",
    "xlabel(L\"matrix size $n$\")\n",
    "ylabel(\"by row time / by column time\")\n",
    "title(\"ratio of matrix-addition algorithms\")"
   ]
  },
  {
   "cell_type": "markdown",
   "metadata": {},
   "source": [
    "We can see that addition is about ***20 times slower*** if we add by rows rather than by columns.\n",
    "\n",
    "The reason for this is that **Julia stores matrices with consecutive columns**, which is known as **column-major storage** format."
   ]
  },
  {
   "cell_type": "markdown",
   "metadata": {},
   "source": [
    "## Other examples: vectorized vs. devectorized operations\n",
    "\n",
    "Another example of the importance of spatial locality can be seen in vectorized operations.  For more information on this subject, see the blog post:\n",
    "\n",
    "* [More Dots: Syntactic Loop Fusion in Julia](https://julialang.org/blog/2017/01/moredots)\n",
    "\n",
    "Consider the following function, which computes $f(x) = 2x^2 - 3x + 4$ *element-wise* for an array of $x$ values:"
   ]
  },
  {
   "cell_type": "code",
   "execution_count": 23,
   "metadata": {},
   "outputs": [],
   "source": [
    "f_vec(x) = 2 * x.^2 .- 3 * x .+ 4\n",
    "f_devec(X) = f_vec.(X)\n",
    "\n",
    "X = rand(10^6);"
   ]
  },
  {
   "cell_type": "code",
   "execution_count": 25,
   "metadata": {},
   "outputs": [
    {
     "name": "stdout",
     "output_type": "stream",
     "text": [
      "  7.122 ms (9 allocations: 30.52 MiB)\n"
     ]
    }
   ],
   "source": [
    "@btime f_vec($X);"
   ]
  },
  {
   "cell_type": "code",
   "execution_count": 26,
   "metadata": {},
   "outputs": [
    {
     "name": "stdout",
     "output_type": "stream",
     "text": [
      "  1.310 ms (2 allocations: 7.63 MiB)\n"
     ]
    }
   ],
   "source": [
    "@btime f_devec($X);"
   ]
  },
  {
   "cell_type": "markdown",
   "metadata": {},
   "source": [
    "The `f_devec` function is about **5 times faster** than the vectorized version, and allocates about **1/4 the memory**.   That is because `f_vec` is effectively equivalent to:"
   ]
  },
  {
   "cell_type": "code",
   "execution_count": 27,
   "metadata": {},
   "outputs": [
    {
     "data": {
      "text/plain": [
       "f_vec_really (generic function with 1 method)"
      ]
     },
     "execution_count": 27,
     "metadata": {},
     "output_type": "execute_result"
    }
   ],
   "source": [
    "function f_vec_really(x)\n",
    "    tmp1 = x.^2\n",
    "    tmp2 = 2 * tmp1\n",
    "    tmp3 = 3 * x\n",
    "    tmp4 = tmp2 .- tmp3\n",
    "    tmp5 = tmp4 .+ 4\n",
    "    return tmp5\n",
    "end"
   ]
  },
  {
   "cell_type": "markdown",
   "metadata": {},
   "source": [
    "That is, each \"vectorized\" operation, like `x.^2`, while it is *individually fast*, does a *separate loop* over its data and *allocates a temporary array for the result*.  This is slow for three reasons:\n",
    "\n",
    "* It has poor temporal locality.\n",
    "* It is expensive to allocate all those temporary arrays.\n",
    "* The overhead of looping (incrementing/testing a counter, fetching elements `x[i]`, etcetera), is incurred multiple times rather than once.\n",
    "\n",
    "In Julia, there is a  syntax `2 .* x.^2 .- 3 .* x .+ 4`, or equivalently `@. 2x^2 - 3x + 4` in which the compiler is guaranteed to \"fuse\" the operations into a single loop, allocating no temporary arrays."
   ]
  },
  {
   "cell_type": "code",
   "execution_count": null,
   "metadata": {},
   "outputs": [],
   "source": []
  }
 ],
 "metadata": {
  "kernelspec": {
   "display_name": "Julia 1.1.0",
   "language": "julia",
   "name": "julia-1.1"
  },
  "language_info": {
   "file_extension": ".jl",
   "mimetype": "application/julia",
   "name": "julia",
   "version": "1.1.0"
  }
 },
 "nbformat": 4,
 "nbformat_minor": 1
}
